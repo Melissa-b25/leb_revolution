{
  "nbformat": 4,
  "nbformat_minor": 0,
  "metadata": {
    "colab": {
      "name": "Lebanese_Revolution_Tweet_Analysis.ipynb",
      "provenance": [],
      "collapsed_sections": [
        "nsQgatgTc4fl",
        "KfI32o9LdA07",
        "VI9todYOdH-D",
        "rU1g-dinda0C",
        "0N_znAZbdkgl",
        "Ccy6T7uMdyHk",
        "a1xAouWgL1YA",
        "GjlknggwLVST",
        "8JGXmJv5YEGm",
        "ua8ng77eWOmi",
        "CD7W5stZEKXm",
        "FUgr8130VROW",
        "xT0LUd6UVWT7",
        "35lzWSjcUTHB",
        "b-3vrKycLm-8",
        "kMX3JubpTrq-",
        "pA4qfBPiAgqN"
      ],
      "toc_visible": true
    },
    "kernelspec": {
      "display_name": "Python 3",
      "language": "python",
      "name": "python3"
    },
    "language_info": {
      "codemirror_mode": {
        "name": "ipython",
        "version": 3
      },
      "file_extension": ".py",
      "mimetype": "text/x-python",
      "name": "python",
      "nbconvert_exporter": "python",
      "pygments_lexer": "ipython3",
      "version": "3.8.1"
    }
  },
  "cells": [
    {
      "cell_type": "markdown",
      "metadata": {
        "id": "HNFOJ3n-flx2"
      },
      "source": [
        "## Loading the data from Drive"
      ]
    },
    {
      "cell_type": "code",
      "metadata": {
        "colab": {
          "base_uri": "https://localhost:8080/"
        },
        "id": "8h-jd6L-CFlR",
        "outputId": "5ac427e9-59ff-4153-bf65-3e0ecff11111"
      },
      "source": [
        "from google.colab import drive\n",
        "drive.mount('/content/drive')"
      ],
      "execution_count": 2,
      "outputs": [
        {
          "output_type": "stream",
          "text": [
            "Drive already mounted at /content/drive; to attempt to forcibly remount, call drive.mount(\"/content/drive\", force_remount=True).\n"
          ],
          "name": "stdout"
        }
      ]
    },
    {
      "cell_type": "markdown",
      "metadata": {
        "id": "nsQgatgTc4fl"
      },
      "source": [
        "## Forming DataFrame"
      ]
    },
    {
      "cell_type": "code",
      "metadata": {
        "colab": {
          "base_uri": "https://localhost:8080/",
          "height": 0
        },
        "id": "fzy2TbvABoGW",
        "outputId": "51d05369-d2ff-4cb1-8bc6-63c4a263064d"
      },
      "source": [
        "import json \n",
        "import pandas as pd\n",
        "srt='/content/drive/MyDrive/Thawra/'\n",
        "data_file_list= ['tweets_01_10_2019.json','tweets_02_10_2019.json', 'tweets_03_10_2019.json','tweets_04_10_2019.json',\n",
        "                 'tweets_05_10_2019.json', 'tweets_06_10_2019.json','tweets_07_10_2019.json','tweets_08_10_2019.json','tweets_09_10_2019.json',\n",
        "                'tweets_10_10_2019.json','tweets_11_10_2019.json','tweets_12_10_2019.json','tweets_13_10_2019.json','tweets_14_10_2019.json',\n",
        "                 'tweets_15_10_2019.json', 'tweets_16_10_2019.json', 'tweets_17_10_2019.json', 'tweets_18_10_2019.json', 'tweets_19_10_2019.json',\n",
        "                 'tweets_20_10_2019.json', 'tweets_21_10_2019.json','tweets_22_10_2019.json','tweets_23_10_2019.json','tweets_24_10_2019.json',\n",
        "                 'tweets_25_10_2019.json','tweets_26_10_2019.json','tweets_27_10_2019.json','tweets_28_10_2019.json','tweets_29_10_2019.json',\n",
        "                'tweets_30_10_2019.json','tweets_31_10_2019.json']\n",
        "\n",
        "data_list=[]\n",
        "for i in range(len(data_file_list)):\n",
        "  data_list.append(srt+data_file_list[i] )\n",
        "print(data_list)\n",
        "df=[]\n",
        "for data in data_list:\n",
        "  with open(data) as f:\n",
        "    df=df+json.load(f)\n",
        "dff=pd.DataFrame(df)\n",
        "dff.head()"
      ],
      "execution_count": 3,
      "outputs": [
        {
          "output_type": "stream",
          "text": [
            "['/content/drive/MyDrive/Thawra/tweets_01_10_2019.json', '/content/drive/MyDrive/Thawra/tweets_02_10_2019.json', '/content/drive/MyDrive/Thawra/tweets_03_10_2019.json', '/content/drive/MyDrive/Thawra/tweets_04_10_2019.json', '/content/drive/MyDrive/Thawra/tweets_05_10_2019.json', '/content/drive/MyDrive/Thawra/tweets_06_10_2019.json', '/content/drive/MyDrive/Thawra/tweets_07_10_2019.json', '/content/drive/MyDrive/Thawra/tweets_08_10_2019.json', '/content/drive/MyDrive/Thawra/tweets_09_10_2019.json', '/content/drive/MyDrive/Thawra/tweets_10_10_2019.json', '/content/drive/MyDrive/Thawra/tweets_11_10_2019.json', '/content/drive/MyDrive/Thawra/tweets_12_10_2019.json', '/content/drive/MyDrive/Thawra/tweets_13_10_2019.json', '/content/drive/MyDrive/Thawra/tweets_14_10_2019.json', '/content/drive/MyDrive/Thawra/tweets_15_10_2019.json', '/content/drive/MyDrive/Thawra/tweets_16_10_2019.json', '/content/drive/MyDrive/Thawra/tweets_17_10_2019.json', '/content/drive/MyDrive/Thawra/tweets_18_10_2019.json', '/content/drive/MyDrive/Thawra/tweets_19_10_2019.json', '/content/drive/MyDrive/Thawra/tweets_20_10_2019.json', '/content/drive/MyDrive/Thawra/tweets_21_10_2019.json', '/content/drive/MyDrive/Thawra/tweets_22_10_2019.json', '/content/drive/MyDrive/Thawra/tweets_23_10_2019.json', '/content/drive/MyDrive/Thawra/tweets_24_10_2019.json', '/content/drive/MyDrive/Thawra/tweets_25_10_2019.json', '/content/drive/MyDrive/Thawra/tweets_26_10_2019.json', '/content/drive/MyDrive/Thawra/tweets_27_10_2019.json', '/content/drive/MyDrive/Thawra/tweets_28_10_2019.json', '/content/drive/MyDrive/Thawra/tweets_29_10_2019.json', '/content/drive/MyDrive/Thawra/tweets_30_10_2019.json', '/content/drive/MyDrive/Thawra/tweets_31_10_2019.json']\n"
          ],
          "name": "stdout"
        },
        {
          "output_type": "execute_result",
          "data": {
            "text/html": [
              "<div>\n",
              "<style scoped>\n",
              "    .dataframe tbody tr th:only-of-type {\n",
              "        vertical-align: middle;\n",
              "    }\n",
              "\n",
              "    .dataframe tbody tr th {\n",
              "        vertical-align: top;\n",
              "    }\n",
              "\n",
              "    .dataframe thead th {\n",
              "        text-align: right;\n",
              "    }\n",
              "</style>\n",
              "<table border=\"1\" class=\"dataframe\">\n",
              "  <thead>\n",
              "    <tr style=\"text-align: right;\">\n",
              "      <th></th>\n",
              "      <th>_id</th>\n",
              "      <th>created_at</th>\n",
              "      <th>favorite_count</th>\n",
              "      <th>full_text</th>\n",
              "      <th>hashtags</th>\n",
              "      <th>language</th>\n",
              "      <th>location_id</th>\n",
              "      <th>media</th>\n",
              "      <th>mentions</th>\n",
              "      <th>possibly_sensitive</th>\n",
              "      <th>printable_text</th>\n",
              "      <th>retweet_count</th>\n",
              "      <th>symbols</th>\n",
              "      <th>tweet_type</th>\n",
              "      <th>urls</th>\n",
              "      <th>user_id</th>\n",
              "      <th>user</th>\n",
              "      <th>sentiment</th>\n",
              "    </tr>\n",
              "  </thead>\n",
              "  <tbody>\n",
              "    <tr>\n",
              "      <th>0</th>\n",
              "      <td>1178829653328351232</td>\n",
              "      <td>2019-10-01 00:31:05</td>\n",
              "      <td>0</td>\n",
              "      <td>RT @Roudy_Hanna: thinking about life and about...</td>\n",
              "      <td>[]</td>\n",
              "      <td>en</td>\n",
              "      <td>NaN</td>\n",
              "      <td>[]</td>\n",
              "      <td>[206330658]</td>\n",
              "      <td>False</td>\n",
              "      <td>RT @Roudy_Hanna: thinking about life and about...</td>\n",
              "      <td>59</td>\n",
              "      <td>[]</td>\n",
              "      <td>{'type': 'tweet', 'source_id': None}</td>\n",
              "      <td>[]</td>\n",
              "      <td>1164606204812902401</td>\n",
              "      <td>{'_id': 1164606204812902401, 'created_at': '20...</td>\n",
              "      <td>NaN</td>\n",
              "    </tr>\n",
              "    <tr>\n",
              "      <th>1</th>\n",
              "      <td>1178831336813088768</td>\n",
              "      <td>2019-10-01 00:37:46</td>\n",
              "      <td>0</td>\n",
              "      <td>RT @BenDonoghue1234: Guy robbed a bottle of vo...</td>\n",
              "      <td>[]</td>\n",
              "      <td>en</td>\n",
              "      <td>NaN</td>\n",
              "      <td>[1178348651107819520]</td>\n",
              "      <td>[246017701]</td>\n",
              "      <td>False</td>\n",
              "      <td>RT @BenDonoghue1234: Guy robbed a bottle of vo...</td>\n",
              "      <td>20071</td>\n",
              "      <td>[]</td>\n",
              "      <td>{'type': 'tweet', 'source_id': None}</td>\n",
              "      <td>[]</td>\n",
              "      <td>269282778</td>\n",
              "      <td>{'_id': 269282778, 'created_at': '2011-03-20 1...</td>\n",
              "      <td>NaN</td>\n",
              "    </tr>\n",
              "    <tr>\n",
              "      <th>2</th>\n",
              "      <td>1178835412770537472</td>\n",
              "      <td>2019-10-01 00:53:58</td>\n",
              "      <td>0</td>\n",
              "      <td>RT @ZeroAlii: I’m never deleting this app. htt...</td>\n",
              "      <td>[]</td>\n",
              "      <td>en</td>\n",
              "      <td>NaN</td>\n",
              "      <td>[1178447510496563201]</td>\n",
              "      <td>[]</td>\n",
              "      <td>False</td>\n",
              "      <td>RT @ZeroAlii: I’m never deleting this app.</td>\n",
              "      <td>39801</td>\n",
              "      <td>[]</td>\n",
              "      <td>{'type': 'tweet', 'source_id': None}</td>\n",
              "      <td>[]</td>\n",
              "      <td>269282778</td>\n",
              "      <td>{'_id': 269282778, 'created_at': '2011-03-20 1...</td>\n",
              "      <td>NaN</td>\n",
              "    </tr>\n",
              "    <tr>\n",
              "      <th>3</th>\n",
              "      <td>1178836326877024256</td>\n",
              "      <td>2019-10-01 00:57:36</td>\n",
              "      <td>7</td>\n",
              "      <td>Let the @saadhariri jokes begin.</td>\n",
              "      <td>[]</td>\n",
              "      <td>en</td>\n",
              "      <td>NaN</td>\n",
              "      <td>[]</td>\n",
              "      <td>[79942437]</td>\n",
              "      <td>False</td>\n",
              "      <td>Let the @saadhariri jokes begin.</td>\n",
              "      <td>0</td>\n",
              "      <td>[]</td>\n",
              "      <td>{'type': 'tweet', 'source_id': None}</td>\n",
              "      <td>[]</td>\n",
              "      <td>965972058277588992</td>\n",
              "      <td>{'_id': 965972058277588992, 'created_at': '201...</td>\n",
              "      <td>NaN</td>\n",
              "    </tr>\n",
              "    <tr>\n",
              "      <th>4</th>\n",
              "      <td>1178844317126819840</td>\n",
              "      <td>2019-10-01 01:29:21</td>\n",
              "      <td>5971</td>\n",
              "      <td>A sitting president threatening civil war if C...</td>\n",
              "      <td>[]</td>\n",
              "      <td>en</td>\n",
              "      <td>NaN</td>\n",
              "      <td>[]</td>\n",
              "      <td>[]</td>\n",
              "      <td>False</td>\n",
              "      <td>A sitting president threatening civil war if C...</td>\n",
              "      <td>1854</td>\n",
              "      <td>[]</td>\n",
              "      <td>{'type': 'tweet', 'source_id': None}</td>\n",
              "      <td>[https://www.cbsnews.com/news/trump-civil-war-...</td>\n",
              "      <td>148529707</td>\n",
              "      <td>{'_id': 148529707, 'created_at': '2010-05-26 2...</td>\n",
              "      <td>NaN</td>\n",
              "    </tr>\n",
              "  </tbody>\n",
              "</table>\n",
              "</div>"
            ],
            "text/plain": [
              "                   _id  ... sentiment\n",
              "0  1178829653328351232  ...       NaN\n",
              "1  1178831336813088768  ...       NaN\n",
              "2  1178835412770537472  ...       NaN\n",
              "3  1178836326877024256  ...       NaN\n",
              "4  1178844317126819840  ...       NaN\n",
              "\n",
              "[5 rows x 18 columns]"
            ]
          },
          "metadata": {
            "tags": []
          },
          "execution_count": 3
        }
      ]
    },
    {
      "cell_type": "code",
      "metadata": {
        "colab": {
          "base_uri": "https://localhost:8080/"
        },
        "id": "inziWGJljd9e",
        "outputId": "2bda41b3-739a-4b78-ccc6-89bed0ca9778"
      },
      "source": [
        "dff.info()"
      ],
      "execution_count": 4,
      "outputs": [
        {
          "output_type": "stream",
          "text": [
            "<class 'pandas.core.frame.DataFrame'>\n",
            "RangeIndex: 51422 entries, 0 to 51421\n",
            "Data columns (total 18 columns):\n",
            " #   Column              Non-Null Count  Dtype  \n",
            "---  ------              --------------  -----  \n",
            " 0   _id                 51422 non-null  int64  \n",
            " 1   created_at          51422 non-null  object \n",
            " 2   favorite_count      51422 non-null  int64  \n",
            " 3   full_text           51422 non-null  object \n",
            " 4   hashtags            51422 non-null  object \n",
            " 5   language            51422 non-null  object \n",
            " 6   location_id         0 non-null      float64\n",
            " 7   media               51422 non-null  object \n",
            " 8   mentions            51422 non-null  object \n",
            " 9   possibly_sensitive  51422 non-null  bool   \n",
            " 10  printable_text      51422 non-null  object \n",
            " 11  retweet_count       51422 non-null  int64  \n",
            " 12  symbols             51422 non-null  object \n",
            " 13  tweet_type          51422 non-null  object \n",
            " 14  urls                51422 non-null  object \n",
            " 15  user_id             51422 non-null  int64  \n",
            " 16  user                51422 non-null  object \n",
            " 17  sentiment           43176 non-null  object \n",
            "dtypes: bool(1), float64(1), int64(4), object(12)\n",
            "memory usage: 6.7+ MB\n"
          ],
          "name": "stdout"
        }
      ]
    },
    {
      "cell_type": "markdown",
      "metadata": {
        "id": "KfI32o9LdA07"
      },
      "source": [
        "## Keeping only arabic tweets"
      ]
    },
    {
      "cell_type": "code",
      "metadata": {
        "colab": {
          "base_uri": "https://localhost:8080/"
        },
        "id": "1_ush-WSoKgD",
        "outputId": "80bd6f0e-17ab-4e2e-a558-ff69e227b1fd"
      },
      "source": [
        "dff=dff[dff.language =='ar']\n",
        "dff.info()"
      ],
      "execution_count": 5,
      "outputs": [
        {
          "output_type": "stream",
          "text": [
            "<class 'pandas.core.frame.DataFrame'>\n",
            "Int64Index: 37187 entries, 7 to 51416\n",
            "Data columns (total 18 columns):\n",
            " #   Column              Non-Null Count  Dtype  \n",
            "---  ------              --------------  -----  \n",
            " 0   _id                 37187 non-null  int64  \n",
            " 1   created_at          37187 non-null  object \n",
            " 2   favorite_count      37187 non-null  int64  \n",
            " 3   full_text           37187 non-null  object \n",
            " 4   hashtags            37187 non-null  object \n",
            " 5   language            37187 non-null  object \n",
            " 6   location_id         0 non-null      float64\n",
            " 7   media               37187 non-null  object \n",
            " 8   mentions            37187 non-null  object \n",
            " 9   possibly_sensitive  37187 non-null  bool   \n",
            " 10  printable_text      37187 non-null  object \n",
            " 11  retweet_count       37187 non-null  int64  \n",
            " 12  symbols             37187 non-null  object \n",
            " 13  tweet_type          37187 non-null  object \n",
            " 14  urls                37187 non-null  object \n",
            " 15  user_id             37187 non-null  int64  \n",
            " 16  user                37187 non-null  object \n",
            " 17  sentiment           35573 non-null  object \n",
            "dtypes: bool(1), float64(1), int64(4), object(12)\n",
            "memory usage: 5.1+ MB\n"
          ],
          "name": "stdout"
        }
      ]
    },
    {
      "cell_type": "code",
      "metadata": {
        "colab": {
          "base_uri": "https://localhost:8080/"
        },
        "id": "6ubYMat0u4_k",
        "outputId": "30972a77-e7a5-4815-a8ff-dc57aaf4aa74"
      },
      "source": [
        "df=dff.drop(['_id','urls','symbols','possibly_sensitive','media' , 'location_id'], axis=1)\n",
        "df.info()"
      ],
      "execution_count": 6,
      "outputs": [
        {
          "output_type": "stream",
          "text": [
            "<class 'pandas.core.frame.DataFrame'>\n",
            "Int64Index: 37187 entries, 7 to 51416\n",
            "Data columns (total 12 columns):\n",
            " #   Column          Non-Null Count  Dtype \n",
            "---  ------          --------------  ----- \n",
            " 0   created_at      37187 non-null  object\n",
            " 1   favorite_count  37187 non-null  int64 \n",
            " 2   full_text       37187 non-null  object\n",
            " 3   hashtags        37187 non-null  object\n",
            " 4   language        37187 non-null  object\n",
            " 5   mentions        37187 non-null  object\n",
            " 6   printable_text  37187 non-null  object\n",
            " 7   retweet_count   37187 non-null  int64 \n",
            " 8   tweet_type      37187 non-null  object\n",
            " 9   user_id         37187 non-null  int64 \n",
            " 10  user            37187 non-null  object\n",
            " 11  sentiment       35573 non-null  object\n",
            "dtypes: int64(3), object(9)\n",
            "memory usage: 3.7+ MB\n"
          ],
          "name": "stdout"
        }
      ]
    },
    {
      "cell_type": "markdown",
      "metadata": {
        "id": "VI9todYOdH-D"
      },
      "source": [
        "## Flattening the DataFrame\r\n",
        "(it contained dictionaries in some columns, so the dictionary keys are turned into columns of the dataframe)"
      ]
    },
    {
      "cell_type": "code",
      "metadata": {
        "colab": {
          "base_uri": "https://localhost:8080/"
        },
        "id": "SJvF0tbhAVCd",
        "outputId": "f2663b7b-99ee-465e-a6c8-a25b377cb584"
      },
      "source": [
        "df1=df.drop(['tweet_type', 'user_id', 'user'],axis=1)\r\n",
        "df1['tweet_time']=df1['created_at']\r\n",
        "df1=df1.drop(['created_at'], axis=1)\r\n",
        "df1.info()"
      ],
      "execution_count": 7,
      "outputs": [
        {
          "output_type": "stream",
          "text": [
            "<class 'pandas.core.frame.DataFrame'>\n",
            "Int64Index: 37187 entries, 7 to 51416\n",
            "Data columns (total 9 columns):\n",
            " #   Column          Non-Null Count  Dtype \n",
            "---  ------          --------------  ----- \n",
            " 0   favorite_count  37187 non-null  int64 \n",
            " 1   full_text       37187 non-null  object\n",
            " 2   hashtags        37187 non-null  object\n",
            " 3   language        37187 non-null  object\n",
            " 4   mentions        37187 non-null  object\n",
            " 5   printable_text  37187 non-null  object\n",
            " 6   retweet_count   37187 non-null  int64 \n",
            " 7   sentiment       35573 non-null  object\n",
            " 8   tweet_time      37187 non-null  object\n",
            "dtypes: int64(2), object(7)\n",
            "memory usage: 2.8+ MB\n"
          ],
          "name": "stdout"
        }
      ]
    },
    {
      "cell_type": "code",
      "metadata": {
        "colab": {
          "base_uri": "https://localhost:8080/"
        },
        "id": "rKIfZYnGmwVH",
        "outputId": "a5f6d0cb-9cf1-41c3-824f-48a853fb876d"
      },
      "source": [
        "df2=pd.json_normalize(df['user'])\r\n",
        "df2['account_type']=df2['type']\r\n",
        "df2.drop(['type', 'tags','profile_image_url', 'description'], axis=1)\r\n",
        "df2.info()"
      ],
      "execution_count": 8,
      "outputs": [
        {
          "output_type": "stream",
          "text": [
            "<class 'pandas.core.frame.DataFrame'>\n",
            "RangeIndex: 37187 entries, 0 to 37186\n",
            "Data columns (total 16 columns):\n",
            " #   Column             Non-Null Count  Dtype \n",
            "---  ------             --------------  ----- \n",
            " 0   _id                37187 non-null  int64 \n",
            " 1   created_at         37187 non-null  object\n",
            " 2   description        37187 non-null  object\n",
            " 3   favorite_count     37187 non-null  int64 \n",
            " 4   followers_count    37187 non-null  int64 \n",
            " 5   following_count    37187 non-null  int64 \n",
            " 6   location           37187 non-null  object\n",
            " 7   name               37187 non-null  object\n",
            " 8   profile_image_url  37187 non-null  object\n",
            " 9   tweets_count       37187 non-null  int64 \n",
            " 10  username           37187 non-null  object\n",
            " 11  verified           37187 non-null  bool  \n",
            " 12  tags               36153 non-null  object\n",
            " 13  following          4570 non-null   object\n",
            " 14  type               37187 non-null  object\n",
            " 15  account_type       37187 non-null  object\n",
            "dtypes: bool(1), int64(5), object(10)\n",
            "memory usage: 4.3+ MB\n"
          ],
          "name": "stdout"
        }
      ]
    },
    {
      "cell_type": "code",
      "metadata": {
        "colab": {
          "base_uri": "https://localhost:8080/"
        },
        "id": "ovjj7K4L4cQO",
        "outputId": "a8aa4dc2-09a9-499b-c1f8-834d98597261"
      },
      "source": [
        "\r\n",
        "df2['profile_creation_date']=df2['created_at']\r\n",
        "df2=df2.drop(['created_at'],axis=1)\r\n",
        "df2.info()"
      ],
      "execution_count": 9,
      "outputs": [
        {
          "output_type": "stream",
          "text": [
            "<class 'pandas.core.frame.DataFrame'>\n",
            "RangeIndex: 37187 entries, 0 to 37186\n",
            "Data columns (total 16 columns):\n",
            " #   Column                 Non-Null Count  Dtype \n",
            "---  ------                 --------------  ----- \n",
            " 0   _id                    37187 non-null  int64 \n",
            " 1   description            37187 non-null  object\n",
            " 2   favorite_count         37187 non-null  int64 \n",
            " 3   followers_count        37187 non-null  int64 \n",
            " 4   following_count        37187 non-null  int64 \n",
            " 5   location               37187 non-null  object\n",
            " 6   name                   37187 non-null  object\n",
            " 7   profile_image_url      37187 non-null  object\n",
            " 8   tweets_count           37187 non-null  int64 \n",
            " 9   username               37187 non-null  object\n",
            " 10  verified               37187 non-null  bool  \n",
            " 11  tags                   36153 non-null  object\n",
            " 12  following              4570 non-null   object\n",
            " 13  type                   37187 non-null  object\n",
            " 14  account_type           37187 non-null  object\n",
            " 15  profile_creation_date  37187 non-null  object\n",
            "dtypes: bool(1), int64(5), object(10)\n",
            "memory usage: 4.3+ MB\n"
          ],
          "name": "stdout"
        }
      ]
    },
    {
      "cell_type": "code",
      "metadata": {
        "colab": {
          "base_uri": "https://localhost:8080/"
        },
        "id": "a2gVkUJW4o39",
        "outputId": "4e8127ca-0482-41d8-9884-e3e9626e74a1"
      },
      "source": [
        "df3=pd.json_normalize(df['tweet_type'])\r\n",
        "df3['tweet_type']=df3['type']\r\n",
        "df3=df3.drop('type',axis=1)\r\n",
        "df3.info()"
      ],
      "execution_count": 10,
      "outputs": [
        {
          "output_type": "stream",
          "text": [
            "<class 'pandas.core.frame.DataFrame'>\n",
            "RangeIndex: 37187 entries, 0 to 37186\n",
            "Data columns (total 2 columns):\n",
            " #   Column      Non-Null Count  Dtype  \n",
            "---  ------      --------------  -----  \n",
            " 0   source_id   4777 non-null   float64\n",
            " 1   tweet_type  37187 non-null  object \n",
            "dtypes: float64(1), object(1)\n",
            "memory usage: 581.2+ KB\n"
          ],
          "name": "stdout"
        }
      ]
    },
    {
      "cell_type": "markdown",
      "metadata": {
        "id": "rU1g-dinda0C"
      },
      "source": [
        "## Joining the resulting Data frames\r\n"
      ]
    },
    {
      "cell_type": "code",
      "metadata": {
        "colab": {
          "base_uri": "https://localhost:8080/",
          "height": 0
        },
        "id": "ABbHrsMm5wez",
        "outputId": "e7dda27b-b2fa-4602-b0e4-6faba7d7a989"
      },
      "source": [
        "dff=pd.concat([df1,df2,df3], axis=1)\r\n",
        "dff.info()\r\n",
        "dff"
      ],
      "execution_count": 11,
      "outputs": [
        {
          "output_type": "stream",
          "text": [
            "<class 'pandas.core.frame.DataFrame'>\n",
            "Int64Index: 47081 entries, 0 to 51416\n",
            "Data columns (total 27 columns):\n",
            " #   Column                 Non-Null Count  Dtype  \n",
            "---  ------                 --------------  -----  \n",
            " 0   favorite_count         37187 non-null  float64\n",
            " 1   full_text              37187 non-null  object \n",
            " 2   hashtags               37187 non-null  object \n",
            " 3   language               37187 non-null  object \n",
            " 4   mentions               37187 non-null  object \n",
            " 5   printable_text         37187 non-null  object \n",
            " 6   retweet_count          37187 non-null  float64\n",
            " 7   sentiment              35573 non-null  object \n",
            " 8   tweet_time             37187 non-null  object \n",
            " 9   _id                    37187 non-null  float64\n",
            " 10  description            37187 non-null  object \n",
            " 11  favorite_count         37187 non-null  float64\n",
            " 12  followers_count        37187 non-null  float64\n",
            " 13  following_count        37187 non-null  float64\n",
            " 14  location               37187 non-null  object \n",
            " 15  name                   37187 non-null  object \n",
            " 16  profile_image_url      37187 non-null  object \n",
            " 17  tweets_count           37187 non-null  float64\n",
            " 18  username               37187 non-null  object \n",
            " 19  verified               37187 non-null  object \n",
            " 20  tags                   36153 non-null  object \n",
            " 21  following              4570 non-null   object \n",
            " 22  type                   37187 non-null  object \n",
            " 23  account_type           37187 non-null  object \n",
            " 24  profile_creation_date  37187 non-null  object \n",
            " 25  source_id              4777 non-null   float64\n",
            " 26  tweet_type             37187 non-null  object \n",
            "dtypes: float64(8), object(19)\n",
            "memory usage: 10.1+ MB\n"
          ],
          "name": "stdout"
        },
        {
          "output_type": "execute_result",
          "data": {
            "text/html": [
              "<div>\n",
              "<style scoped>\n",
              "    .dataframe tbody tr th:only-of-type {\n",
              "        vertical-align: middle;\n",
              "    }\n",
              "\n",
              "    .dataframe tbody tr th {\n",
              "        vertical-align: top;\n",
              "    }\n",
              "\n",
              "    .dataframe thead th {\n",
              "        text-align: right;\n",
              "    }\n",
              "</style>\n",
              "<table border=\"1\" class=\"dataframe\">\n",
              "  <thead>\n",
              "    <tr style=\"text-align: right;\">\n",
              "      <th></th>\n",
              "      <th>favorite_count</th>\n",
              "      <th>full_text</th>\n",
              "      <th>hashtags</th>\n",
              "      <th>language</th>\n",
              "      <th>mentions</th>\n",
              "      <th>printable_text</th>\n",
              "      <th>retweet_count</th>\n",
              "      <th>sentiment</th>\n",
              "      <th>tweet_time</th>\n",
              "      <th>_id</th>\n",
              "      <th>description</th>\n",
              "      <th>favorite_count</th>\n",
              "      <th>followers_count</th>\n",
              "      <th>following_count</th>\n",
              "      <th>location</th>\n",
              "      <th>name</th>\n",
              "      <th>profile_image_url</th>\n",
              "      <th>tweets_count</th>\n",
              "      <th>username</th>\n",
              "      <th>verified</th>\n",
              "      <th>tags</th>\n",
              "      <th>following</th>\n",
              "      <th>type</th>\n",
              "      <th>account_type</th>\n",
              "      <th>profile_creation_date</th>\n",
              "      <th>source_id</th>\n",
              "      <th>tweet_type</th>\n",
              "    </tr>\n",
              "  </thead>\n",
              "  <tbody>\n",
              "    <tr>\n",
              "      <th>0</th>\n",
              "      <td>NaN</td>\n",
              "      <td>NaN</td>\n",
              "      <td>NaN</td>\n",
              "      <td>NaN</td>\n",
              "      <td>NaN</td>\n",
              "      <td>NaN</td>\n",
              "      <td>NaN</td>\n",
              "      <td>NaN</td>\n",
              "      <td>NaN</td>\n",
              "      <td>418832877.0</td>\n",
              "      <td>...Don't follow me because I don't even know w...</td>\n",
              "      <td>8240.0</td>\n",
              "      <td>231.0</td>\n",
              "      <td>647.0</td>\n",
              "      <td></td>\n",
              "      <td>Rαϝιƈ Sαʅҽɱ</td>\n",
              "      <td>http://pbs.twimg.com/profile_images/1227442794...</td>\n",
              "      <td>2623.0</td>\n",
              "      <td>raficsalem</td>\n",
              "      <td>False</td>\n",
              "      <td>[]</td>\n",
              "      <td>[1206066794450079744, 2967345436, 118477750125...</td>\n",
              "      <td>[Personal User]</td>\n",
              "      <td>[Personal User]</td>\n",
              "      <td>2011-11-22 16:41:45</td>\n",
              "      <td>NaN</td>\n",
              "      <td>tweet</td>\n",
              "    </tr>\n",
              "    <tr>\n",
              "      <th>1</th>\n",
              "      <td>NaN</td>\n",
              "      <td>NaN</td>\n",
              "      <td>NaN</td>\n",
              "      <td>NaN</td>\n",
              "      <td>NaN</td>\n",
              "      <td>NaN</td>\n",
              "      <td>NaN</td>\n",
              "      <td>NaN</td>\n",
              "      <td>NaN</td>\n",
              "      <td>46863574.0</td>\n",
              "      <td>... and will always be the voice of freedom .....</td>\n",
              "      <td>455.0</td>\n",
              "      <td>1449001.0</td>\n",
              "      <td>73.0</td>\n",
              "      <td>Naccache, Lebanon</td>\n",
              "      <td>MTV Lebanon</td>\n",
              "      <td>http://pbs.twimg.com/profile_images/1217009489...</td>\n",
              "      <td>54338.0</td>\n",
              "      <td>mtvlebanon</td>\n",
              "      <td>True</td>\n",
              "      <td>[Feed/News]</td>\n",
              "      <td>NaN</td>\n",
              "      <td>[Feed/News]</td>\n",
              "      <td>[Feed/News]</td>\n",
              "      <td>2009-06-13 10:17:45</td>\n",
              "      <td>NaN</td>\n",
              "      <td>tweet</td>\n",
              "    </tr>\n",
              "    <tr>\n",
              "      <th>2</th>\n",
              "      <td>NaN</td>\n",
              "      <td>NaN</td>\n",
              "      <td>NaN</td>\n",
              "      <td>NaN</td>\n",
              "      <td>NaN</td>\n",
              "      <td>NaN</td>\n",
              "      <td>NaN</td>\n",
              "      <td>NaN</td>\n",
              "      <td>NaN</td>\n",
              "      <td>298545362.0</td>\n",
              "      <td>𝐍𝐞𝐰𝐬 𝐀𝐧𝐜𝐡𝐨𝐫 &amp; 𝐑𝐞𝐩𝐨𝐫𝐭𝐞𝐫 @LBCiLebanon ⁣\\n𝐌𝐞𝐝𝐢𝐚 𝐓...</td>\n",
              "      <td>2273.0</td>\n",
              "      <td>224557.0</td>\n",
              "      <td>7723.0</td>\n",
              "      <td></td>\n",
              "      <td>Bassam Abou Zeid</td>\n",
              "      <td>http://pbs.twimg.com/profile_images/1154824859...</td>\n",
              "      <td>21567.0</td>\n",
              "      <td>BassamAbouZeid</td>\n",
              "      <td>True</td>\n",
              "      <td>[Professional User/ TV Channel]</td>\n",
              "      <td>NaN</td>\n",
              "      <td>[Professional User/ TV Channel]</td>\n",
              "      <td>[Professional User/ TV Channel]</td>\n",
              "      <td>2011-05-14 14:14:19</td>\n",
              "      <td>NaN</td>\n",
              "      <td>tweet</td>\n",
              "    </tr>\n",
              "    <tr>\n",
              "      <th>3</th>\n",
              "      <td>NaN</td>\n",
              "      <td>NaN</td>\n",
              "      <td>NaN</td>\n",
              "      <td>NaN</td>\n",
              "      <td>NaN</td>\n",
              "      <td>NaN</td>\n",
              "      <td>NaN</td>\n",
              "      <td>NaN</td>\n",
              "      <td>NaN</td>\n",
              "      <td>298545362.0</td>\n",
              "      <td>𝐍𝐞𝐰𝐬 𝐀𝐧𝐜𝐡𝐨𝐫 &amp; 𝐑𝐞𝐩𝐨𝐫𝐭𝐞𝐫 @LBCiLebanon ⁣\\n𝐌𝐞𝐝𝐢𝐚 𝐓...</td>\n",
              "      <td>2273.0</td>\n",
              "      <td>224557.0</td>\n",
              "      <td>7723.0</td>\n",
              "      <td></td>\n",
              "      <td>Bassam Abou Zeid</td>\n",
              "      <td>http://pbs.twimg.com/profile_images/1154824859...</td>\n",
              "      <td>21567.0</td>\n",
              "      <td>BassamAbouZeid</td>\n",
              "      <td>True</td>\n",
              "      <td>[Professional User/ TV Channel]</td>\n",
              "      <td>NaN</td>\n",
              "      <td>[Professional User/ TV Channel]</td>\n",
              "      <td>[Professional User/ TV Channel]</td>\n",
              "      <td>2011-05-14 14:14:19</td>\n",
              "      <td>1.178901e+18</td>\n",
              "      <td>reply</td>\n",
              "    </tr>\n",
              "    <tr>\n",
              "      <th>4</th>\n",
              "      <td>NaN</td>\n",
              "      <td>NaN</td>\n",
              "      <td>NaN</td>\n",
              "      <td>NaN</td>\n",
              "      <td>NaN</td>\n",
              "      <td>NaN</td>\n",
              "      <td>NaN</td>\n",
              "      <td>NaN</td>\n",
              "      <td>NaN</td>\n",
              "      <td>298545362.0</td>\n",
              "      <td>𝐍𝐞𝐰𝐬 𝐀𝐧𝐜𝐡𝐨𝐫 &amp; 𝐑𝐞𝐩𝐨𝐫𝐭𝐞𝐫 @LBCiLebanon ⁣\\n𝐌𝐞𝐝𝐢𝐚 𝐓...</td>\n",
              "      <td>2273.0</td>\n",
              "      <td>224557.0</td>\n",
              "      <td>7723.0</td>\n",
              "      <td></td>\n",
              "      <td>Bassam Abou Zeid</td>\n",
              "      <td>http://pbs.twimg.com/profile_images/1154824859...</td>\n",
              "      <td>21567.0</td>\n",
              "      <td>BassamAbouZeid</td>\n",
              "      <td>True</td>\n",
              "      <td>[Professional User/ TV Channel]</td>\n",
              "      <td>NaN</td>\n",
              "      <td>[Professional User/ TV Channel]</td>\n",
              "      <td>[Professional User/ TV Channel]</td>\n",
              "      <td>2011-05-14 14:14:19</td>\n",
              "      <td>1.178901e+18</td>\n",
              "      <td>reply</td>\n",
              "    </tr>\n",
              "    <tr>\n",
              "      <th>...</th>\n",
              "      <td>...</td>\n",
              "      <td>...</td>\n",
              "      <td>...</td>\n",
              "      <td>...</td>\n",
              "      <td>...</td>\n",
              "      <td>...</td>\n",
              "      <td>...</td>\n",
              "      <td>...</td>\n",
              "      <td>...</td>\n",
              "      <td>...</td>\n",
              "      <td>...</td>\n",
              "      <td>...</td>\n",
              "      <td>...</td>\n",
              "      <td>...</td>\n",
              "      <td>...</td>\n",
              "      <td>...</td>\n",
              "      <td>...</td>\n",
              "      <td>...</td>\n",
              "      <td>...</td>\n",
              "      <td>...</td>\n",
              "      <td>...</td>\n",
              "      <td>...</td>\n",
              "      <td>...</td>\n",
              "      <td>...</td>\n",
              "      <td>...</td>\n",
              "      <td>...</td>\n",
              "      <td>...</td>\n",
              "    </tr>\n",
              "    <tr>\n",
              "      <th>51399</th>\n",
              "      <td>0.0</td>\n",
              "      <td>RT @Hadyjaafar: تواصلت مع كتار ب #طرابلس.\\nالك...</td>\n",
              "      <td>[طرابلس]</td>\n",
              "      <td>ar</td>\n",
              "      <td>[77280496]</td>\n",
              "      <td>RT @Hadyjaafar: تواصلت مع كتار ب #طرابلس.\\nالك...</td>\n",
              "      <td>67.0</td>\n",
              "      <td>negative</td>\n",
              "      <td>2019-10-31 23:16:19</td>\n",
              "      <td>NaN</td>\n",
              "      <td>NaN</td>\n",
              "      <td>NaN</td>\n",
              "      <td>NaN</td>\n",
              "      <td>NaN</td>\n",
              "      <td>NaN</td>\n",
              "      <td>NaN</td>\n",
              "      <td>NaN</td>\n",
              "      <td>NaN</td>\n",
              "      <td>NaN</td>\n",
              "      <td>NaN</td>\n",
              "      <td>NaN</td>\n",
              "      <td>NaN</td>\n",
              "      <td>NaN</td>\n",
              "      <td>NaN</td>\n",
              "      <td>NaN</td>\n",
              "      <td>NaN</td>\n",
              "      <td>NaN</td>\n",
              "    </tr>\n",
              "    <tr>\n",
              "      <th>51400</th>\n",
              "      <td>0.0</td>\n",
              "      <td>RT @ysemaan95: جماعة الGYM هيدا إلكن 🤣🤣 https:...</td>\n",
              "      <td>[]</td>\n",
              "      <td>ar</td>\n",
              "      <td>[1179148206950752257]</td>\n",
              "      <td>RT @ysemaan95: جماعة الGYM هيدا إلكن 🤣🤣</td>\n",
              "      <td>26.0</td>\n",
              "      <td>negative</td>\n",
              "      <td>2019-10-31 23:16:42</td>\n",
              "      <td>NaN</td>\n",
              "      <td>NaN</td>\n",
              "      <td>NaN</td>\n",
              "      <td>NaN</td>\n",
              "      <td>NaN</td>\n",
              "      <td>NaN</td>\n",
              "      <td>NaN</td>\n",
              "      <td>NaN</td>\n",
              "      <td>NaN</td>\n",
              "      <td>NaN</td>\n",
              "      <td>NaN</td>\n",
              "      <td>NaN</td>\n",
              "      <td>NaN</td>\n",
              "      <td>NaN</td>\n",
              "      <td>NaN</td>\n",
              "      <td>NaN</td>\n",
              "      <td>NaN</td>\n",
              "      <td>NaN</td>\n",
              "    </tr>\n",
              "    <tr>\n",
              "      <th>51403</th>\n",
              "      <td>0.0</td>\n",
              "      <td>RT @abdallah_fatima: #يسقط_حكم_الفاسد حلقة ممت...</td>\n",
              "      <td>[يسقط_حكم_الفاسد]</td>\n",
              "      <td>ar</td>\n",
              "      <td>[438236869]</td>\n",
              "      <td>RT @abdallah_fatima: #يسقط_حكم_الفاسد حلقة ممت...</td>\n",
              "      <td>43.0</td>\n",
              "      <td>negative</td>\n",
              "      <td>2019-10-31 23:22:07</td>\n",
              "      <td>NaN</td>\n",
              "      <td>NaN</td>\n",
              "      <td>NaN</td>\n",
              "      <td>NaN</td>\n",
              "      <td>NaN</td>\n",
              "      <td>NaN</td>\n",
              "      <td>NaN</td>\n",
              "      <td>NaN</td>\n",
              "      <td>NaN</td>\n",
              "      <td>NaN</td>\n",
              "      <td>NaN</td>\n",
              "      <td>NaN</td>\n",
              "      <td>NaN</td>\n",
              "      <td>NaN</td>\n",
              "      <td>NaN</td>\n",
              "      <td>NaN</td>\n",
              "      <td>NaN</td>\n",
              "      <td>NaN</td>\n",
              "    </tr>\n",
              "    <tr>\n",
              "      <th>51414</th>\n",
              "      <td>0.0</td>\n",
              "      <td>RT @HoHo28583637: @aliimortada انا من طرابلس ب...</td>\n",
              "      <td>[]</td>\n",
              "      <td>ar</td>\n",
              "      <td>[1138440184759013376, 411641525]</td>\n",
              "      <td>RT @HoHo28583637: @aliimortada انا من طرابلس ب...</td>\n",
              "      <td>45.0</td>\n",
              "      <td>negative</td>\n",
              "      <td>2019-10-31 23:42:25</td>\n",
              "      <td>NaN</td>\n",
              "      <td>NaN</td>\n",
              "      <td>NaN</td>\n",
              "      <td>NaN</td>\n",
              "      <td>NaN</td>\n",
              "      <td>NaN</td>\n",
              "      <td>NaN</td>\n",
              "      <td>NaN</td>\n",
              "      <td>NaN</td>\n",
              "      <td>NaN</td>\n",
              "      <td>NaN</td>\n",
              "      <td>NaN</td>\n",
              "      <td>NaN</td>\n",
              "      <td>NaN</td>\n",
              "      <td>NaN</td>\n",
              "      <td>NaN</td>\n",
              "      <td>NaN</td>\n",
              "      <td>NaN</td>\n",
              "    </tr>\n",
              "    <tr>\n",
              "      <th>51416</th>\n",
              "      <td>6.0</td>\n",
              "      <td>@marc34160594 مبارح؟ اي اليوم هدية الك بلوك</td>\n",
              "      <td>[]</td>\n",
              "      <td>ar</td>\n",
              "      <td>[1189481319648124929]</td>\n",
              "      <td>@marc34160594 مبارح؟ اي اليوم هدية الك بلوك</td>\n",
              "      <td>0.0</td>\n",
              "      <td>positive</td>\n",
              "      <td>2019-10-31 23:43:18</td>\n",
              "      <td>NaN</td>\n",
              "      <td>NaN</td>\n",
              "      <td>NaN</td>\n",
              "      <td>NaN</td>\n",
              "      <td>NaN</td>\n",
              "      <td>NaN</td>\n",
              "      <td>NaN</td>\n",
              "      <td>NaN</td>\n",
              "      <td>NaN</td>\n",
              "      <td>NaN</td>\n",
              "      <td>NaN</td>\n",
              "      <td>NaN</td>\n",
              "      <td>NaN</td>\n",
              "      <td>NaN</td>\n",
              "      <td>NaN</td>\n",
              "      <td>NaN</td>\n",
              "      <td>NaN</td>\n",
              "      <td>NaN</td>\n",
              "    </tr>\n",
              "  </tbody>\n",
              "</table>\n",
              "<p>47081 rows × 27 columns</p>\n",
              "</div>"
            ],
            "text/plain": [
              "       favorite_count  ... tweet_type\n",
              "0                 NaN  ...      tweet\n",
              "1                 NaN  ...      tweet\n",
              "2                 NaN  ...      tweet\n",
              "3                 NaN  ...      reply\n",
              "4                 NaN  ...      reply\n",
              "...               ...  ...        ...\n",
              "51399             0.0  ...        NaN\n",
              "51400             0.0  ...        NaN\n",
              "51403             0.0  ...        NaN\n",
              "51414             0.0  ...        NaN\n",
              "51416             6.0  ...        NaN\n",
              "\n",
              "[47081 rows x 27 columns]"
            ]
          },
          "metadata": {
            "tags": []
          },
          "execution_count": 11
        }
      ]
    },
    {
      "cell_type": "code",
      "metadata": {
        "colab": {
          "base_uri": "https://localhost:8080/"
        },
        "id": "CTRB9wqS5-Y5",
        "outputId": "b8891ead-5088-4fe8-ec79-9db4100ca50e"
      },
      "source": [
        "nan_value=float(\"NaN\")\r\n",
        "dff.replace(\"\", nan_value, inplace=True)\r\n",
        "dff=dff[dff.full_text.notnull()].reset_index()\r\n",
        "dff.info()"
      ],
      "execution_count": 12,
      "outputs": [
        {
          "output_type": "stream",
          "text": [
            "<class 'pandas.core.frame.DataFrame'>\n",
            "RangeIndex: 37187 entries, 0 to 37186\n",
            "Data columns (total 28 columns):\n",
            " #   Column                 Non-Null Count  Dtype  \n",
            "---  ------                 --------------  -----  \n",
            " 0   index                  37187 non-null  int64  \n",
            " 1   favorite_count         37187 non-null  float64\n",
            " 2   full_text              37187 non-null  object \n",
            " 3   hashtags               37187 non-null  object \n",
            " 4   language               37187 non-null  object \n",
            " 5   mentions               37187 non-null  object \n",
            " 6   printable_text         37187 non-null  object \n",
            " 7   retweet_count          37187 non-null  float64\n",
            " 8   sentiment              35091 non-null  object \n",
            " 9   tweet_time             37187 non-null  object \n",
            " 10  _id                    27293 non-null  float64\n",
            " 11  description            23597 non-null  object \n",
            " 12  favorite_count         27293 non-null  float64\n",
            " 13  followers_count        27293 non-null  float64\n",
            " 14  following_count        27293 non-null  float64\n",
            " 15  location               18800 non-null  object \n",
            " 16  name                   27293 non-null  object \n",
            " 17  profile_image_url      27293 non-null  object \n",
            " 18  tweets_count           27293 non-null  float64\n",
            " 19  username               27293 non-null  object \n",
            " 20  verified               27293 non-null  object \n",
            " 21  tags                   26645 non-null  object \n",
            " 22  following              3002 non-null   object \n",
            " 23  type                   27293 non-null  object \n",
            " 24  account_type           27293 non-null  object \n",
            " 25  profile_creation_date  27293 non-null  object \n",
            " 26  source_id              3332 non-null   float64\n",
            " 27  tweet_type             27293 non-null  object \n",
            "dtypes: float64(8), int64(1), object(19)\n",
            "memory usage: 7.9+ MB\n"
          ],
          "name": "stdout"
        }
      ]
    },
    {
      "cell_type": "code",
      "metadata": {
        "id": "4iI9V4Nk-5zx"
      },
      "source": [
        "dff=dff.drop(['printable_text', 'tags','description','profile_image_url','type', 'index'],axis=1)"
      ],
      "execution_count": 13,
      "outputs": []
    },
    {
      "cell_type": "code",
      "metadata": {
        "colab": {
          "base_uri": "https://localhost:8080/"
        },
        "id": "waHES4caIRgg",
        "outputId": "fcaae49f-d24f-4735-a60c-5a5a2de98be2"
      },
      "source": [
        "dff['sentiment'].value_counts()"
      ],
      "execution_count": 14,
      "outputs": [
        {
          "output_type": "execute_result",
          "data": {
            "text/plain": [
              "negative    26621\n",
              "positive     5020\n",
              "neutral      3450\n",
              "Name: sentiment, dtype: int64"
            ]
          },
          "metadata": {
            "tags": []
          },
          "execution_count": 14
        }
      ]
    },
    {
      "cell_type": "markdown",
      "metadata": {
        "id": "0N_znAZbdkgl"
      },
      "source": [
        "## Final data set shape"
      ]
    },
    {
      "cell_type": "code",
      "metadata": {
        "colab": {
          "base_uri": "https://localhost:8080/"
        },
        "id": "iKyzx7ZnEHMG",
        "outputId": "e00b9fd9-7b09-4b00-aee5-0eab1ef63243"
      },
      "source": [
        "dff.info()\r\n"
      ],
      "execution_count": 15,
      "outputs": [
        {
          "output_type": "stream",
          "text": [
            "<class 'pandas.core.frame.DataFrame'>\n",
            "RangeIndex: 37187 entries, 0 to 37186\n",
            "Data columns (total 22 columns):\n",
            " #   Column                 Non-Null Count  Dtype  \n",
            "---  ------                 --------------  -----  \n",
            " 0   favorite_count         37187 non-null  float64\n",
            " 1   full_text              37187 non-null  object \n",
            " 2   hashtags               37187 non-null  object \n",
            " 3   language               37187 non-null  object \n",
            " 4   mentions               37187 non-null  object \n",
            " 5   retweet_count          37187 non-null  float64\n",
            " 6   sentiment              35091 non-null  object \n",
            " 7   tweet_time             37187 non-null  object \n",
            " 8   _id                    27293 non-null  float64\n",
            " 9   favorite_count         27293 non-null  float64\n",
            " 10  followers_count        27293 non-null  float64\n",
            " 11  following_count        27293 non-null  float64\n",
            " 12  location               18800 non-null  object \n",
            " 13  name                   27293 non-null  object \n",
            " 14  tweets_count           27293 non-null  float64\n",
            " 15  username               27293 non-null  object \n",
            " 16  verified               27293 non-null  object \n",
            " 17  following              3002 non-null   object \n",
            " 18  account_type           27293 non-null  object \n",
            " 19  profile_creation_date  27293 non-null  object \n",
            " 20  source_id              3332 non-null   float64\n",
            " 21  tweet_type             27293 non-null  object \n",
            "dtypes: float64(8), object(14)\n",
            "memory usage: 6.2+ MB\n"
          ],
          "name": "stdout"
        }
      ]
    },
    {
      "cell_type": "markdown",
      "metadata": {
        "id": "Ccy6T7uMdyHk"
      },
      "source": [
        "## Function for text cleaning"
      ]
    },
    {
      "cell_type": "code",
      "metadata": {
        "id": "ZT_OIW_dSz7l"
      },
      "source": [
        "import seaborn as sns\r\n"
      ],
      "execution_count": 16,
      "outputs": []
    },
    {
      "cell_type": "code",
      "metadata": {
        "colab": {
          "base_uri": "https://localhost:8080/"
        },
        "id": "pOfkkJTLGCu7",
        "outputId": "9998ccaa-27fe-4b62-dc49-91e9e229cdce"
      },
      "source": [
        "!pip install pyarabic"
      ],
      "execution_count": 17,
      "outputs": [
        {
          "output_type": "stream",
          "text": [
            "Requirement already satisfied: pyarabic in /usr/local/lib/python3.6/dist-packages (0.6.10)\n"
          ],
          "name": "stdout"
        }
      ]
    },
    {
      "cell_type": "code",
      "metadata": {
        "id": "xO59YTCQQfRm"
      },
      "source": [
        "import re\r\n",
        "import pyarabic.araby as araby\r\n",
        "import string\r\n",
        "punctuations = string.punctuation + '،؟،؛'\r\n",
        "\r\n",
        "def remove_chart(text):\r\n",
        "      text=re.sub(\"@[A-Za-z0-9]+\",\"\",text) #remove mentions\r\n",
        "      text = re.sub(\"http\\S+|www.\\S+\", \"\", text) #remove urls\r\n",
        "      text=re.sub(\"[A-Za-z]+\",\"\", text)  #remove english letters   \r\n",
        "      text = araby.strip_tashkeel(text)  # remove Harakat\r\n",
        "      text=text.translate(str.maketrans('', '', punctuations))\r\n",
        "      return text"
      ],
      "execution_count": 18,
      "outputs": []
    },
    {
      "cell_type": "code",
      "metadata": {
        "id": "APlxL1G1XxGE"
      },
      "source": [
        "dff['full_text']=dff['full_text'].apply(remove_chart)\r\n",
        "tweets=dff['full_text']"
      ],
      "execution_count": 19,
      "outputs": []
    },
    {
      "cell_type": "markdown",
      "metadata": {
        "id": "Q-5NqQp9B0As"
      },
      "source": [
        "# Using sentiment for insight extraction"
      ]
    },
    {
      "cell_type": "markdown",
      "metadata": {
        "id": "a1xAouWgL1YA"
      },
      "source": [
        "## Sentiment Classification (SA)"
      ]
    },
    {
      "cell_type": "markdown",
      "metadata": {
        "id": "GjlknggwLVST"
      },
      "source": [
        "## SVM Classifier"
      ]
    },
    {
      "cell_type": "code",
      "metadata": {
        "colab": {
          "base_uri": "https://localhost:8080/"
        },
        "id": "ElpftZjJKjLd",
        "outputId": "cb192f9d-f495-4522-e099-a339ae108044"
      },
      "source": [
        "SA=dff[dff.sentiment.notnull()].reset_index()\r\n",
        "SA.info()"
      ],
      "execution_count": 20,
      "outputs": [
        {
          "output_type": "stream",
          "text": [
            "<class 'pandas.core.frame.DataFrame'>\n",
            "RangeIndex: 35091 entries, 0 to 35090\n",
            "Data columns (total 23 columns):\n",
            " #   Column                 Non-Null Count  Dtype  \n",
            "---  ------                 --------------  -----  \n",
            " 0   index                  35091 non-null  int64  \n",
            " 1   favorite_count         35091 non-null  float64\n",
            " 2   full_text              35091 non-null  object \n",
            " 3   hashtags               35091 non-null  object \n",
            " 4   language               35091 non-null  object \n",
            " 5   mentions               35091 non-null  object \n",
            " 6   retweet_count          35091 non-null  float64\n",
            " 7   sentiment              35091 non-null  object \n",
            " 8   tweet_time             35091 non-null  object \n",
            " 9   _id                    25799 non-null  float64\n",
            " 10  favorite_count         25799 non-null  float64\n",
            " 11  followers_count        25799 non-null  float64\n",
            " 12  following_count        25799 non-null  float64\n",
            " 13  location               17729 non-null  object \n",
            " 14  name                   25799 non-null  object \n",
            " 15  tweets_count           25799 non-null  float64\n",
            " 16  username               25799 non-null  object \n",
            " 17  verified               25799 non-null  object \n",
            " 18  following              2799 non-null   object \n",
            " 19  account_type           25799 non-null  object \n",
            " 20  profile_creation_date  25799 non-null  object \n",
            " 21  source_id              3115 non-null   float64\n",
            " 22  tweet_type             25799 non-null  object \n",
            "dtypes: float64(8), int64(1), object(14)\n",
            "memory usage: 6.2+ MB\n"
          ],
          "name": "stdout"
        }
      ]
    },
    {
      "cell_type": "code",
      "metadata": {
        "colab": {
          "base_uri": "https://localhost:8080/",
          "height": 296
        },
        "id": "ol18dgoW7r9M",
        "outputId": "058dcc22-1a52-4deb-b6ee-71b909482520"
      },
      "source": [
        "import seaborn as sns\r\n",
        "sns.countplot(data=SA,x='sentiment')"
      ],
      "execution_count": 21,
      "outputs": [
        {
          "output_type": "execute_result",
          "data": {
            "text/plain": [
              "<matplotlib.axes._subplots.AxesSubplot at 0x7fa2eb80f908>"
            ]
          },
          "metadata": {
            "tags": []
          },
          "execution_count": 21
        },
        {
          "output_type": "display_data",
          "data": {
            "image/png": "[encoded data removed]",
            "text/plain": [
              "<Figure size 432x288 with 1 Axes>"
            ]
          },
          "metadata": {
            "tags": [],
            "needs_background": "light"
          }
        }
      ]
    },
    {
      "cell_type": "markdown",
      "metadata": {
        "id": "URtlPdVUbapB"
      },
      "source": [
        "Resampling and modeling"
      ]
    },
    {
      "cell_type": "code",
      "metadata": {
        "colab": {
          "base_uri": "https://localhost:8080/"
        },
        "id": "_W-uLmYrXGCA",
        "outputId": "de0947b5-031b-4c44-8c6a-2904d26f0d00"
      },
      "source": [
        "from imblearn.under_sampling import RandomUnderSampler\r\n",
        "from imblearn.over_sampling import RandomOverSampler\r\n",
        "from sklearn.svm import SVC\r\n",
        "from sklearn.metrics import classification_report, plot_confusion_matrix\r\n",
        "from sklearn.model_selection import train_test_split\r\n",
        "from sklearn.feature_extraction.text import CountVectorizer, TfidfTransformer\r\n",
        "from sklearn.model_selection import train_test_split\r\n",
        "from sklearn.metrics import f1_score"
      ],
      "execution_count": 22,
      "outputs": [
        {
          "output_type": "stream",
          "text": [
            "/usr/local/lib/python3.6/dist-packages/sklearn/externals/six.py:31: FutureWarning: The module is deprecated in version 0.21 and will be removed in version 0.23 since we've dropped support for Python 2.7. Please rely on the official version of six (https://pypi.org/project/six/).\n",
            "  \"(https://pypi.org/project/six/).\", FutureWarning)\n",
            "/usr/local/lib/python3.6/dist-packages/sklearn/utils/deprecation.py:144: FutureWarning: The sklearn.neighbors.base module is  deprecated in version 0.22 and will be removed in version 0.24. The corresponding classes / functions should instead be imported from sklearn.neighbors. Anything that cannot be imported from sklearn.neighbors is now part of the private API.\n",
            "  warnings.warn(message, FutureWarning)\n"
          ],
          "name": "stderr"
        }
      ]
    },
    {
      "cell_type": "code",
      "metadata": {
        "colab": {
          "base_uri": "https://localhost:8080/",
          "height": 541
        },
        "id": "r5H8SAGDLZ6Y",
        "outputId": "14ea9cd2-09cf-4e90-d784-6aa210bc207b"
      },
      "source": [
        "\r\n",
        "count=CountVectorizer()\r\n",
        "tfidf= TfidfTransformer()\r\n",
        "word_count_vector=count.fit_transform(SA['full_text'])\r\n",
        "tfidf_vect=tfidf.fit_transform(word_count_vector)\r\n",
        "\r\n",
        "\r\n",
        "#initialize random under sampler\r\n",
        "rus = RandomUnderSampler(random_state=0)\r\n",
        "\r\n",
        "#data \r\n",
        "X=word_count_vector\r\n",
        "\r\n",
        "y=SA['sentiment']\r\n",
        "\r\n",
        "#split data set\r\n",
        "X_train, X_test, y_train, y_test = train_test_split(X, y, test_size=0.2, random_state=0, shuffle=True, stratify=y)\r\n",
        "\r\n",
        "# resampling training data \r\n",
        "X_resampled, y_resampled = rus.fit_sample(X_train, y_train)\r\n",
        "\r\n",
        "#initialize and fit the model\r\n",
        "svm = SVC( kernel='rbf', gamma=0.02) \r\n",
        "svm.fit(X_resampled, y_resampled)\r\n",
        "# test and performance metrics\r\n",
        "y_pred = svm.predict(X_test)\r\n",
        "print (classification_report(y_test, y_pred))\r\n",
        "print(f'Testing accuracy: {svm.score(X_test, y_test)}')\r\n",
        "plot_confusion_matrix(svm, X_test,y_test)\r\n"
      ],
      "execution_count": 23,
      "outputs": [
        {
          "output_type": "stream",
          "text": [
            "/usr/local/lib/python3.6/dist-packages/sklearn/utils/deprecation.py:87: FutureWarning: Function safe_indexing is deprecated; safe_indexing is deprecated in version 0.22 and will be removed in version 0.24.\n",
            "  warnings.warn(msg, category=FutureWarning)\n"
          ],
          "name": "stderr"
        },
        {
          "output_type": "stream",
          "text": [
            "              precision    recall  f1-score   support\n",
            "\n",
            "    negative       0.93      0.75      0.83      5325\n",
            "     neutral       0.42      0.82      0.55       690\n",
            "    positive       0.48      0.65      0.55      1004\n",
            "\n",
            "    accuracy                           0.75      7019\n",
            "   macro avg       0.61      0.74      0.65      7019\n",
            "weighted avg       0.82      0.75      0.77      7019\n",
            "\n",
            "Testing accuracy: 0.7452628579569739\n"
          ],
          "name": "stdout"
        },
        {
          "output_type": "execute_result",
          "data": {
            "text/plain": [
              "<sklearn.metrics._plot.confusion_matrix.ConfusionMatrixDisplay at 0x7fa92b316940>"
            ]
          },
          "metadata": {
            "tags": []
          },
          "execution_count": 23
        },
        {
          "output_type": "display_data",
          "data": {
            "image/png": "[encoded data removed]",
            "text/plain": [
              "<Figure size 432x288 with 2 Axes>"
            ]
          },
          "metadata": {
            "tags": [],
            "needs_background": "light"
          }
        }
      ]
    },
    {
      "cell_type": "code",
      "metadata": {
        "colab": {
          "base_uri": "https://localhost:8080/"
        },
        "id": "T9B_Yent8JNm",
        "outputId": "6d15de4c-e7d6-44b1-a416-d66e1f7537ce"
      },
      "source": [
        "#initialize random over sampler\r\n",
        "ros = RandomOverSampler(random_state=0)\r\n",
        "\r\n",
        "#data \r\n",
        "X=word_count_vector\r\n",
        "\r\n",
        "y=SA['sentiment']\r\n",
        "\r\n",
        "#split data set\r\n",
        "X_train, X_test, y_train, y_test = train_test_split(X, y, test_size=0.2, random_state=0, shuffle=True, stratify=y)\r\n",
        "\r\n",
        "# resampling training data \r\n",
        "X_resampled, y_resampled = ros.fit_sample(X_train, y_train)\r\n",
        "\r\n",
        "#initialize and fit the model\r\n",
        "svm = SVC( kernel='rbf', gamma=0.02) \r\n",
        "svm.fit(X_resampled, y_resampled)\r\n",
        "# test and performance metrics\r\n",
        "y_pred = svm.predict(X_test)\r\n",
        "print (classification_report(y_test, y_pred))\r\n",
        "print(f'Testing accuracy: {svm.score(X_test, y_test)}')\r\n",
        "plot_confusion_matrix(svm, X_test,y_test)\r\n",
        "print(f1_score(y_test, y_pred))"
      ],
      "execution_count": null,
      "outputs": [
        {
          "output_type": "stream",
          "text": [
            "/usr/local/lib/python3.6/dist-packages/sklearn/utils/deprecation.py:87: FutureWarning: Function safe_indexing is deprecated; safe_indexing is deprecated in version 0.22 and will be removed in version 0.24.\n",
            "  warnings.warn(msg, category=FutureWarning)\n"
          ],
          "name": "stderr"
        }
      ]
    },
    {
      "cell_type": "markdown",
      "metadata": {
        "id": "cfkJ8tIrXQKp"
      },
      "source": [
        "***Session kept crashing after running SVM with oversampling ***"
      ]
    },
    {
      "cell_type": "markdown",
      "metadata": {
        "id": "8JGXmJv5YEGm"
      },
      "source": [
        "## Naive Bayes"
      ]
    },
    {
      "cell_type": "markdown",
      "metadata": {
        "id": "ua8ng77eWOmi"
      },
      "source": [
        "### Undersampling"
      ]
    },
    {
      "cell_type": "code",
      "metadata": {
        "colab": {
          "base_uri": "https://localhost:8080/",
          "height": 369
        },
        "id": "dHkOZrdV-BeB",
        "outputId": "be75bb6c-a493-4b13-fdd5-69001f535617"
      },
      "source": [
        "from sklearn.feature_extraction.text import CountVectorizer, TfidfTransformer\r\n",
        "from sklearn.naive_bayes import MultinomialNB\r\n",
        "\r\n",
        "#your code here\r\n",
        "from sklearn.model_selection import train_test_split\r\n",
        "from sklearn.metrics import f1_score, plot_confusion_matrix , accuracy_score\r\n",
        "\r\n",
        "count=CountVectorizer()\r\n",
        "tfidf= TfidfTransformer()\r\n",
        "word_count_vector=count.fit_transform(SA['full_text'])\r\n",
        "tfidf_vect=tfidf.fit_transform(word_count_vector)\r\n",
        "\r\n",
        "X_train, X_test, y_train,  y_test = train_test_split(word_count_vector, y , shuffle=True, stratify=y, test_size=0.2, random_state=0)\r\n",
        "\r\n",
        "#initialize random under sampler\r\n",
        "rus = RandomUnderSampler(random_state=0)\r\n",
        "\r\n",
        "model=MultinomialNB()\r\n",
        "# resampling training data \r\n",
        "X_resampled, y_resampled = rus.fit_sample(X_train, y_train)\r\n",
        "model.fit(X_resampled, y_resampled)\r\n",
        "y_pred=model.predict(X_test)\r\n",
        "print(f'Testing accuracy: {model.score(X_test, y_test)}')\r\n",
        "plot_confusion_matrix(model, X_test,y_test)\r\n"
      ],
      "execution_count": 24,
      "outputs": [
        {
          "output_type": "stream",
          "text": [
            "Testing accuracy: 0.7590824903832455\n"
          ],
          "name": "stdout"
        },
        {
          "output_type": "stream",
          "text": [
            "/usr/local/lib/python3.6/dist-packages/sklearn/utils/deprecation.py:87: FutureWarning: Function safe_indexing is deprecated; safe_indexing is deprecated in version 0.22 and will be removed in version 0.24.\n",
            "  warnings.warn(msg, category=FutureWarning)\n"
          ],
          "name": "stderr"
        },
        {
          "output_type": "execute_result",
          "data": {
            "text/plain": [
              "<sklearn.metrics._plot.confusion_matrix.ConfusionMatrixDisplay at 0x7fa8ddeadd30>"
            ]
          },
          "metadata": {
            "tags": []
          },
          "execution_count": 24
        },
        {
          "output_type": "display_data",
          "data": {
            "image/png": "[encoded data removed]",
            "text/plain": [
              "<Figure size 432x288 with 2 Axes>"
            ]
          },
          "metadata": {
            "tags": [],
            "needs_background": "light"
          }
        }
      ]
    },
    {
      "cell_type": "markdown",
      "metadata": {
        "id": "imvkQw-BWRmc"
      },
      "source": [
        "### Oversampling"
      ]
    },
    {
      "cell_type": "code",
      "metadata": {
        "id": "UV8UhTcqzYgO"
      },
      "source": [
        "X_train, X_test, y_train,  y_test = train_test_split(word_count_vector, y , shuffle=True, stratify=y, test_size=0.2, random_state=0)\r\n",
        "\r\n",
        "#initialize random over sampler\r\n",
        "ros = RandomOverSampler(random_state=0)\r\n",
        "\r\n",
        "model=MultinomialNB()\r\n",
        "# resampling training data \r\n",
        "X_resampled, y_resampled = ros.fit_sample(X_train, y_train)\r\n",
        "model.fit(X_resampled, y_resampled)\r\n",
        "y_pred=model.predict(X_test)\r\n",
        "print(f'Testing accuracy: {model.score(X_test, y_test)}')\r\n",
        "plot_confusion_matrix(model, X_test,y_test)\r\n",
        "print(f1_score(y_test, y_pred))"
      ],
      "execution_count": null,
      "outputs": []
    },
    {
      "cell_type": "markdown",
      "metadata": {
        "id": "CD7W5stZEKXm"
      },
      "source": [
        "## Recurrent Convolutional Network"
      ]
    },
    {
      "cell_type": "markdown",
      "metadata": {
        "id": "FUgr8130VROW"
      },
      "source": [
        "### Undersampling"
      ]
    },
    {
      "cell_type": "code",
      "metadata": {
        "id": "Nz2bVSotBLqk"
      },
      "source": [
        "import tensorflow\r\n",
        "from tensorflow.keras.preprocessing.text import Tokenizer\r\n",
        "from tensorflow.keras.preprocessing.sequence import pad_sequences\r\n",
        "from tensorflow.keras.backend import clear_session\r\n",
        "from tensorflow.keras import Sequential\r\n",
        "from tensorflow.keras.layers import Embedding,  LSTM, Dropout, Dense, MaxPooling1D, Conv1D\r\n",
        "from keras.callbacks import ModelCheckpoint\r\n",
        "from keras import regularizers\r\n",
        "import matplotlib.pyplot as plt\r\n",
        "\r\n",
        "tensorflow.random.set_seed(0)\r\n",
        "\r\n",
        "MAX_NB_WORDS = 1000\r\n",
        "MAX_SEQUENCE_LENGTH = max([len(x) for x in SA['full_text']])\r\n",
        "\r\n",
        "#tokenize the dataset\r\n",
        "tokenizer=Tokenizer(MAX_NB_WORDS)\r\n",
        "tokenizer.fit_on_texts(SA['full_text'])\r\n",
        "X1=tokenizer.texts_to_sequences(SA['full_text'])\r\n",
        "\r\n",
        "VOCAB_SIZE = len(tokenizer.word_index) + 1\r\n",
        "\r\n",
        "#pad the dataset\r\n",
        "X1=pad_sequences(X1, maxlen=MAX_SEQUENCE_LENGTH)\r\n",
        "\r\n",
        "#splitting\r\n",
        "from sklearn.preprocessing import OneHotEncoder\r\n",
        "ohe=OneHotEncoder(sparse=False)\r\n",
        "y=SA['sentiment'].values.reshape(-1,1)\r\n",
        "y1=ohe.fit_transform(y)\r\n",
        "X_train,X_test,y_train, y_test= train_test_split(X1, y1, shuffle=True, stratify=y1, test_size=0.2, random_state=0 )\r\n",
        "EMBEDDING_DIM = 100\r\n"
      ],
      "execution_count": 25,
      "outputs": []
    },
    {
      "cell_type": "code",
      "metadata": {
        "colab": {
          "base_uri": "https://localhost:8080/"
        },
        "id": "BS1SJ6XZdxss",
        "outputId": "959a70f7-fc7d-4090-9c54-f73b679589d4"
      },
      "source": [
        "VOCAB_SIZE"
      ],
      "execution_count": 26,
      "outputs": [
        {
          "output_type": "execute_result",
          "data": {
            "text/plain": [
              "97348"
            ]
          },
          "metadata": {
            "tags": []
          },
          "execution_count": 26
        }
      ]
    },
    {
      "cell_type": "code",
      "metadata": {
        "colab": {
          "base_uri": "https://localhost:8080/"
        },
        "id": "jq4-TS2KVCbW",
        "outputId": "11c23239-e4fb-4336-92e6-a615dd5cba77"
      },
      "source": [
        "X_resampled, y_resampled = rus.fit_sample(X_train, y_train)\r\n",
        "model=Sequential()\r\n",
        "model.add(Embedding(input_dim=VOCAB_SIZE,output_dim=EMBEDDING_DIM,input_length=MAX_SEQUENCE_LENGTH))\r\n",
        "model.add(Dropout(rate= 0.2))\r\n",
        "model.add(Conv1D(100, kernel_size=5 ))\r\n",
        "model.add(MaxPooling1D(pool_size=3))\r\n",
        "model.add(Dropout(rate=0.2))\r\n",
        "model.add(LSTM(64,return_sequences=False))\r\n",
        "model.add(Dropout(rate=0.2))\r\n",
        "model.add(Dense(16, activation='relu'))\r\n",
        "model.add(Dense(3, activation='softmax'))\r\n",
        "model.compile(optimizer='adam', loss='categorical_crossentropy', metrics='accuracy')\r\n",
        "model.summary()\r\n",
        "\r\n",
        "# checkpoint\r\n",
        "filepath=\"/content/drive/MyDrive/Thawra/weights-improvement-{epoch:02d}-{val_accuracy:.2f}.hdf5\"\r\n",
        "checkpoint = ModelCheckpoint(filepath, monitor='accuracy', verbose=2, save_best_only=True, mode='max')\r\n",
        "\r\n",
        "history=model.fit(X_resampled, y_resampled, batch_size= 128, epochs=12, verbose=2, validation_split=0.2,  callbacks = [checkpoint])"
      ],
      "execution_count": null,
      "outputs": [
        {
          "output_type": "stream",
          "text": [
            "/usr/local/lib/python3.6/dist-packages/sklearn/utils/deprecation.py:87: FutureWarning: Function safe_indexing is deprecated; safe_indexing is deprecated in version 0.22 and will be removed in version 0.24.\n",
            "  warnings.warn(msg, category=FutureWarning)\n"
          ],
          "name": "stderr"
        },
        {
          "output_type": "stream",
          "text": [
            "Model: \"sequential\"\n",
            "_________________________________________________________________\n",
            "Layer (type)                 Output Shape              Param #   \n",
            "=================================================================\n",
            "embedding (Embedding)        (None, 280, 100)          9734800   \n",
            "_________________________________________________________________\n",
            "dropout (Dropout)            (None, 280, 100)          0         \n",
            "_________________________________________________________________\n",
            "conv1d (Conv1D)              (None, 276, 100)          50100     \n",
            "_________________________________________________________________\n",
            "max_pooling1d (MaxPooling1D) (None, 92, 100)           0         \n",
            "_________________________________________________________________\n",
            "dropout_1 (Dropout)          (None, 92, 100)           0         \n",
            "_________________________________________________________________\n",
            "lstm (LSTM)                  (None, 64)                42240     \n",
            "_________________________________________________________________\n",
            "dropout_2 (Dropout)          (None, 64)                0         \n",
            "_________________________________________________________________\n",
            "dense (Dense)                (None, 16)                1040      \n",
            "_________________________________________________________________\n",
            "dense_1 (Dense)              (None, 3)                 51        \n",
            "=================================================================\n",
            "Total params: 9,828,231\n",
            "Trainable params: 9,828,231\n",
            "Non-trainable params: 0\n",
            "_________________________________________________________________\n",
            "Epoch 1/12\n",
            "\n",
            "Epoch 00001: accuracy improved from -inf to 0.51736, saving model to /content/drive/MyDrive/Thawra/weights-improvement-01-0.00.hdf5\n",
            "52/52 - 37s - loss: 0.9861 - accuracy: 0.5174 - val_loss: 1.5128 - val_accuracy: 0.0000e+00\n",
            "Epoch 2/12\n",
            "\n",
            "Epoch 00002: accuracy improved from 0.51736 to 0.69414, saving model to /content/drive/MyDrive/Thawra/weights-improvement-02-0.08.hdf5\n",
            "52/52 - 33s - loss: 0.7144 - accuracy: 0.6941 - val_loss: 1.3569 - val_accuracy: 0.0791\n",
            "Epoch 3/12\n",
            "\n",
            "Epoch 00003: accuracy improved from 0.69414 to 0.76147, saving model to /content/drive/MyDrive/Thawra/weights-improvement-03-0.36.hdf5\n",
            "52/52 - 34s - loss: 0.5714 - accuracy: 0.7615 - val_loss: 1.4187 - val_accuracy: 0.3575\n",
            "Epoch 4/12\n",
            "\n",
            "Epoch 00004: accuracy improved from 0.76147 to 0.80797, saving model to /content/drive/MyDrive/Thawra/weights-improvement-04-0.41.hdf5\n",
            "52/52 - 35s - loss: 0.4744 - accuracy: 0.8080 - val_loss: 1.4455 - val_accuracy: 0.4130\n",
            "Epoch 5/12\n",
            "\n",
            "Epoch 00005: accuracy improved from 0.80797 to 0.82790, saving model to /content/drive/MyDrive/Thawra/weights-improvement-05-0.52.hdf5\n",
            "52/52 - 36s - loss: 0.4317 - accuracy: 0.8279 - val_loss: 1.1415 - val_accuracy: 0.5175\n",
            "Epoch 6/12\n",
            "\n",
            "Epoch 00006: accuracy improved from 0.82790 to 0.84647, saving model to /content/drive/MyDrive/Thawra/weights-improvement-06-0.44.hdf5\n",
            "52/52 - 36s - loss: 0.3929 - accuracy: 0.8465 - val_loss: 1.4532 - val_accuracy: 0.4438\n",
            "Epoch 7/12\n",
            "\n",
            "Epoch 00007: accuracy improved from 0.84647 to 0.85749, saving model to /content/drive/MyDrive/Thawra/weights-improvement-07-0.46.hdf5\n",
            "52/52 - 34s - loss: 0.3587 - accuracy: 0.8575 - val_loss: 1.5706 - val_accuracy: 0.4644\n",
            "Epoch 8/12\n",
            "\n",
            "Epoch 00008: accuracy improved from 0.85749 to 0.87500, saving model to /content/drive/MyDrive/Thawra/weights-improvement-08-0.48.hdf5\n",
            "52/52 - 33s - loss: 0.3284 - accuracy: 0.8750 - val_loss: 1.4562 - val_accuracy: 0.4849\n",
            "Epoch 9/12\n",
            "\n",
            "Epoch 00009: accuracy improved from 0.87500 to 0.88255, saving model to /content/drive/MyDrive/Thawra/weights-improvement-09-0.57.hdf5\n",
            "52/52 - 35s - loss: 0.3077 - accuracy: 0.8825 - val_loss: 1.1961 - val_accuracy: 0.5700\n",
            "Epoch 10/12\n",
            "\n",
            "Epoch 00010: accuracy improved from 0.88255 to 0.89900, saving model to /content/drive/MyDrive/Thawra/weights-improvement-10-0.47.hdf5\n",
            "52/52 - 34s - loss: 0.2690 - accuracy: 0.8990 - val_loss: 1.7493 - val_accuracy: 0.4704\n",
            "Epoch 11/12\n",
            "\n",
            "Epoch 00011: accuracy improved from 0.89900 to 0.90867, saving model to /content/drive/MyDrive/Thawra/weights-improvement-11-0.54.hdf5\n",
            "52/52 - 33s - loss: 0.2402 - accuracy: 0.9087 - val_loss: 1.5572 - val_accuracy: 0.5435\n",
            "Epoch 12/12\n",
            "\n",
            "Epoch 00012: accuracy improved from 0.90867 to 0.91863, saving model to /content/drive/MyDrive/Thawra/weights-improvement-12-0.53.hdf5\n",
            "52/52 - 33s - loss: 0.2250 - accuracy: 0.9186 - val_loss: 1.7034 - val_accuracy: 0.5320\n"
          ],
          "name": "stdout"
        }
      ]
    },
    {
      "cell_type": "code",
      "metadata": {
        "colab": {
          "base_uri": "https://localhost:8080/",
          "height": 295
        },
        "id": "zl-q6eWlVd9v",
        "outputId": "4e0fd9dc-44f1-4049-837e-37ec1bf703d6"
      },
      "source": [
        "plt.plot(history.history['accuracy'])\r\n",
        "plt.plot(history.history['val_accuracy'])\r\n",
        "plt.title('Model accuracy')\r\n",
        "plt.ylabel('accuracy')\r\n",
        "plt.xlabel('epoch')\r\n",
        "plt.legend(['training', 'validation'], loc='best')\r\n",
        "plt.show()"
      ],
      "execution_count": null,
      "outputs": [
        {
          "output_type": "display_data",
          "data": {
            "image/png": "[encoded data removed]",
            "text/plain": [
              "<Figure size 432x288 with 1 Axes>"
            ]
          },
          "metadata": {
            "tags": [],
            "needs_background": "light"
          }
        }
      ]
    },
    {
      "cell_type": "code",
      "metadata": {
        "colab": {
          "base_uri": "https://localhost:8080/"
        },
        "id": "A42nYBOHX1os",
        "outputId": "9cb85a65-c041-4681-e19c-b7a356276914"
      },
      "source": [
        "model.evaluate(X_test,y_test)"
      ],
      "execution_count": null,
      "outputs": [
        {
          "output_type": "stream",
          "text": [
            "220/220 [==============================] - 8s 38ms/step - loss: 0.8722 - accuracy: 0.7410\n"
          ],
          "name": "stdout"
        },
        {
          "output_type": "execute_result",
          "data": {
            "text/plain": [
              "[0.8722196817398071, 0.7409887313842773]"
            ]
          },
          "metadata": {
            "tags": []
          },
          "execution_count": 31
        }
      ]
    },
    {
      "cell_type": "markdown",
      "metadata": {
        "id": "xT0LUd6UVWT7"
      },
      "source": [
        "### Oversampling"
      ]
    },
    {
      "cell_type": "code",
      "metadata": {
        "colab": {
          "base_uri": "https://localhost:8080/"
        },
        "id": "e7zk4EsmBWAK",
        "outputId": "4ae11e70-179f-45ed-fadc-6a6b28aaf985"
      },
      "source": [
        "\r\n",
        "X_resampled, y_resampled = ros.fit_sample(X_train, y_train)\r\n",
        "model=Sequential()\r\n",
        "model.add(Embedding(input_dim=VOCAB_SIZE,output_dim=EMBEDDING_DIM,input_length=MAX_SEQUENCE_LENGTH))\r\n",
        "model.add(Dropout(rate= 0.2))\r\n",
        "model.add(Conv1D(100, kernel_size=5 ))\r\n",
        "model.add(MaxPooling1D(pool_size=3))\r\n",
        "model.add(Dropout(rate=0.2))\r\n",
        "model.add(LSTM(64,return_sequences=False))\r\n",
        "model.add(Dropout(rate=0.2))\r\n",
        "model.add(Dense(16, activation='relu'))\r\n",
        "model.add(Dense(3, activation='softmax'))\r\n",
        "model.compile(optimizer='adam', loss='categorical_crossentropy', metrics='accuracy')\r\n",
        "model.summary()\r\n",
        "\r\n",
        "# checkpoint\r\n",
        "filepath=\"/content/drive/MyDrive/Thawra/weights-improvement-{epoch:02d}-{val_accuracy:.2f}.hdf5\"\r\n",
        "checkpoint = ModelCheckpoint(filepath, monitor='accuracy', verbose=2, save_best_only=True, mode='max')\r\n",
        "\r\n",
        "history=model.fit(X_resampled, y_resampled, batch_size= 128, epochs=12, verbose=2, validation_split=0.2,  callbacks = [checkpoint])"
      ],
      "execution_count": null,
      "outputs": [
        {
          "output_type": "stream",
          "text": [
            "/usr/local/lib/python3.6/dist-packages/sklearn/utils/deprecation.py:87: FutureWarning: Function safe_indexing is deprecated; safe_indexing is deprecated in version 0.22 and will be removed in version 0.24.\n",
            "  warnings.warn(msg, category=FutureWarning)\n"
          ],
          "name": "stderr"
        },
        {
          "output_type": "stream",
          "text": [
            "Model: \"sequential_7\"\n",
            "_________________________________________________________________\n",
            "Layer (type)                 Output Shape              Param #   \n",
            "=================================================================\n",
            "embedding_7 (Embedding)      (None, 280, 100)          9734800   \n",
            "_________________________________________________________________\n",
            "dropout_21 (Dropout)         (None, 280, 100)          0         \n",
            "_________________________________________________________________\n",
            "conv1d_7 (Conv1D)            (None, 276, 100)          50100     \n",
            "_________________________________________________________________\n",
            "max_pooling1d_7 (MaxPooling1 (None, 92, 100)           0         \n",
            "_________________________________________________________________\n",
            "dropout_22 (Dropout)         (None, 92, 100)           0         \n",
            "_________________________________________________________________\n",
            "lstm_7 (LSTM)                (None, 64)                42240     \n",
            "_________________________________________________________________\n",
            "dropout_23 (Dropout)         (None, 64)                0         \n",
            "_________________________________________________________________\n",
            "dense_12 (Dense)             (None, 16)                1040      \n",
            "_________________________________________________________________\n",
            "dense_13 (Dense)             (None, 3)                 51        \n",
            "=================================================================\n",
            "Total params: 9,828,231\n",
            "Trainable params: 9,828,231\n",
            "Non-trainable params: 0\n",
            "_________________________________________________________________\n",
            "Epoch 1/12\n",
            "\n",
            "Epoch 00001: accuracy improved from -inf to 0.51736, saving model to /content/drive/MyDrive/Thawra/weights-improvement-01-0.00.hdf5\n",
            "52/52 - 33s - loss: 0.9861 - accuracy: 0.5174 - val_loss: 1.5128 - val_accuracy: 0.0000e+00\n",
            "Epoch 2/12\n",
            "\n",
            "Epoch 00002: accuracy improved from 0.51736 to 0.69414, saving model to /content/drive/MyDrive/Thawra/weights-improvement-02-0.08.hdf5\n",
            "52/52 - 32s - loss: 0.7144 - accuracy: 0.6941 - val_loss: 1.3569 - val_accuracy: 0.0791\n",
            "Epoch 3/12\n",
            "\n",
            "Epoch 00003: accuracy improved from 0.69414 to 0.76147, saving model to /content/drive/MyDrive/Thawra/weights-improvement-03-0.36.hdf5\n",
            "52/52 - 35s - loss: 0.5714 - accuracy: 0.7615 - val_loss: 1.4187 - val_accuracy: 0.3575\n",
            "Epoch 4/12\n",
            "\n",
            "Epoch 00004: accuracy improved from 0.76147 to 0.80797, saving model to /content/drive/MyDrive/Thawra/weights-improvement-04-0.41.hdf5\n",
            "52/52 - 32s - loss: 0.4744 - accuracy: 0.8080 - val_loss: 1.4455 - val_accuracy: 0.4130\n",
            "Epoch 5/12\n",
            "\n",
            "Epoch 00005: accuracy improved from 0.80797 to 0.82790, saving model to /content/drive/MyDrive/Thawra/weights-improvement-05-0.52.hdf5\n",
            "52/52 - 32s - loss: 0.4317 - accuracy: 0.8279 - val_loss: 1.1415 - val_accuracy: 0.5175\n",
            "Epoch 6/12\n",
            "\n",
            "Epoch 00006: accuracy improved from 0.82790 to 0.84647, saving model to /content/drive/MyDrive/Thawra/weights-improvement-06-0.44.hdf5\n",
            "52/52 - 32s - loss: 0.3929 - accuracy: 0.8465 - val_loss: 1.4532 - val_accuracy: 0.4438\n",
            "Epoch 7/12\n",
            "\n",
            "Epoch 00007: accuracy improved from 0.84647 to 0.85749, saving model to /content/drive/MyDrive/Thawra/weights-improvement-07-0.46.hdf5\n",
            "52/52 - 32s - loss: 0.3587 - accuracy: 0.8575 - val_loss: 1.5706 - val_accuracy: 0.4644\n",
            "Epoch 8/12\n",
            "\n",
            "Epoch 00008: accuracy improved from 0.85749 to 0.87500, saving model to /content/drive/MyDrive/Thawra/weights-improvement-08-0.48.hdf5\n",
            "52/52 - 32s - loss: 0.3284 - accuracy: 0.8750 - val_loss: 1.4562 - val_accuracy: 0.4849\n",
            "Epoch 9/12\n",
            "\n",
            "Epoch 00009: accuracy improved from 0.87500 to 0.88255, saving model to /content/drive/MyDrive/Thawra/weights-improvement-09-0.57.hdf5\n",
            "52/52 - 32s - loss: 0.3077 - accuracy: 0.8825 - val_loss: 1.1961 - val_accuracy: 0.5700\n",
            "Epoch 10/12\n",
            "\n",
            "Epoch 00010: accuracy improved from 0.88255 to 0.89900, saving model to /content/drive/MyDrive/Thawra/weights-improvement-10-0.47.hdf5\n",
            "52/52 - 32s - loss: 0.2690 - accuracy: 0.8990 - val_loss: 1.7493 - val_accuracy: 0.4704\n",
            "Epoch 11/12\n",
            "\n",
            "Epoch 00011: accuracy improved from 0.89900 to 0.90867, saving model to /content/drive/MyDrive/Thawra/weights-improvement-11-0.54.hdf5\n",
            "52/52 - 33s - loss: 0.2402 - accuracy: 0.9087 - val_loss: 1.5572 - val_accuracy: 0.5435\n",
            "Epoch 12/12\n",
            "\n",
            "Epoch 00012: accuracy improved from 0.90867 to 0.91863, saving model to /content/drive/MyDrive/Thawra/weights-improvement-12-0.53.hdf5\n",
            "52/52 - 32s - loss: 0.2250 - accuracy: 0.9186 - val_loss: 1.7034 - val_accuracy: 0.5320\n"
          ],
          "name": "stdout"
        }
      ]
    },
    {
      "cell_type": "code",
      "metadata": {
        "colab": {
          "base_uri": "https://localhost:8080/"
        },
        "id": "SyGEjlCib7sR",
        "outputId": "17ed0f2f-9139-484a-a30b-587db0a0610c"
      },
      "source": [
        "model.save('New_BEST_model_128_12_conv100_lstm64_dense16')"
      ],
      "execution_count": null,
      "outputs": [
        {
          "output_type": "stream",
          "text": [
            "WARNING:tensorflow:From /usr/local/lib/python3.6/dist-packages/tensorflow/python/training/tracking/tracking.py:111: Model.state_updates (from tensorflow.python.keras.engine.training) is deprecated and will be removed in a future version.\n",
            "Instructions for updating:\n",
            "This property should not be used in TensorFlow 2.0, as updates are applied automatically.\n",
            "WARNING:tensorflow:From /usr/local/lib/python3.6/dist-packages/tensorflow/python/training/tracking/tracking.py:111: Layer.updates (from tensorflow.python.keras.engine.base_layer) is deprecated and will be removed in a future version.\n",
            "Instructions for updating:\n",
            "This property should not be used in TensorFlow 2.0, as updates are applied automatically.\n",
            "INFO:tensorflow:Assets written to: New_BEST_model_200_30_conv200_lstm150_dense30/assets\n"
          ],
          "name": "stdout"
        }
      ]
    },
    {
      "cell_type": "code",
      "metadata": {
        "colab": {
          "base_uri": "https://localhost:8080/",
          "height": 312
        },
        "id": "gJJto7W3BnH_",
        "outputId": "3a61ede0-45d3-4f11-b2c4-17beeeba7b45"
      },
      "source": [
        "model.evaluate(X_test,y_test)\r\n",
        "plt.plot(history.history['accuracy'])\r\n",
        "plt.plot(history.history['val_accuracy'])\r\n",
        "plt.title('Model accuracy')\r\n",
        "plt.ylabel('accuracy')\r\n",
        "plt.xlabel('epoch')\r\n",
        "plt.legend(['training', 'validation'], loc='best')\r\n",
        "plt.show()"
      ],
      "execution_count": null,
      "outputs": [
        {
          "output_type": "stream",
          "text": [
            "220/220 [==============================] - 8s 35ms/step - loss: 0.8015 - accuracy: 0.8014\n"
          ],
          "name": "stdout"
        },
        {
          "output_type": "display_data",
          "data": {
            "image/png": "[encoded data removed]",
            "text/plain": [
              "<Figure size 432x288 with 1 Axes>"
            ]
          },
          "metadata": {
            "tags": [],
            "needs_background": "light"
          }
        }
      ]
    },
    {
      "cell_type": "markdown",
      "metadata": {
        "id": "35lzWSjcUTHB"
      },
      "source": [
        "# Named Entity Recognition"
      ]
    },
    {
      "cell_type": "code",
      "metadata": {
        "id": "4GC6wPW2bTxC"
      },
      "source": [
        "!pip install camel-tools\r\n",
        "!git clone https://github.com/CAMeL-Lab/camel_tools.git\r\n",
        "!cd camel_tools"
      ],
      "execution_count": null,
      "outputs": []
    },
    {
      "cell_type": "code",
      "metadata": {
        "id": "uqRQV9sf5mmb"
      },
      "source": [
        "!camel_data full"
      ],
      "execution_count": null,
      "outputs": []
    },
    {
      "cell_type": "code",
      "metadata": {
        "id": "CvMvPH8qcn0D"
      },
      "source": [
        "def Name_Ent(text):\r\n",
        "  sentence=text.split()\r\n",
        "  labels=ner.predict_sentence(sentence)\r\n",
        "  L=list(zip(sentence, labels))\r\n",
        "  return L"
      ],
      "execution_count": null,
      "outputs": []
    },
    {
      "cell_type": "code",
      "metadata": {
        "id": "nooPAwyNUWwJ",
        "colab": {
          "base_uri": "https://localhost:8080/"
        },
        "outputId": "717e0216-0fdc-4a1d-9a59-d126c1a1731b"
      },
      "source": [
        "from camel_tools.ner import NERecognizer\r\n",
        "ner=NERecognizer.pretrained()\r\n",
        "NEG=dff[dff['sentiment']=='negative'].reset_index()\r\n",
        "NEG.info()"
      ],
      "execution_count": null,
      "outputs": [
        {
          "output_type": "stream",
          "text": [
            "<class 'pandas.core.frame.DataFrame'>\n",
            "RangeIndex: 26621 entries, 0 to 26620\n",
            "Data columns (total 23 columns):\n",
            " #   Column                 Non-Null Count  Dtype  \n",
            "---  ------                 --------------  -----  \n",
            " 0   index                  26621 non-null  int64  \n",
            " 1   favorite_count         26621 non-null  float64\n",
            " 2   full_text              26621 non-null  object \n",
            " 3   hashtags               26621 non-null  object \n",
            " 4   language               26621 non-null  object \n",
            " 5   mentions               26621 non-null  object \n",
            " 6   retweet_count          26621 non-null  float64\n",
            " 7   sentiment              26621 non-null  object \n",
            " 8   tweet_time             26621 non-null  object \n",
            " 9   _id                    19307 non-null  float64\n",
            " 10  favorite_count         19307 non-null  float64\n",
            " 11  followers_count        19307 non-null  float64\n",
            " 12  following_count        19307 non-null  float64\n",
            " 13  location               13282 non-null  object \n",
            " 14  name                   19307 non-null  object \n",
            " 15  tweets_count           19307 non-null  float64\n",
            " 16  username               19307 non-null  object \n",
            " 17  verified               19307 non-null  object \n",
            " 18  following              2027 non-null   object \n",
            " 19  account_type           19307 non-null  object \n",
            " 20  profile_creation_date  19307 non-null  object \n",
            " 21  source_id              2241 non-null   float64\n",
            " 22  tweet_type             19307 non-null  object \n",
            "dtypes: float64(8), int64(1), object(14)\n",
            "memory usage: 4.7+ MB\n"
          ],
          "name": "stdout"
        }
      ]
    },
    {
      "cell_type": "code",
      "metadata": {
        "id": "R6dYKBKpdTfR"
      },
      "source": [
        "start_date1 = \"2019-10-01\"\r\n",
        "end_date1 = \"2019-10-17\"\r\n",
        "after_start_date1 = NEG[\"tweet_time\"] >= start_date1\r\n",
        "before_end_date1 =  NEG[\"tweet_time\"] < end_date1\r\n",
        "between_two_dates1 = after_start_date1 & before_end_date1\r\n",
        "filtered_dates1 = NEG. loc[between_two_dates1]\r\n",
        "tweets1=filtered_dates1['full_text']"
      ],
      "execution_count": null,
      "outputs": []
    },
    {
      "cell_type": "code",
      "metadata": {
        "id": "yFw9ziw9jMOP"
      },
      "source": [
        "Entities1=tweets1.apply(Name_Ent)"
      ],
      "execution_count": null,
      "outputs": []
    },
    {
      "cell_type": "code",
      "metadata": {
        "id": "HrBOxe2coMUI"
      },
      "source": [
        "Entities1.to_excel(\"Name_Entity_List_before.xlsx\")"
      ],
      "execution_count": null,
      "outputs": []
    },
    {
      "cell_type": "code",
      "metadata": {
        "colab": {
          "base_uri": "https://localhost:8080/"
        },
        "id": "WmdcP6GUgqF8",
        "outputId": "64d294b0-e6a0-4f28-fa9f-9e5085d47463"
      },
      "source": [
        "start_date2 = \"2019-10-17\"\r\n",
        "after_start_date2 = NEG[\"tweet_time\"] >= start_date2\r\n",
        "filtered_dates2 = NEG. loc[after_start_date2]\r\n",
        "print(filtered_dates2)\r\n"
      ],
      "execution_count": null,
      "outputs": [
        {
          "output_type": "stream",
          "text": [
            "       index  favorite_count  ...     source_id tweet_type\n",
            "808     2428           248.0  ...           NaN      tweet\n",
            "809     2430            28.0  ...  1.185647e+18      quote\n",
            "810     2432             0.0  ...           NaN      tweet\n",
            "811     2434             3.0  ...           NaN      tweet\n",
            "812     2435            73.0  ...           NaN      tweet\n",
            "...      ...             ...  ...           ...        ...\n",
            "26616  37181          2163.0  ...           NaN        NaN\n",
            "26617  37182             0.0  ...           NaN        NaN\n",
            "26618  37183             0.0  ...           NaN        NaN\n",
            "26619  37184             0.0  ...           NaN        NaN\n",
            "26620  37185             0.0  ...           NaN        NaN\n",
            "\n",
            "[25813 rows x 23 columns]\n"
          ],
          "name": "stdout"
        }
      ]
    },
    {
      "cell_type": "code",
      "metadata": {
        "id": "kOUwAnHQlg9n"
      },
      "source": [
        "tweets2=filtered_dates2['full_text'][808:2808]\r\n"
      ],
      "execution_count": null,
      "outputs": []
    },
    {
      "cell_type": "code",
      "metadata": {
        "id": "QzSS9U2nkfG8"
      },
      "source": [
        "Entities2=tweets2.apply(Name_Ent)"
      ],
      "execution_count": null,
      "outputs": []
    },
    {
      "cell_type": "code",
      "metadata": {
        "id": "tAW-J9gvNq_E"
      },
      "source": [
        "\r\n",
        "Entities2.to_excel(\"Name_Entity_List_after.xlsx\")"
      ],
      "execution_count": null,
      "outputs": []
    },
    {
      "cell_type": "markdown",
      "metadata": {
        "id": "b-3vrKycLm-8"
      },
      "source": [
        "## Wordcloud"
      ]
    },
    {
      "cell_type": "code",
      "metadata": {
        "id": "8xNt7LFYeazp"
      },
      "source": [
        "names1=pd.read_excel(\"Names_negative_before.xlsx\")\r\n",
        "names2=pd.read_excel(\"Names_negative_after.xlsx\")"
      ],
      "execution_count": null,
      "outputs": []
    },
    {
      "cell_type": "code",
      "metadata": {
        "id": "_tUl97UJJ2F5"
      },
      "source": [
        "name_list_before=' '.join(names1.name)\r\n",
        "name_list_after=' '.join(names2.name)"
      ],
      "execution_count": null,
      "outputs": []
    },
    {
      "cell_type": "code",
      "metadata": {
        "colab": {
          "base_uri": "https://localhost:8080/"
        },
        "id": "HLFhis1XLvFT",
        "outputId": "73d425c6-729a-4c58-c1ef-8bdb3334b9e2"
      },
      "source": [
        "!pip install python-bidi\r\n",
        "!pip install arabic_reshaper"
      ],
      "execution_count": null,
      "outputs": [
        {
          "output_type": "stream",
          "text": [
            "Collecting python-bidi\n",
            "  Downloading https://files.pythonhosted.org/packages/33/b0/f942d146a2f457233baaafd6bdf624eba8e0f665045b4abd69d1b62d097d/python_bidi-0.4.2-py2.py3-none-any.whl\n",
            "Requirement already satisfied: six in /usr/local/lib/python3.6/dist-packages (from python-bidi) (1.15.0)\n",
            "Installing collected packages: python-bidi\n",
            "Successfully installed python-bidi-0.4.2\n",
            "Collecting arabic_reshaper\n",
            "  Downloading https://files.pythonhosted.org/packages/0a/1e/b78cacd22bd55c43f2711115d67ece3ed9616ba82d2d0e0914db2a6db985/arabic_reshaper-2.1.1.tar.gz\n",
            "Requirement already satisfied: future in /usr/local/lib/python3.6/dist-packages (from arabic_reshaper) (0.16.0)\n",
            "Requirement already satisfied: setuptools in /usr/local/lib/python3.6/dist-packages (from arabic_reshaper) (50.3.2)\n",
            "Building wheels for collected packages: arabic-reshaper\n",
            "  Building wheel for arabic-reshaper (setup.py) ... \u001b[?25l\u001b[?25hdone\n",
            "  Created wheel for arabic-reshaper: filename=arabic_reshaper-2.1.1-cp36-none-any.whl size=16504 sha256=d2e1fc868dcdc73706b1ce72a23acc0433777db3d7a96c42ad67f3f9fb30f6e8\n",
            "  Stored in directory: /root/.cache/pip/wheels/62/52/d8/bd0dcbf00f9e77e3bd0184285ed77dfa9c475dac494a5353d1\n",
            "Successfully built arabic-reshaper\n",
            "Installing collected packages: arabic-reshaper\n",
            "Successfully installed arabic-reshaper-2.1.1\n"
          ],
          "name": "stdout"
        }
      ]
    },
    {
      "cell_type": "code",
      "metadata": {
        "colab": {
          "base_uri": "https://localhost:8080/"
        },
        "id": "LH2zkH1INbkw",
        "outputId": "7057d859-a55e-4c35-b4a3-66ffffb3aa13"
      },
      "source": [
        "from collections import Counter\r\n",
        "from wordcloud import WordCloud        \r\n",
        "import matplotlib.pyplot as plt          \r\n",
        "from arabic_reshaper import reshape      \r\n",
        "from bidi.algorithm import get_display   \r\n",
        "\r\n",
        "rtl = lambda w: get_display(reshape(f'{w}'))\r\n",
        "\r\n",
        "COUNTS1 = Counter(name_list_before.split())\r\n",
        "counts1 = {rtl(k):v for k, v in COUNTS1.most_common(30)}\r\n",
        "\r\n",
        "font_file = '/content/NotoNaskhArabic-Regular.ttf' \r\n",
        "wordcloud1 = WordCloud(font_path=font_file).generate_from_frequencies(counts1).generate_from_frequencies(counts1)\r\n",
        "plt.imshow(wordcloud1, interpolation=\"bilinear\")\r\n",
        "plt.axis(\"off\")\r\n",
        "plt.show()"
      ],
      "execution_count": null,
      "outputs": [
        {
          "output_type": "display_data",
          "data": {
            "image/png": "[encoded data removed]",
            "text/plain": [
              "<Figure size 432x288 with 1 Axes>"
            ]
          },
          "metadata": {
            "tags": [],
            "needs_background": "light"
          }
        }
      ]
    },
    {
      "cell_type": "code",
      "metadata": {
        "colab": {
          "base_uri": "https://localhost:8080/"
        },
        "id": "oQV9b-nkWVJ2",
        "outputId": "f8ab36d8-1537-4ab3-85a2-3076c465151a"
      },
      "source": [
        "COUNTS2 = Counter(name_list_after.split())\r\n",
        "counts2 = {rtl(k):v for k, v in COUNTS2.most_common(30)}\r\n",
        "\r\n",
        "font_file = '/content/NotoNaskhArabic-Regular.ttf' \r\n",
        "wordcloud2 = WordCloud(font_path=font_file).generate_from_frequencies(counts2).generate_from_frequencies(counts2)\r\n",
        "plt.imshow(wordcloud2, interpolation=\"bilinear\")\r\n",
        "plt.axis(\"off\")\r\n",
        "plt.show()"
      ],
      "execution_count": null,
      "outputs": [
        {
          "output_type": "display_data",
          "data": {
            "image/png": "[encoded data removed]",
            "text/plain": [
              "<Figure size 432x288 with 1 Axes>"
            ]
          },
          "metadata": {
            "tags": [],
            "needs_background": "light"
          }
        }
      ]
    },
    {
      "cell_type": "markdown",
      "metadata": {
        "id": "kMX3JubpTrq-"
      },
      "source": [
        "# Location based information"
      ]
    },
    {
      "cell_type": "code",
      "metadata": {
        "colab": {
          "base_uri": "https://localhost:8080/"
        },
        "id": "ABWcwBM01a3h",
        "outputId": "87f417cf-c26e-4273-9dc9-eecb8821eae0"
      },
      "source": [
        "sent_loc1=SA[['sentiment', 'location']]\r\n",
        "sent_loc1=sent_loc1[sent_loc1.location.notnull()].reset_index()\r\n",
        "sent_loc1.info()"
      ],
      "execution_count": null,
      "outputs": [
        {
          "output_type": "stream",
          "text": [
            "<class 'pandas.core.frame.DataFrame'>\n",
            "RangeIndex: 17729 entries, 0 to 17728\n",
            "Data columns (total 3 columns):\n",
            " #   Column     Non-Null Count  Dtype \n",
            "---  ------     --------------  ----- \n",
            " 0   index      17729 non-null  int64 \n",
            " 1   sentiment  17729 non-null  object\n",
            " 2   location   17729 non-null  object\n",
            "dtypes: int64(1), object(2)\n",
            "memory usage: 415.6+ KB\n"
          ],
          "name": "stdout"
        }
      ]
    },
    {
      "cell_type": "code",
      "metadata": {
        "id": "qO2e7hG5QtNp"
      },
      "source": [
        "locs=sent_loc1['location'].value_counts()\r\n",
        "locs=locs[locs>=5]\r\n",
        "locs.to_excel(\"location1.xlsx\")"
      ],
      "execution_count": null,
      "outputs": []
    },
    {
      "cell_type": "code",
      "metadata": {
        "colab": {
          "base_uri": "https://localhost:8080/"
        },
        "id": "3GKL1t1RiqJf",
        "outputId": "2e66b346-71d2-4e97-e395-8e33aa37aedf"
      },
      "source": [
        "sent_loc1=sent_loc1.groupby('location').filter(lambda x : len(x)>=5)\r\n",
        "sent_loc1=sent_loc1.reset_index()\r\n",
        "sent_loc1.info()"
      ],
      "execution_count": null,
      "outputs": [
        {
          "output_type": "stream",
          "text": [
            "<class 'pandas.core.frame.DataFrame'>\n",
            "RangeIndex: 13695 entries, 0 to 13694\n",
            "Data columns (total 4 columns):\n",
            " #   Column     Non-Null Count  Dtype \n",
            "---  ------     --------------  ----- \n",
            " 0   level_0    13695 non-null  int64 \n",
            " 1   index      13695 non-null  int64 \n",
            " 2   sentiment  13695 non-null  object\n",
            " 3   location   13695 non-null  object\n",
            "dtypes: int64(2), object(2)\n",
            "memory usage: 428.1+ KB\n"
          ],
          "name": "stdout"
        }
      ]
    },
    {
      "cell_type": "code",
      "metadata": {
        "id": "3NKaUWpC2xPz"
      },
      "source": [
        "sent_loc=pd.read_excel(\"updated_loc.xlsx\")\r\n"
      ],
      "execution_count": null,
      "outputs": []
    },
    {
      "cell_type": "code",
      "metadata": {
        "id": "UOdZo1PdG_MS"
      },
      "source": [
        "mapping={'Lebanon':'Lebanon', \r\n",
        "         'Beirut, Lebanon': 'Beirut, LB','Naccache, Lebanon': 'Naccache, LB',\r\n",
        "         'Baabda, Lebanon': 'Baabda, LB', 'LEBANON':'Lebanon','Lebanon beirut':'Beirut, LB',\r\n",
        "         'Lebanon,Beirut': 'Beirut, LB', 'Lebanon, Beirut': 'Beirut, LB',' Beirut-Lebanon': 'Beirut, LB',\r\n",
        "         'Tripoli, Lebanon':'Tripoli, LB','Tripoli, lebanon':'Tripoli, LB', 'Haret Hreik, Lebanon':'Haret Hreik, LB','Adma, Lebanon': 'Adma,LB',\r\n",
        "         'Baabda, Lebanon': 'Baabda, LB', 'South Lebanon':'South Lebanon, LB', 'Khiam, Lebanon':'Khiam, LB',\r\n",
        "         'Aakkar, Lebanon':'Aakkar, LB','Khenchara, Lebanon': 'Khenchara, LB', 'Beqaa,Lebanon': 'Beqaa, LB',\r\n",
        "         'Zgharta, Lebanon': 'Zgharta, LB', 'Chyah, Lebanon': 'Chyah, LB', 'Nabatieh, Lebanon':'Nabatieh, LB',\r\n",
        "         'Ghazir, Lebanon': 'Ghazir, LB','Byblos, Lebanon':'Byblos, LB','Chouf, Lebanon':' Chouf, LB',\r\n",
        "         'Hermel, Lebanon': 'Hermel, LB', 'Baalbeck, Lebanon': 'Baalbeck, LB',\r\n",
        "         'Qalamoun, Lebanon': 'Qalamoun, LB','Barja, Lebanon': 'Barja, LB','Zahle, Lebanon':'Zahle, LB',\r\n",
        "         'Akkar':' Aakkar, LB','Sidon':'Sidon, LB', 'Tyre':'Tyre, LB' }"
      ],
      "execution_count": null,
      "outputs": []
    },
    {
      "cell_type": "code",
      "metadata": {
        "id": "dCm-TE79IiLk"
      },
      "source": [
        "sent_loc['location'] =  sent_loc['location'].apply(lambda x: mapping[x] if x in mapping.keys() else x )"
      ],
      "execution_count": null,
      "outputs": []
    },
    {
      "cell_type": "code",
      "metadata": {
        "id": "wIuFJwdTkLl_"
      },
      "source": [
        "loc=sent_loc['location'].to_list()"
      ],
      "execution_count": null,
      "outputs": []
    },
    {
      "cell_type": "code",
      "metadata": {
        "id": "8HtyOUOXcqIq"
      },
      "source": [
        "cleanup_sent = {\"sentiment\":{\"neutral\": 0, \"positive\": 1, \"negative\": -1 }}"
      ],
      "execution_count": null,
      "outputs": []
    },
    {
      "cell_type": "code",
      "metadata": {
        "colab": {
          "base_uri": "https://localhost:8080/",
          "height": 204
        },
        "id": "FhxVPJN_nr5P",
        "outputId": "df5799e5-8c57-456f-f2b7-8093b90478e9"
      },
      "source": [
        "sent_loc1=sent_loc1.replace(cleanup_sent)\r\n",
        "sent_loc1.head()"
      ],
      "execution_count": null,
      "outputs": [
        {
          "output_type": "execute_result",
          "data": {
            "text/html": [
              "<div>\n",
              "<style scoped>\n",
              "    .dataframe tbody tr th:only-of-type {\n",
              "        vertical-align: middle;\n",
              "    }\n",
              "\n",
              "    .dataframe tbody tr th {\n",
              "        vertical-align: top;\n",
              "    }\n",
              "\n",
              "    .dataframe thead th {\n",
              "        text-align: right;\n",
              "    }\n",
              "</style>\n",
              "<table border=\"1\" class=\"dataframe\">\n",
              "  <thead>\n",
              "    <tr style=\"text-align: right;\">\n",
              "      <th></th>\n",
              "      <th>level_0</th>\n",
              "      <th>index</th>\n",
              "      <th>sentiment</th>\n",
              "      <th>location</th>\n",
              "    </tr>\n",
              "  </thead>\n",
              "  <tbody>\n",
              "    <tr>\n",
              "      <th>0</th>\n",
              "      <td>0</td>\n",
              "      <td>0</td>\n",
              "      <td>0</td>\n",
              "      <td>Baabda, Lebanon</td>\n",
              "    </tr>\n",
              "    <tr>\n",
              "      <th>1</th>\n",
              "      <td>1</td>\n",
              "      <td>1</td>\n",
              "      <td>-1</td>\n",
              "      <td>Beirut</td>\n",
              "    </tr>\n",
              "    <tr>\n",
              "      <th>2</th>\n",
              "      <td>2</td>\n",
              "      <td>2</td>\n",
              "      <td>-1</td>\n",
              "      <td>Beirut, LB</td>\n",
              "    </tr>\n",
              "    <tr>\n",
              "      <th>3</th>\n",
              "      <td>3</td>\n",
              "      <td>5</td>\n",
              "      <td>0</td>\n",
              "      <td>lebanon</td>\n",
              "    </tr>\n",
              "    <tr>\n",
              "      <th>4</th>\n",
              "      <td>4</td>\n",
              "      <td>6</td>\n",
              "      <td>-1</td>\n",
              "      <td>Naccache, Lebanon</td>\n",
              "    </tr>\n",
              "  </tbody>\n",
              "</table>\n",
              "</div>"
            ],
            "text/plain": [
              "   level_0  index  sentiment           location\n",
              "0        0      0          0    Baabda, Lebanon\n",
              "1        1      1         -1             Beirut\n",
              "2        2      2         -1         Beirut, LB\n",
              "3        3      5          0            lebanon\n",
              "4        4      6         -1  Naccache, Lebanon"
            ]
          },
          "metadata": {
            "tags": []
          },
          "execution_count": 78
        }
      ]
    },
    {
      "cell_type": "code",
      "metadata": {
        "id": "QJN5M6y1d13v"
      },
      "source": [
        "for i in range(len(sent_loc1)):\r\n",
        "  if sent_loc1.location[i] not in loc:\r\n",
        "    sent_loc1=sent_loc1.drop(index=i)"
      ],
      "execution_count": null,
      "outputs": []
    },
    {
      "cell_type": "code",
      "metadata": {
        "id": "0oNTZG3_eS54"
      },
      "source": [
        "sent_loc1=sent_loc1.drop(['level_0', 'index'], axis=1)\r\n"
      ],
      "execution_count": null,
      "outputs": []
    },
    {
      "cell_type": "code",
      "metadata": {
        "colab": {
          "base_uri": "https://localhost:8080/"
        },
        "id": "JbZd80AIrKga",
        "outputId": "e7c49c86-9db3-477c-a18b-17fe67abb54f"
      },
      "source": [
        "sent_loc1=sent_loc1.reset_index()\r\n",
        "sent_loc1.info()"
      ],
      "execution_count": null,
      "outputs": [
        {
          "output_type": "stream",
          "text": [
            "<class 'pandas.core.frame.DataFrame'>\n",
            "RangeIndex: 6333 entries, 0 to 6332\n",
            "Data columns (total 3 columns):\n",
            " #   Column     Non-Null Count  Dtype \n",
            "---  ------     --------------  ----- \n",
            " 0   index      6333 non-null   int64 \n",
            " 1   sentiment  6333 non-null   int64 \n",
            " 2   location   6333 non-null   object\n",
            "dtypes: int64(2), object(1)\n",
            "memory usage: 148.6+ KB\n"
          ],
          "name": "stdout"
        }
      ]
    },
    {
      "cell_type": "code",
      "metadata": {
        "id": "zJt0ZjyJrsQd"
      },
      "source": [
        "sent_loc['sentiment']=0.0"
      ],
      "execution_count": null,
      "outputs": []
    },
    {
      "cell_type": "code",
      "metadata": {
        "colab": {
          "base_uri": "https://localhost:8080/"
        },
        "id": "WiKcoH6BrRPs",
        "outputId": "45763bbb-167f-4cd4-fe02-d616001b6116"
      },
      "source": [
        "for i in range(len(sent_loc1)):\r\n",
        "  for j in range(len(sent_loc)):\r\n",
        "    if sent_loc1.location[i]== sent_loc.location[j]:\r\n",
        "      sent_loc.sentiment[j]=sent_loc.sentiment[j]+sent_loc1.sentiment[i]\r\n"
      ],
      "execution_count": null,
      "outputs": [
        {
          "output_type": "stream",
          "text": [
            "/usr/local/lib/python3.6/dist-packages/ipykernel_launcher.py:4: SettingWithCopyWarning: \n",
            "A value is trying to be set on a copy of a slice from a DataFrame\n",
            "\n",
            "See the caveats in the documentation: https://pandas.pydata.org/pandas-docs/stable/user_guide/indexing.html#returning-a-view-versus-a-copy\n",
            "  after removing the cwd from sys.path.\n"
          ],
          "name": "stderr"
        }
      ]
    },
    {
      "cell_type": "code",
      "metadata": {
        "colab": {
          "base_uri": "https://localhost:8080/"
        },
        "id": "ryIinCAgwcvy",
        "outputId": "b23ca436-749b-480a-a8ad-a03fd1d9a7e7"
      },
      "source": [
        "sent_loc.info()"
      ],
      "execution_count": null,
      "outputs": [
        {
          "output_type": "stream",
          "text": [
            "<class 'pandas.core.frame.DataFrame'>\n",
            "RangeIndex: 410 entries, 0 to 409\n",
            "Data columns (total 3 columns):\n",
            " #   Column     Non-Null Count  Dtype  \n",
            "---  ------     --------------  -----  \n",
            " 0   location   318 non-null    object \n",
            " 1   count      410 non-null    int64  \n",
            " 2   sentiment  410 non-null    float64\n",
            "dtypes: float64(1), int64(1), object(1)\n",
            "memory usage: 9.7+ KB\n"
          ],
          "name": "stdout"
        }
      ]
    },
    {
      "cell_type": "code",
      "metadata": {
        "colab": {
          "base_uri": "https://localhost:8080/"
        },
        "id": "HEsHtbh8wqCS",
        "outputId": "88b60a61-b376-446e-ac92-7fe9bd50fc83"
      },
      "source": [
        "sent_loc.replace(\"\", nan_value, inplace=True)\r\n",
        "sent_loc=sent_loc[sent_loc.location.notnull()].reset_index()\r\n",
        "sent_loc.info()"
      ],
      "execution_count": null,
      "outputs": [
        {
          "output_type": "stream",
          "text": [
            "<class 'pandas.core.frame.DataFrame'>\n",
            "RangeIndex: 318 entries, 0 to 317\n",
            "Data columns (total 4 columns):\n",
            " #   Column     Non-Null Count  Dtype  \n",
            "---  ------     --------------  -----  \n",
            " 0   index      318 non-null    int64  \n",
            " 1   location   318 non-null    object \n",
            " 2   count      318 non-null    int64  \n",
            " 3   sentiment  318 non-null    float64\n",
            "dtypes: float64(1), int64(2), object(1)\n",
            "memory usage: 10.1+ KB\n"
          ],
          "name": "stdout"
        }
      ]
    },
    {
      "cell_type": "code",
      "metadata": {
        "colab": {
          "base_uri": "https://localhost:8080/"
        },
        "id": "rIVsVFc-PgW4",
        "outputId": "4fb1ef3e-0b81-4234-af88-0e29a90ae7a5"
      },
      "source": [
        "!pip install geopy"
      ],
      "execution_count": null,
      "outputs": [
        {
          "output_type": "stream",
          "text": [
            "Requirement already satisfied: geopy in /usr/local/lib/python3.6/dist-packages (1.17.0)\n",
            "Requirement already satisfied: geographiclib<2,>=1.49 in /usr/local/lib/python3.6/dist-packages (from geopy) (1.50)\n"
          ],
          "name": "stdout"
        }
      ]
    },
    {
      "cell_type": "code",
      "metadata": {
        "id": "F5W_9F6-Pmss"
      },
      "source": [
        "from geopy.geocoders import Nominatim\r\n",
        "geolocator= Nominatim(user_agent='my_app')\r\n"
      ],
      "execution_count": null,
      "outputs": []
    },
    {
      "cell_type": "code",
      "metadata": {
        "id": "DEQ6ZJJH5ZaV"
      },
      "source": [
        "geolocated1 = list(map(lambda x: [x,geolocator.geocode(x)[1] if geolocator.geocode(x) else None],sent_loc.location)) "
      ],
      "execution_count": null,
      "outputs": []
    },
    {
      "cell_type": "code",
      "metadata": {
        "id": "eSQ-U03EGz0q"
      },
      "source": [
        "geo=geolocated1"
      ],
      "execution_count": null,
      "outputs": []
    },
    {
      "cell_type": "code",
      "metadata": {
        "colab": {
          "base_uri": "https://localhost:8080/",
          "height": 204
        },
        "id": "G42iBX1BOULU",
        "outputId": "55c49ac5-35fc-4a51-8118-45514150c95c"
      },
      "source": [
        "geo=pd.DataFrame(geo)\r\n",
        "geo['counts']=sent_loc['count']\r\n",
        "geo['sentiment']=sent_loc['sentiment']\r\n",
        "geo.columns = ['location','latlong','counts', 'sentiment']\r\n",
        "geo.head()"
      ],
      "execution_count": null,
      "outputs": [
        {
          "output_type": "execute_result",
          "data": {
            "text/html": [
              "<div>\n",
              "<style scoped>\n",
              "    .dataframe tbody tr th:only-of-type {\n",
              "        vertical-align: middle;\n",
              "    }\n",
              "\n",
              "    .dataframe tbody tr th {\n",
              "        vertical-align: top;\n",
              "    }\n",
              "\n",
              "    .dataframe thead th {\n",
              "        text-align: right;\n",
              "    }\n",
              "</style>\n",
              "<table border=\"1\" class=\"dataframe\">\n",
              "  <thead>\n",
              "    <tr style=\"text-align: right;\">\n",
              "      <th></th>\n",
              "      <th>location</th>\n",
              "      <th>latlong</th>\n",
              "      <th>counts</th>\n",
              "      <th>sentiment</th>\n",
              "    </tr>\n",
              "  </thead>\n",
              "  <tbody>\n",
              "    <tr>\n",
              "      <th>0</th>\n",
              "      <td>Lebanon</td>\n",
              "      <td>(33.8750629, 35.843409)</td>\n",
              "      <td>4093</td>\n",
              "      <td>-2506.0</td>\n",
              "    </tr>\n",
              "    <tr>\n",
              "      <th>1</th>\n",
              "      <td>Beirut, LB</td>\n",
              "      <td>(33.8959203, 35.47843)</td>\n",
              "      <td>792</td>\n",
              "      <td>-48.0</td>\n",
              "    </tr>\n",
              "    <tr>\n",
              "      <th>2</th>\n",
              "      <td>Beirut, LB</td>\n",
              "      <td>(33.8959203, 35.47843)</td>\n",
              "      <td>549</td>\n",
              "      <td>-48.0</td>\n",
              "    </tr>\n",
              "    <tr>\n",
              "      <th>3</th>\n",
              "      <td>Beirut, LB</td>\n",
              "      <td>(33.8959203, 35.47843)</td>\n",
              "      <td>502</td>\n",
              "      <td>-48.0</td>\n",
              "    </tr>\n",
              "    <tr>\n",
              "      <th>4</th>\n",
              "      <td>Lebanon</td>\n",
              "      <td>(33.8750629, 35.843409)</td>\n",
              "      <td>462</td>\n",
              "      <td>-2506.0</td>\n",
              "    </tr>\n",
              "  </tbody>\n",
              "</table>\n",
              "</div>"
            ],
            "text/plain": [
              "     location                  latlong  counts  sentiment\n",
              "0     Lebanon  (33.8750629, 35.843409)    4093    -2506.0\n",
              "1  Beirut, LB   (33.8959203, 35.47843)     792      -48.0\n",
              "2  Beirut, LB   (33.8959203, 35.47843)     549      -48.0\n",
              "3  Beirut, LB   (33.8959203, 35.47843)     502      -48.0\n",
              "4     Lebanon  (33.8750629, 35.843409)     462    -2506.0"
            ]
          },
          "metadata": {
            "tags": []
          },
          "execution_count": 91
        }
      ]
    },
    {
      "cell_type": "code",
      "metadata": {
        "colab": {
          "base_uri": "https://localhost:8080/"
        },
        "id": "NffKnY_0PUWo",
        "outputId": "da389162-870d-4a15-90db-77687975f2e5"
      },
      "source": [
        "geo.dropna(inplace=True)\r\n",
        "geo=geo.reset_index()\r\n",
        "geo.info()"
      ],
      "execution_count": null,
      "outputs": [
        {
          "output_type": "stream",
          "text": [
            "<class 'pandas.core.frame.DataFrame'>\n",
            "RangeIndex: 313 entries, 0 to 312\n",
            "Data columns (total 5 columns):\n",
            " #   Column     Non-Null Count  Dtype  \n",
            "---  ------     --------------  -----  \n",
            " 0   index      313 non-null    int64  \n",
            " 1   location   313 non-null    object \n",
            " 2   latlong    313 non-null    object \n",
            " 3   counts     313 non-null    int64  \n",
            " 4   sentiment  313 non-null    float64\n",
            "dtypes: float64(1), int64(2), object(2)\n",
            "memory usage: 12.4+ KB\n"
          ],
          "name": "stdout"
        }
      ]
    },
    {
      "cell_type": "code",
      "metadata": {
        "id": "LSbsNozXTDVj"
      },
      "source": [
        "geo['lat'] = geo.latlong.apply(lambda x: x[0])\r\n",
        "geo['lon'] = geo.latlong.apply(lambda x: x[1])\r\n",
        "geo.drop('latlong',axis=1, inplace=True)\r\n"
      ],
      "execution_count": null,
      "outputs": []
    },
    {
      "cell_type": "code",
      "metadata": {
        "colab": {
          "base_uri": "https://localhost:8080/",
          "height": 204
        },
        "id": "iAZ0Pd9oQBBW",
        "outputId": "d7f6bb75-47b8-4c57-c6dc-e49c06293750"
      },
      "source": [
        "geo.head()"
      ],
      "execution_count": null,
      "outputs": [
        {
          "output_type": "execute_result",
          "data": {
            "text/html": [
              "<div>\n",
              "<style scoped>\n",
              "    .dataframe tbody tr th:only-of-type {\n",
              "        vertical-align: middle;\n",
              "    }\n",
              "\n",
              "    .dataframe tbody tr th {\n",
              "        vertical-align: top;\n",
              "    }\n",
              "\n",
              "    .dataframe thead th {\n",
              "        text-align: right;\n",
              "    }\n",
              "</style>\n",
              "<table border=\"1\" class=\"dataframe\">\n",
              "  <thead>\n",
              "    <tr style=\"text-align: right;\">\n",
              "      <th></th>\n",
              "      <th>index</th>\n",
              "      <th>location</th>\n",
              "      <th>counts</th>\n",
              "      <th>sentiment</th>\n",
              "      <th>lat</th>\n",
              "      <th>lon</th>\n",
              "    </tr>\n",
              "  </thead>\n",
              "  <tbody>\n",
              "    <tr>\n",
              "      <th>0</th>\n",
              "      <td>0</td>\n",
              "      <td>Lebanon</td>\n",
              "      <td>4093</td>\n",
              "      <td>-2506.0</td>\n",
              "      <td>33.875063</td>\n",
              "      <td>35.843409</td>\n",
              "    </tr>\n",
              "    <tr>\n",
              "      <th>1</th>\n",
              "      <td>1</td>\n",
              "      <td>Beirut, LB</td>\n",
              "      <td>792</td>\n",
              "      <td>-48.0</td>\n",
              "      <td>33.895920</td>\n",
              "      <td>35.478430</td>\n",
              "    </tr>\n",
              "    <tr>\n",
              "      <th>2</th>\n",
              "      <td>2</td>\n",
              "      <td>Beirut, LB</td>\n",
              "      <td>549</td>\n",
              "      <td>-48.0</td>\n",
              "      <td>33.895920</td>\n",
              "      <td>35.478430</td>\n",
              "    </tr>\n",
              "    <tr>\n",
              "      <th>3</th>\n",
              "      <td>3</td>\n",
              "      <td>Beirut, LB</td>\n",
              "      <td>502</td>\n",
              "      <td>-48.0</td>\n",
              "      <td>33.895920</td>\n",
              "      <td>35.478430</td>\n",
              "    </tr>\n",
              "    <tr>\n",
              "      <th>4</th>\n",
              "      <td>4</td>\n",
              "      <td>Lebanon</td>\n",
              "      <td>462</td>\n",
              "      <td>-2506.0</td>\n",
              "      <td>33.875063</td>\n",
              "      <td>35.843409</td>\n",
              "    </tr>\n",
              "  </tbody>\n",
              "</table>\n",
              "</div>"
            ],
            "text/plain": [
              "   index    location  counts  sentiment        lat        lon\n",
              "0      0     Lebanon    4093    -2506.0  33.875063  35.843409\n",
              "1      1  Beirut, LB     792      -48.0  33.895920  35.478430\n",
              "2      2  Beirut, LB     549      -48.0  33.895920  35.478430\n",
              "3      3  Beirut, LB     502      -48.0  33.895920  35.478430\n",
              "4      4     Lebanon     462    -2506.0  33.875063  35.843409"
            ]
          },
          "metadata": {
            "tags": []
          },
          "execution_count": 94
        }
      ]
    },
    {
      "cell_type": "code",
      "metadata": {
        "colab": {
          "base_uri": "https://localhost:8080/",
          "height": 837
        },
        "id": "pW207hBaKBAk",
        "outputId": "7b5a363e-4e1c-4a56-dc10-632eb5414492"
      },
      "source": [
        "import plotly.express as px\r\n",
        "px.set_mapbox_access_token(token= 'pk.eyJ1IjoibWVsaXNzYWJlYWluaSIsImEiOiJja2lwM3FvbzAxMmhrMnJvNWI4emlydjBzIn0.sEIUh2xCKtZd44rpXrQk1g')\r\n",
        "fig = px.scatter_mapbox(geo, lat='lat', lon='lon', size_max=15, zoom=1,width=1000, height=800,  mapbox_style ='carto-darkmatter')\r\n",
        "\r\n",
        "fig.data[0].marker = dict(size = 5, color='red')\r\n",
        "fig.show()"
      ],
      "execution_count": null,
      "outputs": [
        {
          "output_type": "display_data",
          "data": {
            "text/html": [
              "<html>\n",
              "<head><meta charset=\"utf-8\" /></head>\n",
              "<body>\n",
              "    <div>\n",
              "            <script src=\"https://cdnjs.cloudflare.com/ajax/libs/mathjax/2.7.5/MathJax.js?config=TeX-AMS-MML_SVG\"></script><script type=\"text/javascript\">if (window.MathJax) {MathJax.Hub.Config({SVG: {font: \"STIX-Web\"}});}</script>\n",
              "                <script type=\"text/javascript\">window.PlotlyConfig = {MathJaxConfig: 'local'};</script>\n",
              "        <script src=\"https://cdn.plot.ly/plotly-latest.min.js\"></script>    \n",
              "            <div id=\"b5c7c29f-af0b-4539-b6fc-4e5b1a606b27\" class=\"plotly-graph-div\" style=\"height:800px; width:1000px;\"></div>\n",
              "            <script type=\"text/javascript\">\n",
              "                \n",
              "                    window.PLOTLYENV=window.PLOTLYENV || {};\n",
              "                    \n",
              "                if (document.getElementById(\"b5c7c29f-af0b-4539-b6fc-4e5b1a606b27\")) {\n",
              "                    Plotly.newPlot(\n",
              "                        'b5c7c29f-af0b-4539-b6fc-4e5b1a606b27',\n",
              "                        [{\"hoverlabel\": {\"namelength\": 0}, \"hovertemplate\": \"lat=%{lat}<br>lon=%{lon}\", \"lat\": [33.8750629, 33.8959203, 33.8959203, 33.8959203, 33.8750629, 33.8750629, 33.9228218, 25.6242618, 25.0750095, 33.8959203, 29.2733964, 29.2733964, 25.0750095, 33.8959203, 33.8750629, 33.8338977, 33.8959203, 24.638916, 33.8959203, 33.8959203, 30.0443879, 51.5073219, 26.2540493, 24.638916, 24.638916, 25.6242618, 25.6242618, 33.8750629, 29.2733964, 33.8750629, 26.2540493, 42.3750997, 46.603354, 48.8566969, 33.8959203, 33.0955793, 33.8959203, 33.8750629, 25.3336984, 51.0834196, 34.6215765, 26.2540493, 24.4538352, 25.6242618, 33.5618345, 25.2856329, 33.2721211, 25.6242618, 24.0002488, 47.3744489, 38.9597594, 34.4453581, 34.4453581, 26.1551249, 33.8750629, 21.5810088, 33.8959203, 31.1667049, 31.9515694, 39.7837304, 33.8750629, 29.2733964, 39.7837304, 33.8959203, 61.0666922, 33.8520084, 38.8949924, 42.6384261, 41.0096334, 33.8959203, 33.8959203, 34.6401861, 52.5310214, 34.0266183, 34.0266183, 33.8439408, 40.325793000000004, 29.2733964, 31.1667049, 29.2733964, 48.8566969, 33.8959203, 25.6242618, 43.6112422, 40.325793000000004, 25.0750095, 31.1667049, 34.6215765, -38.9031888, 45.4972159, 31.199004, 39.4697065, 38.9597594, 33.8959203, 29.2733964, 33.8750629, 16.3471243, 34.9823018, 33.8750629, 25.6242618, 33.8750629, 36.7014631, 45.7578137, 29.2733964, 33.9231207, 25.3336984, 27.7567667, 33.8959203, 31.9515694, 34.4453581, 26.2540493, 43.6534817, 43.6211955, 34.0536909, 34.3929847, 33.8959203, 33.6810179, 34.4453581, 34.0160584, 45.421106, 33.3812029, 26.2540493, 31.1667049, 38.8949924, 51.0834196, 28.0000272, 46.603354, 25.6242618, 34.4453581, 33.8750629, 34.4453581, 29.2733964, 33.3812029, 59.6749712, 34.11920775, 33.8750629, 40.325793000000004, 33.8750629, 33.8750629, 25.0750095, 33.8959203, 33.8885706, 34.3929847, 25.6242618, 24.7037638, 25.0750095, 49.4871968, 25.0750095, 33.3812029, 23.5882019, 34.3962036, 14.5844444, 61.0666922, 8.0018709, 31.1667049, 32.7762719, 25.0750095, 33.8750629, 38.9597594, -33.8548157, 40.325793000000004, 51.5073219, 51.5073219, 43.4376125, 33.8750629, 33.8959203, 33.8959203, 26.8234472, 26.2540493, 31.9515694, 33.0955793, 25.6242618, 34.6401861, 29.2733964, 25.0750095, 16.3471243, -24.7761086, 33.8959203, 31.9515694, 48.8566969, 31.94696655, 33.8750629, 52.5170365, 33.8959203, 34.6401861, 33.8959203, 26.2540493, 31.9515694, 15.593325, 25.6242618, 30.0443879, 41.3828939, 24.4538352, 25.6242618, 33.8750629, 25.0750095, 34.4453581, 40.325793000000004, 51.0000002, 29.2733964, 49.4871968, 4.136170249999999, 25.3336984, 33.8959203, 33.8750629, 34.6401861, 34.4453581, 40.325793000000004, 26.1551249, -17.3903981, 33.8750629, 33.8959203, 34.6401861, 40.325793000000004, 34.009653, 25.6242618, 7.9897371, 33.8750629, 33.8475632, 33.8959203, 40.325793000000004, 51.5073219, 31.9515694, 25.6242618, 26.1551249, 33.8475632, 29.2733964, 54.7023545, 24.638916, 51.481686499999995, 33.8959203, 33.8959203, 33.8750629, 33.8750629, 31.9515694, 40.325793000000004, 16.3471243, 33.8750629, 46.603354, 33.8750629, 33.6810179, 26.1551249, 25.6242618, 32.6475314, 33.8647483, 31.94696655, 26.2540493, 40.7127281, 33.8959203, 14.5844444, 34.29, 29.2733964, 31.9515694, 43.6434, 48.8566969, 33.8973194, 25.0750095, 33.8959203, 20.2540382, 34.4453581, 33.8750629, 25.6242618, 25.6242618, 33.8750629, 33.8959203, 33.8959203, 50.6402809, 59.3251172, 39.7837304, 45.4972159, 28.0000272, 33.8959203, 31.4770571, 31.1667049, 46.603354, 33.8959203, 40.2253569, 33.7478003, 33.8959203, 33.9842214, 24.638916, 25.6242618, 34.3929847, 34.4453581, 33.2721211, 33.8959203, 34.3879308, 38.9597594, 33.8959203, 33.8750629, 57.7072326, 34.4453581, 40.7127281, 25.0750095, 33.3024309, 26.2540493, 33.8520084, 34.4453581, 25.6242618, 34.009653, 33.8750629, 34.4453581, 33.1189362, 33.8750629, 25.0750095, 38.8949924, 33.5618345, 33.8750629, 26.2540493, 31.5656822, 4.5693754, 31.1667049, 25.6242618], \"legendgroup\": \"\", \"lon\": [35.843409, 35.47843, 35.47843, 35.47843, 35.843409, 35.843409, 35.5970889, 42.3528328, 55.18876088183319, 35.47843, 47.4979476, 47.4979476, 55.18876088183319, 35.47843, 35.843409, 35.5443697, 35.47843, 46.7160104, 35.47843, 35.47843, 31.2357257, -0.1276474, 29.2675469, 46.7160104, 46.7160104, 42.3528328, 42.3528328, 35.843409, 47.4979476, 35.843409, 29.2675469, -71.1056157, 1.8883335, 2.3514616, 35.47843, 44.1749775, 35.47843, 35.843409, 51.2295295, 10.4234469, 36.444056372914844, 29.2675469, 54.3774014, 42.3528328, 35.3780338, 51.5264162, 35.1964023, 42.3528328, 53.9994829, 8.5410422, 34.9249653, 35.8225116, 35.8225116, 50.5344606, 35.843409, 39.1653612, 35.47843, 36.941628, 35.9239625, -100.4458825, 35.843409, 47.4979476, -100.4458825, 35.47843, -107.9917071, 35.5111288, -77.0365581, 12.674297, 28.9651646, 35.47843, 35.47843, 39.0494106, -1.2649062, 35.6540175, 35.6540175, 9.400138, -76.40675880246914, 47.4979476, 36.941628, 47.4979476, 2.3514616, 35.47843, 42.3528328, 3.8767337, -76.40675880246914, 55.18876088183319, 36.941628, 36.444056372914844, -11.175001, -73.6103642, 29.894378, -0.3763353, 34.9249653, 35.47843, 47.4979476, 35.843409, 47.8915271, 33.1451285, 35.843409, 42.3528328, 35.843409, -118.7559974, 4.8320114, 47.4979476, 35.738129, 51.2295295, -81.4639835, 35.47843, 35.9239625, 35.8225116, 29.2675469, -79.3839347, -84.6824346, -118.242766, 35.8967113, 35.47843, 35.84169881903395, 35.8225116, 35.6608634, -75.690308, 35.4825346, 29.2675469, 36.941628, -77.0365581, 10.4234469, 2.9999825, 1.8883335, 42.3528328, 35.8225116, 35.843409, 35.8225116, 47.4979476, 35.4825346, 14.5208584, 35.646448154281956, 35.843409, -76.40675880246914, 35.843409, 35.843409, 55.18876088183319, 35.47843, 35.4932956, 35.8967113, 42.3528328, 46.7020215, 55.18876088183319, 31.2718321, 55.18876088183319, 35.4825346, 58.3829448, 36.3870372, 29.4917691, -107.9917071, -66.1109318, 36.941628, -96.7968559, 55.18876088183319, 35.843409, 34.9249653, 151.2164539, -76.40675880246914, -0.1276474, -0.1276474, -70.8844649, 35.843409, 35.47843, 35.47843, 18.1236723, 29.2675469, 35.9239625, 44.1749775, 42.3528328, 39.0494106, 47.4979476, 55.18876088183319, 47.8915271, 134.755, 35.47843, 35.9239625, 2.3514616, 35.27386547291496, 35.843409, 13.3888599, 35.47843, 39.0494106, 35.47843, 29.2675469, 35.9239625, 32.53565, 42.3528328, 31.2357257, 2.1774322, 54.3774014, 42.3528328, 35.843409, 55.18876088183319, 35.8225116, -76.40675880246914, -109.0000002, 47.4979476, 31.2718321, 9.552427948129282, 51.2295295, 35.47843, 35.843409, 39.0494106, 35.8225116, -76.40675880246914, 50.5344606, -66.1530403, 35.843409, 35.47843, 39.0494106, -76.40675880246914, 36.2117096, 42.3528328, -5.5679458, 35.843409, 35.9027074, 35.47843, -76.40675880246914, -0.1276474, 35.9239625, 42.3528328, 50.5344606, 35.9027074, 47.4979476, -3.2765753, 46.7160104, -0.19196366442110424, 35.47843, 35.47843, 35.843409, 35.843409, 35.9239625, -76.40675880246914, 47.8915271, 35.843409, 1.8883335, 35.843409, 35.84169881903395, 50.5344606, 42.3528328, 54.5643516, 35.5825831, 35.27386547291496, 29.2675469, -74.0060152, 35.47843, 29.4917691, 36.092, 47.4979476, 35.9239625, 1.37799, 2.3514616, 35.5776078, 55.18876088183319, 35.47843, -9.2399263, 35.8225116, 35.843409, 42.3528328, 42.3528328, 35.843409, 35.47843, 35.47843, 4.6667145, 18.0710935, -100.4458825, -73.6103642, 2.9999825, 35.47843, 34.40493124714024, 36.941628, 1.8883335, 35.47843, -82.6881395, 35.5080367, 35.47843, 36.0243148, 46.7160104, 42.3528328, 35.8967113, 35.8225116, 35.1964023, 35.47843, 35.7881306, 34.9249653, 35.47843, 35.843409, 11.9670171, 35.8225116, -74.0060152, 55.18876088183319, 44.3787992, 29.2675469, 35.5111288, 35.8225116, 42.3528328, 36.2117096, 35.843409, 35.8225116, 35.4341129, 35.843409, 55.18876088183319, -77.0365581, 35.3780338, 35.843409, 29.2675469, 74.3141829, 102.2656823, 36.941628, 42.3528328], \"marker\": {\"color\": \"red\", \"size\": 5}, \"mode\": \"markers\", \"name\": \"\", \"showlegend\": false, \"subplot\": \"mapbox\", \"type\": \"scattermapbox\"}],\n",
              "                        {\"height\": 800, \"legend\": {\"tracegroupgap\": 0}, \"mapbox\": {\"accesstoken\": \"pk.eyJ1IjoibWVsaXNzYWJlYWluaSIsImEiOiJja2lwM3FvbzAxMmhrMnJvNWI4emlydjBzIn0.sEIUh2xCKtZd44rpXrQk1g\", \"center\": {\"lat\": 32.70996562364217, \"lon\": 22.46529003314583}, \"domain\": {\"x\": [0.0, 1.0], \"y\": [0.0, 1.0]}, \"style\": \"carto-darkmatter\", \"zoom\": 1}, \"margin\": {\"t\": 60}, \"template\": {\"data\": {\"bar\": [{\"error_x\": {\"color\": \"#2a3f5f\"}, \"error_y\": {\"color\": \"#2a3f5f\"}, \"marker\": {\"line\": {\"color\": \"#E5ECF6\", \"width\": 0.5}}, \"type\": \"bar\"}], \"barpolar\": [{\"marker\": {\"line\": {\"color\": \"#E5ECF6\", \"width\": 0.5}}, \"type\": \"barpolar\"}], \"carpet\": [{\"aaxis\": {\"endlinecolor\": \"#2a3f5f\", \"gridcolor\": \"white\", \"linecolor\": \"white\", \"minorgridcolor\": \"white\", \"startlinecolor\": \"#2a3f5f\"}, \"baxis\": {\"endlinecolor\": \"#2a3f5f\", \"gridcolor\": \"white\", \"linecolor\": \"white\", \"minorgridcolor\": \"white\", \"startlinecolor\": \"#2a3f5f\"}, \"type\": \"carpet\"}], \"choropleth\": [{\"colorbar\": {\"outlinewidth\": 0, \"ticks\": \"\"}, \"type\": \"choropleth\"}], \"contour\": [{\"colorbar\": {\"outlinewidth\": 0, \"ticks\": \"\"}, \"colorscale\": [[0.0, \"#0d0887\"], [0.1111111111111111, \"#46039f\"], [0.2222222222222222, \"#7201a8\"], [0.3333333333333333, \"#9c179e\"], [0.4444444444444444, \"#bd3786\"], [0.5555555555555556, \"#d8576b\"], [0.6666666666666666, \"#ed7953\"], [0.7777777777777778, \"#fb9f3a\"], [0.8888888888888888, \"#fdca26\"], [1.0, \"#f0f921\"]], \"type\": \"contour\"}], \"contourcarpet\": [{\"colorbar\": {\"outlinewidth\": 0, \"ticks\": \"\"}, \"type\": \"contourcarpet\"}], \"heatmap\": [{\"colorbar\": {\"outlinewidth\": 0, \"ticks\": \"\"}, \"colorscale\": [[0.0, \"#0d0887\"], [0.1111111111111111, \"#46039f\"], [0.2222222222222222, \"#7201a8\"], [0.3333333333333333, \"#9c179e\"], [0.4444444444444444, \"#bd3786\"], [0.5555555555555556, \"#d8576b\"], [0.6666666666666666, \"#ed7953\"], [0.7777777777777778, \"#fb9f3a\"], [0.8888888888888888, \"#fdca26\"], [1.0, \"#f0f921\"]], \"type\": \"heatmap\"}], \"heatmapgl\": [{\"colorbar\": {\"outlinewidth\": 0, \"ticks\": \"\"}, \"colorscale\": [[0.0, \"#0d0887\"], [0.1111111111111111, \"#46039f\"], [0.2222222222222222, \"#7201a8\"], [0.3333333333333333, \"#9c179e\"], [0.4444444444444444, \"#bd3786\"], [0.5555555555555556, \"#d8576b\"], [0.6666666666666666, \"#ed7953\"], [0.7777777777777778, \"#fb9f3a\"], [0.8888888888888888, \"#fdca26\"], [1.0, \"#f0f921\"]], \"type\": \"heatmapgl\"}], \"histogram\": [{\"marker\": {\"colorbar\": {\"outlinewidth\": 0, \"ticks\": \"\"}}, \"type\": \"histogram\"}], \"histogram2d\": [{\"colorbar\": {\"outlinewidth\": 0, \"ticks\": \"\"}, \"colorscale\": [[0.0, \"#0d0887\"], [0.1111111111111111, \"#46039f\"], [0.2222222222222222, \"#7201a8\"], [0.3333333333333333, \"#9c179e\"], [0.4444444444444444, \"#bd3786\"], [0.5555555555555556, \"#d8576b\"], [0.6666666666666666, \"#ed7953\"], [0.7777777777777778, \"#fb9f3a\"], [0.8888888888888888, \"#fdca26\"], [1.0, \"#f0f921\"]], \"type\": \"histogram2d\"}], \"histogram2dcontour\": [{\"colorbar\": {\"outlinewidth\": 0, \"ticks\": \"\"}, \"colorscale\": [[0.0, \"#0d0887\"], [0.1111111111111111, \"#46039f\"], [0.2222222222222222, \"#7201a8\"], [0.3333333333333333, \"#9c179e\"], [0.4444444444444444, \"#bd3786\"], [0.5555555555555556, \"#d8576b\"], [0.6666666666666666, \"#ed7953\"], [0.7777777777777778, \"#fb9f3a\"], [0.8888888888888888, \"#fdca26\"], [1.0, \"#f0f921\"]], \"type\": \"histogram2dcontour\"}], \"mesh3d\": [{\"colorbar\": {\"outlinewidth\": 0, \"ticks\": \"\"}, \"type\": \"mesh3d\"}], \"parcoords\": [{\"line\": {\"colorbar\": {\"outlinewidth\": 0, \"ticks\": \"\"}}, \"type\": \"parcoords\"}], \"pie\": [{\"automargin\": true, \"type\": \"pie\"}], \"scatter\": [{\"marker\": {\"colorbar\": {\"outlinewidth\": 0, \"ticks\": \"\"}}, \"type\": \"scatter\"}], \"scatter3d\": [{\"line\": {\"colorbar\": {\"outlinewidth\": 0, \"ticks\": \"\"}}, \"marker\": {\"colorbar\": {\"outlinewidth\": 0, \"ticks\": \"\"}}, \"type\": \"scatter3d\"}], \"scattercarpet\": [{\"marker\": {\"colorbar\": {\"outlinewidth\": 0, \"ticks\": \"\"}}, \"type\": \"scattercarpet\"}], \"scattergeo\": [{\"marker\": {\"colorbar\": {\"outlinewidth\": 0, \"ticks\": \"\"}}, \"type\": \"scattergeo\"}], \"scattergl\": [{\"marker\": {\"colorbar\": {\"outlinewidth\": 0, \"ticks\": \"\"}}, \"type\": \"scattergl\"}], \"scattermapbox\": [{\"marker\": {\"colorbar\": {\"outlinewidth\": 0, \"ticks\": \"\"}}, \"type\": \"scattermapbox\"}], \"scatterpolar\": [{\"marker\": {\"colorbar\": {\"outlinewidth\": 0, \"ticks\": \"\"}}, \"type\": \"scatterpolar\"}], \"scatterpolargl\": [{\"marker\": {\"colorbar\": {\"outlinewidth\": 0, \"ticks\": \"\"}}, \"type\": \"scatterpolargl\"}], \"scatterternary\": [{\"marker\": {\"colorbar\": {\"outlinewidth\": 0, \"ticks\": \"\"}}, \"type\": \"scatterternary\"}], \"surface\": [{\"colorbar\": {\"outlinewidth\": 0, \"ticks\": \"\"}, \"colorscale\": [[0.0, \"#0d0887\"], [0.1111111111111111, \"#46039f\"], [0.2222222222222222, \"#7201a8\"], [0.3333333333333333, \"#9c179e\"], [0.4444444444444444, \"#bd3786\"], [0.5555555555555556, \"#d8576b\"], [0.6666666666666666, \"#ed7953\"], [0.7777777777777778, \"#fb9f3a\"], [0.8888888888888888, \"#fdca26\"], [1.0, \"#f0f921\"]], \"type\": \"surface\"}], \"table\": [{\"cells\": {\"fill\": {\"color\": \"#EBF0F8\"}, \"line\": {\"color\": \"white\"}}, \"header\": {\"fill\": {\"color\": \"#C8D4E3\"}, \"line\": {\"color\": \"white\"}}, \"type\": \"table\"}]}, \"layout\": {\"annotationdefaults\": {\"arrowcolor\": \"#2a3f5f\", \"arrowhead\": 0, \"arrowwidth\": 1}, \"coloraxis\": {\"colorbar\": {\"outlinewidth\": 0, \"ticks\": \"\"}}, \"colorscale\": {\"diverging\": [[0, \"#8e0152\"], [0.1, \"#c51b7d\"], [0.2, \"#de77ae\"], [0.3, \"#f1b6da\"], [0.4, \"#fde0ef\"], [0.5, \"#f7f7f7\"], [0.6, \"#e6f5d0\"], [0.7, \"#b8e186\"], [0.8, \"#7fbc41\"], [0.9, \"#4d9221\"], [1, \"#276419\"]], \"sequential\": [[0.0, \"#0d0887\"], [0.1111111111111111, \"#46039f\"], [0.2222222222222222, \"#7201a8\"], [0.3333333333333333, \"#9c179e\"], [0.4444444444444444, \"#bd3786\"], [0.5555555555555556, \"#d8576b\"], [0.6666666666666666, \"#ed7953\"], [0.7777777777777778, \"#fb9f3a\"], [0.8888888888888888, \"#fdca26\"], [1.0, \"#f0f921\"]], \"sequentialminus\": [[0.0, \"#0d0887\"], [0.1111111111111111, \"#46039f\"], [0.2222222222222222, \"#7201a8\"], [0.3333333333333333, \"#9c179e\"], [0.4444444444444444, \"#bd3786\"], [0.5555555555555556, \"#d8576b\"], [0.6666666666666666, \"#ed7953\"], [0.7777777777777778, \"#fb9f3a\"], [0.8888888888888888, \"#fdca26\"], [1.0, \"#f0f921\"]]}, \"colorway\": [\"#636efa\", \"#EF553B\", \"#00cc96\", \"#ab63fa\", \"#FFA15A\", \"#19d3f3\", \"#FF6692\", \"#B6E880\", \"#FF97FF\", \"#FECB52\"], \"font\": {\"color\": \"#2a3f5f\"}, \"geo\": {\"bgcolor\": \"white\", \"lakecolor\": \"white\", \"landcolor\": \"#E5ECF6\", \"showlakes\": true, \"showland\": true, \"subunitcolor\": \"white\"}, \"hoverlabel\": {\"align\": \"left\"}, \"hovermode\": \"closest\", \"mapbox\": {\"style\": \"light\"}, \"paper_bgcolor\": \"white\", \"plot_bgcolor\": \"#E5ECF6\", \"polar\": {\"angularaxis\": {\"gridcolor\": \"white\", \"linecolor\": \"white\", \"ticks\": \"\"}, \"bgcolor\": \"#E5ECF6\", \"radialaxis\": {\"gridcolor\": \"white\", \"linecolor\": \"white\", \"ticks\": \"\"}}, \"scene\": {\"xaxis\": {\"backgroundcolor\": \"#E5ECF6\", \"gridcolor\": \"white\", \"gridwidth\": 2, \"linecolor\": \"white\", \"showbackground\": true, \"ticks\": \"\", \"zerolinecolor\": \"white\"}, \"yaxis\": {\"backgroundcolor\": \"#E5ECF6\", \"gridcolor\": \"white\", \"gridwidth\": 2, \"linecolor\": \"white\", \"showbackground\": true, \"ticks\": \"\", \"zerolinecolor\": \"white\"}, \"zaxis\": {\"backgroundcolor\": \"#E5ECF6\", \"gridcolor\": \"white\", \"gridwidth\": 2, \"linecolor\": \"white\", \"showbackground\": true, \"ticks\": \"\", \"zerolinecolor\": \"white\"}}, \"shapedefaults\": {\"line\": {\"color\": \"#2a3f5f\"}}, \"ternary\": {\"aaxis\": {\"gridcolor\": \"white\", \"linecolor\": \"white\", \"ticks\": \"\"}, \"baxis\": {\"gridcolor\": \"white\", \"linecolor\": \"white\", \"ticks\": \"\"}, \"bgcolor\": \"#E5ECF6\", \"caxis\": {\"gridcolor\": \"white\", \"linecolor\": \"white\", \"ticks\": \"\"}}, \"title\": {\"x\": 0.05}, \"xaxis\": {\"automargin\": true, \"gridcolor\": \"white\", \"linecolor\": \"white\", \"ticks\": \"\", \"title\": {\"standoff\": 15}, \"zerolinecolor\": \"white\", \"zerolinewidth\": 2}, \"yaxis\": {\"automargin\": true, \"gridcolor\": \"white\", \"linecolor\": \"white\", \"ticks\": \"\", \"title\": {\"standoff\": 15}, \"zerolinecolor\": \"white\", \"zerolinewidth\": 2}}}, \"width\": 1000},\n",
              "                        {\"responsive\": true}\n",
              "                    ).then(function(){\n",
              "                            \n",
              "var gd = document.getElementById('b5c7c29f-af0b-4539-b6fc-4e5b1a606b27');\n",
              "var x = new MutationObserver(function (mutations, observer) {{\n",
              "        var display = window.getComputedStyle(gd).display;\n",
              "        if (!display || display === 'none') {{\n",
              "            console.log([gd, 'removed!']);\n",
              "            Plotly.purge(gd);\n",
              "            observer.disconnect();\n",
              "        }}\n",
              "}});\n",
              "\n",
              "// Listen for the removal of the full notebook cells\n",
              "var notebookContainer = gd.closest('#notebook-container');\n",
              "if (notebookContainer) {{\n",
              "    x.observe(notebookContainer, {childList: true});\n",
              "}}\n",
              "\n",
              "// Listen for the clearing of the current output cell\n",
              "var outputEl = gd.closest('.output');\n",
              "if (outputEl) {{\n",
              "    x.observe(outputEl, {childList: true});\n",
              "}}\n",
              "\n",
              "                        })\n",
              "                };\n",
              "                \n",
              "            </script>\n",
              "        </div>\n",
              "</body>\n",
              "</html>"
            ]
          },
          "metadata": {
            "tags": []
          }
        }
      ]
    },
    {
      "cell_type": "code",
      "metadata": {
        "colab": {
          "base_uri": "https://localhost:8080/"
        },
        "id": "Oo9Kp03q2CBZ",
        "outputId": "c07d2c2b-47da-4cfe-b11a-fdf6d4503648"
      },
      "source": [
        "tristan=dff.loc[dff['location']=='Tristan Da Cunha']\r\n",
        "tristan['full_text']\r\n"
      ],
      "execution_count": null,
      "outputs": [
        {
          "output_type": "execute_result",
          "data": {
            "text/plain": [
              "8034      وحياتك كلن احلى من بعضانا هاليومين اسؤاهن لان...\n",
              "8597     أشعل نيرانك لا ترحم ف السياسي جحش لا يفهم \\nلب...\n",
              "22189                      طرابلس نبض الثورة ❤\\nلبنانينتفض\n",
              "22209    اكتر من ٧٠ ٠٠٠ متظاهر في طرابلس✌️ بالشارعباقيي...\n",
              "22231    الى اخواننا شعب لبنان انتم بلد وشعب راقي ومتعل...\n",
              "22285    اول يومين كانت فعلا ثورة غضب اما هلق صارت مهرج...\n",
              "22556    الإصلاحات المقترحة من الحريري ممتازة لو عليه ت...\n",
              "22628            غياب الرئيس عون جسديا عن احداث لبنان مقلق\n",
              "22723    مبارح شكيب ضل وراي وين ما روح اليوم خليته يمشي...\n",
              "23179    لبنانينتفض اتمنى للبنان الخير والحياة التي يري...\n",
              "23296    الخسة والدناءة والنذالة والخيانة في صورة👇\\n\\nل...\n",
              "23644    تحية لطرابلس \\nتحية لحيوية شبابها\\nذهلتم العال...\n",
              "23694                      مع احترامي بس طز\\n\\nلبنانينتفض \n",
              "23744      ما هي الأضرار الناتجة عن معمل الزوق\\nما هي ا...\n",
              "23912    طيب يلا ناطرينن 😂😂😂\\n\\nكلنيعنيكلن\\nلبنانينتفض ...\n",
              "23949    شو هالعار انو وزير الاعلام مانع تلفيزيون لبنان...\n",
              "24087    في جحش عال  عم بقول هاي الثورة مش شريفة وفي نا...\n",
              "26107    يقف حزب الله خلف سلطة بائدة\\nلكن لن يقف طويلا\\...\n",
              "26127       انا ولا مرة طلعت عالطرابلس بسبب  الموجود عن...\n",
              "Name: full_text, dtype: object"
            ]
          },
          "metadata": {
            "tags": []
          },
          "execution_count": 96
        }
      ]
    },
    {
      "cell_type": "code",
      "metadata": {
        "colab": {
          "base_uri": "https://localhost:8080/"
        },
        "id": "Eu7BMciF_KDs",
        "outputId": "31363aa8-d23c-4ff0-b3f2-fdf5214856ff"
      },
      "source": [
        "!pip install geopandas"
      ],
      "execution_count": null,
      "outputs": [
        {
          "output_type": "stream",
          "text": [
            "Requirement already satisfied: geopandas in /usr/local/lib/python3.6/dist-packages (0.8.1)\n",
            "Requirement already satisfied: pyproj>=2.2.0 in /usr/local/lib/python3.6/dist-packages (from geopandas) (3.0.0.post1)\n",
            "Requirement already satisfied: shapely in /usr/local/lib/python3.6/dist-packages (from geopandas) (1.7.1)\n",
            "Requirement already satisfied: fiona in /usr/local/lib/python3.6/dist-packages (from geopandas) (1.8.18)\n",
            "Requirement already satisfied: pandas>=0.23.0 in /usr/local/lib/python3.6/dist-packages (from geopandas) (1.1.5)\n",
            "Requirement already satisfied: certifi in /usr/local/lib/python3.6/dist-packages (from pyproj>=2.2.0->geopandas) (2020.12.5)\n",
            "Requirement already satisfied: munch in /usr/local/lib/python3.6/dist-packages (from fiona->geopandas) (2.5.0)\n",
            "Requirement already satisfied: click<8,>=4.0 in /usr/local/lib/python3.6/dist-packages (from fiona->geopandas) (7.1.2)\n",
            "Requirement already satisfied: click-plugins>=1.0 in /usr/local/lib/python3.6/dist-packages (from fiona->geopandas) (1.1.1)\n",
            "Requirement already satisfied: cligj>=0.5 in /usr/local/lib/python3.6/dist-packages (from fiona->geopandas) (0.7.1)\n",
            "Requirement already satisfied: six>=1.7 in /usr/local/lib/python3.6/dist-packages (from fiona->geopandas) (1.15.0)\n",
            "Requirement already satisfied: attrs>=17 in /usr/local/lib/python3.6/dist-packages (from fiona->geopandas) (20.3.0)\n",
            "Requirement already satisfied: numpy>=1.15.4 in /usr/local/lib/python3.6/dist-packages (from pandas>=0.23.0->geopandas) (1.18.5)\n",
            "Requirement already satisfied: pytz>=2017.2 in /usr/local/lib/python3.6/dist-packages (from pandas>=0.23.0->geopandas) (2018.9)\n",
            "Requirement already satisfied: python-dateutil>=2.7.3 in /usr/local/lib/python3.6/dist-packages (from pandas>=0.23.0->geopandas) (2.8.1)\n"
          ],
          "name": "stdout"
        }
      ]
    },
    {
      "cell_type": "code",
      "metadata": {
        "id": "VyqwuN2D9hiC"
      },
      "source": [
        "import geopandas as gpd\r\n",
        "gdf = gpd.GeoDataFrame(geo, geometry=gpd.points_from_xy(geo.lon, geo.lat))"
      ],
      "execution_count": null,
      "outputs": []
    },
    {
      "cell_type": "code",
      "metadata": {
        "colab": {
          "base_uri": "https://localhost:8080/",
          "height": 204
        },
        "id": "_9oS3M1i_W6R",
        "outputId": "d5935ef7-e0d6-41cd-b267-9b9f68ecea19"
      },
      "source": [
        "gdf.head()"
      ],
      "execution_count": null,
      "outputs": [
        {
          "output_type": "execute_result",
          "data": {
            "text/html": [
              "<div>\n",
              "<style scoped>\n",
              "    .dataframe tbody tr th:only-of-type {\n",
              "        vertical-align: middle;\n",
              "    }\n",
              "\n",
              "    .dataframe tbody tr th {\n",
              "        vertical-align: top;\n",
              "    }\n",
              "\n",
              "    .dataframe thead th {\n",
              "        text-align: right;\n",
              "    }\n",
              "</style>\n",
              "<table border=\"1\" class=\"dataframe\">\n",
              "  <thead>\n",
              "    <tr style=\"text-align: right;\">\n",
              "      <th></th>\n",
              "      <th>index</th>\n",
              "      <th>location</th>\n",
              "      <th>counts</th>\n",
              "      <th>sentiment</th>\n",
              "      <th>lat</th>\n",
              "      <th>lon</th>\n",
              "      <th>geometry</th>\n",
              "    </tr>\n",
              "  </thead>\n",
              "  <tbody>\n",
              "    <tr>\n",
              "      <th>0</th>\n",
              "      <td>0</td>\n",
              "      <td>Lebanon</td>\n",
              "      <td>4093</td>\n",
              "      <td>-2506.0</td>\n",
              "      <td>33.875063</td>\n",
              "      <td>35.843409</td>\n",
              "      <td>POINT (35.84341 33.87506)</td>\n",
              "    </tr>\n",
              "    <tr>\n",
              "      <th>1</th>\n",
              "      <td>1</td>\n",
              "      <td>Beirut, LB</td>\n",
              "      <td>792</td>\n",
              "      <td>-48.0</td>\n",
              "      <td>33.895920</td>\n",
              "      <td>35.478430</td>\n",
              "      <td>POINT (35.47843 33.89592)</td>\n",
              "    </tr>\n",
              "    <tr>\n",
              "      <th>2</th>\n",
              "      <td>2</td>\n",
              "      <td>Beirut, LB</td>\n",
              "      <td>549</td>\n",
              "      <td>-48.0</td>\n",
              "      <td>33.895920</td>\n",
              "      <td>35.478430</td>\n",
              "      <td>POINT (35.47843 33.89592)</td>\n",
              "    </tr>\n",
              "    <tr>\n",
              "      <th>3</th>\n",
              "      <td>3</td>\n",
              "      <td>Beirut, LB</td>\n",
              "      <td>502</td>\n",
              "      <td>-48.0</td>\n",
              "      <td>33.895920</td>\n",
              "      <td>35.478430</td>\n",
              "      <td>POINT (35.47843 33.89592)</td>\n",
              "    </tr>\n",
              "    <tr>\n",
              "      <th>4</th>\n",
              "      <td>4</td>\n",
              "      <td>Lebanon</td>\n",
              "      <td>462</td>\n",
              "      <td>-2506.0</td>\n",
              "      <td>33.875063</td>\n",
              "      <td>35.843409</td>\n",
              "      <td>POINT (35.84341 33.87506)</td>\n",
              "    </tr>\n",
              "  </tbody>\n",
              "</table>\n",
              "</div>"
            ],
            "text/plain": [
              "   index    location  counts  ...        lat        lon                   geometry\n",
              "0      0     Lebanon    4093  ...  33.875063  35.843409  POINT (35.84341 33.87506)\n",
              "1      1  Beirut, LB     792  ...  33.895920  35.478430  POINT (35.47843 33.89592)\n",
              "2      2  Beirut, LB     549  ...  33.895920  35.478430  POINT (35.47843 33.89592)\n",
              "3      3  Beirut, LB     502  ...  33.895920  35.478430  POINT (35.47843 33.89592)\n",
              "4      4     Lebanon     462  ...  33.875063  35.843409  POINT (35.84341 33.87506)\n",
              "\n",
              "[5 rows x 7 columns]"
            ]
          },
          "metadata": {
            "tags": []
          },
          "execution_count": 100
        }
      ]
    },
    {
      "cell_type": "code",
      "metadata": {
        "id": "9rncY_dB023v"
      },
      "source": [
        "def country_name(latitude, longitude):\r\n",
        "    country=geolocator.reverse([latitude, longitude], language='en')\r\n",
        "    return country.raw['address']['country']\r\n",
        "gdf['counted']=gdf['counts']\r\n",
        "gdf.drop(['counts'], axis=1)\r\n",
        "gdf=gdf.drop(index=88) #tristan de Cunha was causing an error so we had to drop it\r\n",
        "gdf=gdf.reset_index()\r\n"
      ],
      "execution_count": null,
      "outputs": []
    },
    {
      "cell_type": "code",
      "metadata": {
        "id": "ltlgg9Gm6LXU"
      },
      "source": [
        "gdf['my_countries']=gdf.apply(lambda x: country_name(x['lat'],x['lon']), axis=1)"
      ],
      "execution_count": null,
      "outputs": []
    },
    {
      "cell_type": "code",
      "metadata": {
        "colab": {
          "base_uri": "https://localhost:8080/",
          "height": 204
        },
        "id": "pusTvFKuNejN",
        "outputId": "13c5b95a-8212-4d63-c7d1-ec9dcafcc3fa"
      },
      "source": [
        "gdf.head()"
      ],
      "execution_count": null,
      "outputs": [
        {
          "output_type": "execute_result",
          "data": {
            "text/html": [
              "<div>\n",
              "<style scoped>\n",
              "    .dataframe tbody tr th:only-of-type {\n",
              "        vertical-align: middle;\n",
              "    }\n",
              "\n",
              "    .dataframe tbody tr th {\n",
              "        vertical-align: top;\n",
              "    }\n",
              "\n",
              "    .dataframe thead th {\n",
              "        text-align: right;\n",
              "    }\n",
              "</style>\n",
              "<table border=\"1\" class=\"dataframe\">\n",
              "  <thead>\n",
              "    <tr style=\"text-align: right;\">\n",
              "      <th></th>\n",
              "      <th>level_0</th>\n",
              "      <th>index</th>\n",
              "      <th>location</th>\n",
              "      <th>counts</th>\n",
              "      <th>sentiment</th>\n",
              "      <th>lat</th>\n",
              "      <th>lon</th>\n",
              "      <th>geometry</th>\n",
              "      <th>counted</th>\n",
              "      <th>my_countries</th>\n",
              "    </tr>\n",
              "  </thead>\n",
              "  <tbody>\n",
              "    <tr>\n",
              "      <th>0</th>\n",
              "      <td>0</td>\n",
              "      <td>0</td>\n",
              "      <td>Lebanon</td>\n",
              "      <td>4093</td>\n",
              "      <td>-2506.0</td>\n",
              "      <td>33.875063</td>\n",
              "      <td>35.843409</td>\n",
              "      <td>POINT (35.84341 33.87506)</td>\n",
              "      <td>4093</td>\n",
              "      <td>Lebanon</td>\n",
              "    </tr>\n",
              "    <tr>\n",
              "      <th>1</th>\n",
              "      <td>1</td>\n",
              "      <td>1</td>\n",
              "      <td>Beirut, LB</td>\n",
              "      <td>792</td>\n",
              "      <td>-48.0</td>\n",
              "      <td>33.895920</td>\n",
              "      <td>35.478430</td>\n",
              "      <td>POINT (35.47843 33.89592)</td>\n",
              "      <td>792</td>\n",
              "      <td>Lebanon</td>\n",
              "    </tr>\n",
              "    <tr>\n",
              "      <th>2</th>\n",
              "      <td>2</td>\n",
              "      <td>2</td>\n",
              "      <td>Beirut, LB</td>\n",
              "      <td>549</td>\n",
              "      <td>-48.0</td>\n",
              "      <td>33.895920</td>\n",
              "      <td>35.478430</td>\n",
              "      <td>POINT (35.47843 33.89592)</td>\n",
              "      <td>549</td>\n",
              "      <td>Lebanon</td>\n",
              "    </tr>\n",
              "    <tr>\n",
              "      <th>3</th>\n",
              "      <td>3</td>\n",
              "      <td>3</td>\n",
              "      <td>Beirut, LB</td>\n",
              "      <td>502</td>\n",
              "      <td>-48.0</td>\n",
              "      <td>33.895920</td>\n",
              "      <td>35.478430</td>\n",
              "      <td>POINT (35.47843 33.89592)</td>\n",
              "      <td>502</td>\n",
              "      <td>Lebanon</td>\n",
              "    </tr>\n",
              "    <tr>\n",
              "      <th>4</th>\n",
              "      <td>4</td>\n",
              "      <td>4</td>\n",
              "      <td>Lebanon</td>\n",
              "      <td>462</td>\n",
              "      <td>-2506.0</td>\n",
              "      <td>33.875063</td>\n",
              "      <td>35.843409</td>\n",
              "      <td>POINT (35.84341 33.87506)</td>\n",
              "      <td>462</td>\n",
              "      <td>Lebanon</td>\n",
              "    </tr>\n",
              "  </tbody>\n",
              "</table>\n",
              "</div>"
            ],
            "text/plain": [
              "   level_0  index    location  ...                   geometry  counted  my_countries\n",
              "0        0      0     Lebanon  ...  POINT (35.84341 33.87506)     4093       Lebanon\n",
              "1        1      1  Beirut, LB  ...  POINT (35.47843 33.89592)      792       Lebanon\n",
              "2        2      2  Beirut, LB  ...  POINT (35.47843 33.89592)      549       Lebanon\n",
              "3        3      3  Beirut, LB  ...  POINT (35.47843 33.89592)      502       Lebanon\n",
              "4        4      4     Lebanon  ...  POINT (35.84341 33.87506)      462       Lebanon\n",
              "\n",
              "[5 rows x 10 columns]"
            ]
          },
          "metadata": {
            "tags": []
          },
          "execution_count": 107
        }
      ]
    },
    {
      "cell_type": "code",
      "metadata": {
        "id": "jz6RTJZoziAR"
      },
      "source": [
        "gdf=gdf.drop(['level_0', 'index'], axis=1)"
      ],
      "execution_count": null,
      "outputs": []
    },
    {
      "cell_type": "code",
      "metadata": {
        "id": "8vGU32deOTK1"
      },
      "source": [
        "gdf.to_excel(\"countries.xlsx\")"
      ],
      "execution_count": null,
      "outputs": []
    },
    {
      "cell_type": "code",
      "metadata": {
        "id": "rHv0BnFJ7t0l"
      },
      "source": [
        "ind=gdf.columns.get_loc('my_countries')"
      ],
      "execution_count": null,
      "outputs": []
    },
    {
      "cell_type": "code",
      "metadata": {
        "colab": {
          "base_uri": "https://localhost:8080/",
          "height": 408
        },
        "id": "gvaTF1fvfG2M",
        "outputId": "81da5596-11a7-4a8f-9418-6a79c1d771f8"
      },
      "source": [
        "world = gpd.read_file(gpd.datasets.get_path('naturalearth_lowres'))\r\n",
        "world=world.drop(['pop_est','continent','gdp_md_est'], axis=1)\r\n",
        "world['number']=0\r\n",
        "world['sentiment']=0.0\r\n",
        "world.info()\r\n",
        "world.head()"
      ],
      "execution_count": null,
      "outputs": [
        {
          "output_type": "stream",
          "text": [
            "<class 'geopandas.geodataframe.GeoDataFrame'>\n",
            "RangeIndex: 177 entries, 0 to 176\n",
            "Data columns (total 5 columns):\n",
            " #   Column     Non-Null Count  Dtype   \n",
            "---  ------     --------------  -----   \n",
            " 0   name       177 non-null    object  \n",
            " 1   iso_a3     177 non-null    object  \n",
            " 2   geometry   177 non-null    geometry\n",
            " 3   number     177 non-null    int64   \n",
            " 4   sentiment  177 non-null    float64 \n",
            "dtypes: float64(1), geometry(1), int64(1), object(2)\n",
            "memory usage: 7.0+ KB\n"
          ],
          "name": "stdout"
        },
        {
          "output_type": "execute_result",
          "data": {
            "text/html": [
              "<div>\n",
              "<style scoped>\n",
              "    .dataframe tbody tr th:only-of-type {\n",
              "        vertical-align: middle;\n",
              "    }\n",
              "\n",
              "    .dataframe tbody tr th {\n",
              "        vertical-align: top;\n",
              "    }\n",
              "\n",
              "    .dataframe thead th {\n",
              "        text-align: right;\n",
              "    }\n",
              "</style>\n",
              "<table border=\"1\" class=\"dataframe\">\n",
              "  <thead>\n",
              "    <tr style=\"text-align: right;\">\n",
              "      <th></th>\n",
              "      <th>name</th>\n",
              "      <th>iso_a3</th>\n",
              "      <th>geometry</th>\n",
              "      <th>number</th>\n",
              "      <th>sentiment</th>\n",
              "    </tr>\n",
              "  </thead>\n",
              "  <tbody>\n",
              "    <tr>\n",
              "      <th>0</th>\n",
              "      <td>Fiji</td>\n",
              "      <td>FJI</td>\n",
              "      <td>MULTIPOLYGON (((180.00000 -16.06713, 180.00000...</td>\n",
              "      <td>0</td>\n",
              "      <td>0.0</td>\n",
              "    </tr>\n",
              "    <tr>\n",
              "      <th>1</th>\n",
              "      <td>Tanzania</td>\n",
              "      <td>TZA</td>\n",
              "      <td>POLYGON ((33.90371 -0.95000, 34.07262 -1.05982...</td>\n",
              "      <td>0</td>\n",
              "      <td>0.0</td>\n",
              "    </tr>\n",
              "    <tr>\n",
              "      <th>2</th>\n",
              "      <td>W. Sahara</td>\n",
              "      <td>ESH</td>\n",
              "      <td>POLYGON ((-8.66559 27.65643, -8.66512 27.58948...</td>\n",
              "      <td>0</td>\n",
              "      <td>0.0</td>\n",
              "    </tr>\n",
              "    <tr>\n",
              "      <th>3</th>\n",
              "      <td>Canada</td>\n",
              "      <td>CAN</td>\n",
              "      <td>MULTIPOLYGON (((-122.84000 49.00000, -122.9742...</td>\n",
              "      <td>0</td>\n",
              "      <td>0.0</td>\n",
              "    </tr>\n",
              "    <tr>\n",
              "      <th>4</th>\n",
              "      <td>United States of America</td>\n",
              "      <td>USA</td>\n",
              "      <td>MULTIPOLYGON (((-122.84000 49.00000, -120.0000...</td>\n",
              "      <td>0</td>\n",
              "      <td>0.0</td>\n",
              "    </tr>\n",
              "  </tbody>\n",
              "</table>\n",
              "</div>"
            ],
            "text/plain": [
              "                       name iso_a3  ... number  sentiment\n",
              "0                      Fiji    FJI  ...      0        0.0\n",
              "1                  Tanzania    TZA  ...      0        0.0\n",
              "2                 W. Sahara    ESH  ...      0        0.0\n",
              "3                    Canada    CAN  ...      0        0.0\n",
              "4  United States of America    USA  ...      0        0.0\n",
              "\n",
              "[5 rows x 5 columns]"
            ]
          },
          "metadata": {
            "tags": []
          },
          "execution_count": 121
        }
      ]
    },
    {
      "cell_type": "code",
      "metadata": {
        "colab": {
          "base_uri": "https://localhost:8080/",
          "height": 204
        },
        "id": "IuI9-9Ok2mdi",
        "outputId": "3fd4b12b-6e3c-4782-df34-9b4413dc7576"
      },
      "source": [
        "gd1=gdf.my_countries.value_counts().rename_axis('country').reset_index(name='frequency')\r\n",
        "gd1.head()"
      ],
      "execution_count": null,
      "outputs": [
        {
          "output_type": "execute_result",
          "data": {
            "text/html": [
              "<div>\n",
              "<style scoped>\n",
              "    .dataframe tbody tr th:only-of-type {\n",
              "        vertical-align: middle;\n",
              "    }\n",
              "\n",
              "    .dataframe tbody tr th {\n",
              "        vertical-align: top;\n",
              "    }\n",
              "\n",
              "    .dataframe thead th {\n",
              "        text-align: right;\n",
              "    }\n",
              "</style>\n",
              "<table border=\"1\" class=\"dataframe\">\n",
              "  <thead>\n",
              "    <tr style=\"text-align: right;\">\n",
              "      <th></th>\n",
              "      <th>country</th>\n",
              "      <th>frequency</th>\n",
              "    </tr>\n",
              "  </thead>\n",
              "  <tbody>\n",
              "    <tr>\n",
              "      <th>0</th>\n",
              "      <td>Lebanon</td>\n",
              "      <td>120</td>\n",
              "    </tr>\n",
              "    <tr>\n",
              "      <th>1</th>\n",
              "      <td>Saudi Arabia</td>\n",
              "      <td>27</td>\n",
              "    </tr>\n",
              "    <tr>\n",
              "      <th>2</th>\n",
              "      <td>United States</td>\n",
              "      <td>25</td>\n",
              "    </tr>\n",
              "    <tr>\n",
              "      <th>3</th>\n",
              "      <td>Jordan</td>\n",
              "      <td>15</td>\n",
              "    </tr>\n",
              "    <tr>\n",
              "      <th>4</th>\n",
              "      <td>United Arab Emirates</td>\n",
              "      <td>15</td>\n",
              "    </tr>\n",
              "  </tbody>\n",
              "</table>\n",
              "</div>"
            ],
            "text/plain": [
              "                country  frequency\n",
              "0               Lebanon        120\n",
              "1          Saudi Arabia         27\n",
              "2         United States         25\n",
              "3                Jordan         15\n",
              "4  United Arab Emirates         15"
            ]
          },
          "metadata": {
            "tags": []
          },
          "execution_count": 131
        }
      ]
    },
    {
      "cell_type": "code",
      "metadata": {
        "id": "X43ieo0E5aF3"
      },
      "source": [
        "gd1['total']=0"
      ],
      "execution_count": null,
      "outputs": []
    },
    {
      "cell_type": "code",
      "metadata": {
        "colab": {
          "base_uri": "https://localhost:8080/"
        },
        "id": "YtVeTFX444Qz",
        "outputId": "7b32ff4c-bf0d-4230-c451-432efc9ca436"
      },
      "source": [
        "for i in range(len(gd1)):\r\n",
        "  for j in range(len(gdf)):\r\n",
        "    if gd1.country[i]== gdf.my_countries[j]:\r\n",
        "      gd1.total[i]=gd1.total[i]+gdf.counted[j]\r\n"
      ],
      "execution_count": null,
      "outputs": [
        {
          "output_type": "stream",
          "text": [
            "/usr/local/lib/python3.6/dist-packages/ipykernel_launcher.py:4: SettingWithCopyWarning:\n",
            "\n",
            "\n",
            "A value is trying to be set on a copy of a slice from a DataFrame\n",
            "\n",
            "See the caveats in the documentation: https://pandas.pydata.org/pandas-docs/stable/user_guide/indexing.html#returning-a-view-versus-a-copy\n",
            "\n"
          ],
          "name": "stderr"
        }
      ]
    },
    {
      "cell_type": "code",
      "metadata": {
        "colab": {
          "base_uri": "https://localhost:8080/",
          "height": 204
        },
        "id": "FaOGfUV45tZo",
        "outputId": "42fc2ad0-d769-4be6-d01f-2122d8ed82bc"
      },
      "source": [
        "gd1.head()"
      ],
      "execution_count": null,
      "outputs": [
        {
          "output_type": "execute_result",
          "data": {
            "text/html": [
              "<div>\n",
              "<style scoped>\n",
              "    .dataframe tbody tr th:only-of-type {\n",
              "        vertical-align: middle;\n",
              "    }\n",
              "\n",
              "    .dataframe tbody tr th {\n",
              "        vertical-align: top;\n",
              "    }\n",
              "\n",
              "    .dataframe thead th {\n",
              "        text-align: right;\n",
              "    }\n",
              "</style>\n",
              "<table border=\"1\" class=\"dataframe\">\n",
              "  <thead>\n",
              "    <tr style=\"text-align: right;\">\n",
              "      <th></th>\n",
              "      <th>country</th>\n",
              "      <th>frequency</th>\n",
              "      <th>total</th>\n",
              "    </tr>\n",
              "  </thead>\n",
              "  <tbody>\n",
              "    <tr>\n",
              "      <th>0</th>\n",
              "      <td>Lebanon</td>\n",
              "      <td>120</td>\n",
              "      <td>9077</td>\n",
              "    </tr>\n",
              "    <tr>\n",
              "      <th>1</th>\n",
              "      <td>Saudi Arabia</td>\n",
              "      <td>27</td>\n",
              "      <td>767</td>\n",
              "    </tr>\n",
              "    <tr>\n",
              "      <th>2</th>\n",
              "      <td>United States</td>\n",
              "      <td>25</td>\n",
              "      <td>306</td>\n",
              "    </tr>\n",
              "    <tr>\n",
              "      <th>3</th>\n",
              "      <td>Jordan</td>\n",
              "      <td>15</td>\n",
              "      <td>172</td>\n",
              "    </tr>\n",
              "    <tr>\n",
              "      <th>4</th>\n",
              "      <td>United Arab Emirates</td>\n",
              "      <td>15</td>\n",
              "      <td>502</td>\n",
              "    </tr>\n",
              "  </tbody>\n",
              "</table>\n",
              "</div>"
            ],
            "text/plain": [
              "                country  frequency  total\n",
              "0               Lebanon        120   9077\n",
              "1          Saudi Arabia         27    767\n",
              "2         United States         25    306\n",
              "3                Jordan         15    172\n",
              "4  United Arab Emirates         15    502"
            ]
          },
          "metadata": {
            "tags": []
          },
          "execution_count": 136
        }
      ]
    },
    {
      "cell_type": "code",
      "metadata": {
        "colab": {
          "base_uri": "https://localhost:8080/"
        },
        "id": "IHFfaygvCvCF",
        "outputId": "9714436f-402f-4db5-e8e3-2b6409d2d6a9"
      },
      "source": [
        "\r\n",
        "#get sum of sentiments and number of tweets\r\n",
        "for j in range(len(gdf)): \r\n",
        "  for i in range(len(world)):\r\n",
        "    if world.iloc[i,0]== gdf.iloc[j,ind]:\r\n",
        "      world.number[i]= world.number[i]+1\r\n",
        "      world.sentiment[i]=world.sentiment[i]+gdf.sentiment[j]\r\n",
        "\r\n",
        "#get average sentiment\r\n",
        "for j in range(len(gd1)): \r\n",
        "  for i in range(len(world)):\r\n",
        "    if world.iloc[i,0]== gd1.iloc[j,0]:\r\n",
        "      world.sentiment[i]=world.sentiment[i]/gd1.total[j]\r\n"
      ],
      "execution_count": null,
      "outputs": [
        {
          "output_type": "stream",
          "text": [
            "/usr/local/lib/python3.6/dist-packages/ipykernel_launcher.py:6: SettingWithCopyWarning:\n",
            "\n",
            "\n",
            "A value is trying to be set on a copy of a slice from a DataFrame\n",
            "\n",
            "See the caveats in the documentation: https://pandas.pydata.org/pandas-docs/stable/user_guide/indexing.html#returning-a-view-versus-a-copy\n",
            "\n",
            "/usr/local/lib/python3.6/dist-packages/ipykernel_launcher.py:7: SettingWithCopyWarning:\n",
            "\n",
            "\n",
            "A value is trying to be set on a copy of a slice from a DataFrame\n",
            "\n",
            "See the caveats in the documentation: https://pandas.pydata.org/pandas-docs/stable/user_guide/indexing.html#returning-a-view-versus-a-copy\n",
            "\n",
            "/usr/local/lib/python3.6/dist-packages/ipykernel_launcher.py:13: SettingWithCopyWarning:\n",
            "\n",
            "\n",
            "A value is trying to be set on a copy of a slice from a DataFrame\n",
            "\n",
            "See the caveats in the documentation: https://pandas.pydata.org/pandas-docs/stable/user_guide/indexing.html#returning-a-view-versus-a-copy\n",
            "\n"
          ],
          "name": "stderr"
        }
      ]
    },
    {
      "cell_type": "code",
      "metadata": {
        "colab": {
          "base_uri": "https://localhost:8080/",
          "height": 204
        },
        "id": "0hxQOVjB6Ulz",
        "outputId": "98ca7a27-89f5-4dd1-c614-1754ad8dae1d"
      },
      "source": [
        "world = world[(world.number>=0) & (world.name!=\"Antarctica\")]\r\n",
        "world.head()"
      ],
      "execution_count": null,
      "outputs": [
        {
          "output_type": "execute_result",
          "data": {
            "text/html": [
              "<div>\n",
              "<style scoped>\n",
              "    .dataframe tbody tr th:only-of-type {\n",
              "        vertical-align: middle;\n",
              "    }\n",
              "\n",
              "    .dataframe tbody tr th {\n",
              "        vertical-align: top;\n",
              "    }\n",
              "\n",
              "    .dataframe thead th {\n",
              "        text-align: right;\n",
              "    }\n",
              "</style>\n",
              "<table border=\"1\" class=\"dataframe\">\n",
              "  <thead>\n",
              "    <tr style=\"text-align: right;\">\n",
              "      <th></th>\n",
              "      <th>name</th>\n",
              "      <th>iso_a3</th>\n",
              "      <th>geometry</th>\n",
              "      <th>number</th>\n",
              "      <th>sentiment</th>\n",
              "    </tr>\n",
              "  </thead>\n",
              "  <tbody>\n",
              "    <tr>\n",
              "      <th>0</th>\n",
              "      <td>Fiji</td>\n",
              "      <td>FJI</td>\n",
              "      <td>MULTIPOLYGON (((180.00000 -16.06713, 180.00000...</td>\n",
              "      <td>0</td>\n",
              "      <td>0.00000</td>\n",
              "    </tr>\n",
              "    <tr>\n",
              "      <th>1</th>\n",
              "      <td>Tanzania</td>\n",
              "      <td>TZA</td>\n",
              "      <td>POLYGON ((33.90371 -0.95000, 34.07262 -1.05982...</td>\n",
              "      <td>0</td>\n",
              "      <td>0.00000</td>\n",
              "    </tr>\n",
              "    <tr>\n",
              "      <th>2</th>\n",
              "      <td>W. Sahara</td>\n",
              "      <td>ESH</td>\n",
              "      <td>POLYGON ((-8.66559 27.65643, -8.66512 27.58948...</td>\n",
              "      <td>0</td>\n",
              "      <td>0.00000</td>\n",
              "    </tr>\n",
              "    <tr>\n",
              "      <th>3</th>\n",
              "      <td>Canada</td>\n",
              "      <td>CAN</td>\n",
              "      <td>MULTIPOLYGON (((-122.84000 49.00000, -122.9742...</td>\n",
              "      <td>21</td>\n",
              "      <td>-0.33329</td>\n",
              "    </tr>\n",
              "    <tr>\n",
              "      <th>4</th>\n",
              "      <td>United States of America</td>\n",
              "      <td>USA</td>\n",
              "      <td>MULTIPOLYGON (((-122.84000 49.00000, -120.0000...</td>\n",
              "      <td>0</td>\n",
              "      <td>0.00000</td>\n",
              "    </tr>\n",
              "  </tbody>\n",
              "</table>\n",
              "</div>"
            ],
            "text/plain": [
              "                       name iso_a3  ... number  sentiment\n",
              "0                      Fiji    FJI  ...      0    0.00000\n",
              "1                  Tanzania    TZA  ...      0    0.00000\n",
              "2                 W. Sahara    ESH  ...      0    0.00000\n",
              "3                    Canada    CAN  ...     21   -0.33329\n",
              "4  United States of America    USA  ...      0    0.00000\n",
              "\n",
              "[5 rows x 5 columns]"
            ]
          },
          "metadata": {
            "tags": []
          },
          "execution_count": 141
        }
      ]
    },
    {
      "cell_type": "markdown",
      "metadata": {
        "id": "FPJn0wFpme24"
      },
      "source": [
        "## Map using plotly"
      ]
    },
    {
      "cell_type": "code",
      "metadata": {
        "colab": {
          "base_uri": "https://localhost:8080/"
        },
        "id": "Opc9kTjrm3Xh",
        "outputId": "b24cdf30-828a-410a-f147-d1a5521a7562"
      },
      "source": [
        "!pip install plotly"
      ],
      "execution_count": null,
      "outputs": [
        {
          "output_type": "stream",
          "text": [
            "Requirement already satisfied: plotly in /usr/local/lib/python3.6/dist-packages (4.4.1)\n",
            "Requirement already satisfied: retrying>=1.3.3 in /usr/local/lib/python3.6/dist-packages (from plotly) (1.3.3)\n",
            "Requirement already satisfied: six in /usr/local/lib/python3.6/dist-packages (from plotly) (1.15.0)\n"
          ],
          "name": "stdout"
        }
      ]
    },
    {
      "cell_type": "code",
      "metadata": {
        "id": "LJoOreBnPqOU"
      },
      "source": [
        "import plotly \r\n",
        "import plotly.express as px\r\n",
        "import plotly.graph_objects as go"
      ],
      "execution_count": null,
      "outputs": []
    },
    {
      "cell_type": "code",
      "metadata": {
        "colab": {
          "base_uri": "https://localhost:8080/",
          "height": 542
        },
        "id": "YvPD97CDBdIN",
        "outputId": "a03e163b-ccee-4b6f-e7db-1b86e61cd166"
      },
      "source": [
        "px.set_mapbox_access_token('pk.eyJ1IjoibWVsaXNzYWJlYWluaSIsImEiOiJja2lwM3FvbzAxMmhrMnJvNWI4emlydjBzIn0.sEIUh2xCKtZd44rpXrQk1g')\r\n",
        "\r\n",
        "fig = px.choropleth(world, locations=\"iso_a3\", color=\"sentiment\", hover_name=\"name\", color_continuous_scale=px.colors.diverging.curl )\r\n",
        "fig2 = px.scatter_geo(gdf, lat=gdf.lat, lon=gdf.lon, hover_name=\"my_countries\", size='counted',color_continuous_scale=px.colors.sequential.Magma)\r\n",
        "fig.add_trace(fig2.data[0])\r\n",
        "fig.update_layout(title_text='Distribution of Sentiment and Location of Lebanese Revolution Tweets',\r\n",
        "                     geo=dict( showframe=False,showcoastlines=False, projection_type='equirectangular'))\r\n",
        "fig.show()\r\n"
      ],
      "execution_count": null,
      "outputs": [
        {
          "output_type": "display_data",
          "data": {
            "text/html": [
              "<html>\n",
              "<head><meta charset=\"utf-8\" /></head>\n",
              "<body>\n",
              "    <div>\n",
              "            <script src=\"https://cdnjs.cloudflare.com/ajax/libs/mathjax/2.7.5/MathJax.js?config=TeX-AMS-MML_SVG\"></script><script type=\"text/javascript\">if (window.MathJax) {MathJax.Hub.Config({SVG: {font: \"STIX-Web\"}});}</script>\n",
              "                <script type=\"text/javascript\">window.PlotlyConfig = {MathJaxConfig: 'local'};</script>\n",
              "        <script src=\"https://cdn.plot.ly/plotly-latest.min.js\"></script>    \n",
              "            <div id=\"631c9606-2666-4c14-aab0-f21fcbb62948\" class=\"plotly-graph-div\" style=\"height:525px; width:100%;\"></div>\n",
              "            <script type=\"text/javascript\">\n",
              "                \n",
              "                    window.PLOTLYENV=window.PLOTLYENV || {};\n",
              "                    \n",
              "                if (document.getElementById(\"631c9606-2666-4c14-aab0-f21fcbb62948\")) {\n",
              "                    Plotly.newPlot(\n",
              "                        '631c9606-2666-4c14-aab0-f21fcbb62948',\n",
              "                        [{\"coloraxis\": \"coloraxis\", \"geo\": \"geo\", \"hoverlabel\": {\"namelength\": 0}, \"hovertemplate\": \"<b>%{hovertext}</b><br><br>iso_a3=%{location}<br>sentiment=%{z}\", \"hovertext\": [\"Fiji\", \"Tanzania\", \"W. Sahara\", \"Canada\", \"United States of America\", \"Kazakhstan\", \"Uzbekistan\", \"Papua New Guinea\", \"Indonesia\", \"Argentina\", \"Chile\", \"Dem. Rep. Congo\", \"Somalia\", \"Kenya\", \"Sudan\", \"Chad\", \"Haiti\", \"Dominican Rep.\", \"Russia\", \"Bahamas\", \"Falkland Is.\", \"Norway\", \"Greenland\", \"Fr. S. Antarctic Lands\", \"Timor-Leste\", \"South Africa\", \"Lesotho\", \"Mexico\", \"Uruguay\", \"Brazil\", \"Bolivia\", \"Peru\", \"Colombia\", \"Panama\", \"Costa Rica\", \"Nicaragua\", \"Honduras\", \"El Salvador\", \"Guatemala\", \"Belize\", \"Venezuela\", \"Guyana\", \"Suriname\", \"France\", \"Ecuador\", \"Puerto Rico\", \"Jamaica\", \"Cuba\", \"Zimbabwe\", \"Botswana\", \"Namibia\", \"Senegal\", \"Mali\", \"Mauritania\", \"Benin\", \"Niger\", \"Nigeria\", \"Cameroon\", \"Togo\", \"Ghana\", \"C\\u00f4te d'Ivoire\", \"Guinea\", \"Guinea-Bissau\", \"Liberia\", \"Sierra Leone\", \"Burkina Faso\", \"Central African Rep.\", \"Congo\", \"Gabon\", \"Eq. Guinea\", \"Zambia\", \"Malawi\", \"Mozambique\", \"eSwatini\", \"Angola\", \"Burundi\", \"Israel\", \"Lebanon\", \"Madagascar\", \"Palestine\", \"Gambia\", \"Tunisia\", \"Algeria\", \"Jordan\", \"United Arab Emirates\", \"Qatar\", \"Kuwait\", \"Iraq\", \"Oman\", \"Vanuatu\", \"Cambodia\", \"Thailand\", \"Laos\", \"Myanmar\", \"Vietnam\", \"North Korea\", \"South Korea\", \"Mongolia\", \"India\", \"Bangladesh\", \"Bhutan\", \"Nepal\", \"Pakistan\", \"Afghanistan\", \"Tajikistan\", \"Kyrgyzstan\", \"Turkmenistan\", \"Iran\", \"Syria\", \"Armenia\", \"Sweden\", \"Belarus\", \"Ukraine\", \"Poland\", \"Austria\", \"Hungary\", \"Moldova\", \"Romania\", \"Lithuania\", \"Latvia\", \"Estonia\", \"Germany\", \"Bulgaria\", \"Greece\", \"Turkey\", \"Albania\", \"Croatia\", \"Switzerland\", \"Luxembourg\", \"Belgium\", \"Netherlands\", \"Portugal\", \"Spain\", \"Ireland\", \"New Caledonia\", \"Solomon Is.\", \"New Zealand\", \"Australia\", \"Sri Lanka\", \"China\", \"Taiwan\", \"Italy\", \"Denmark\", \"United Kingdom\", \"Iceland\", \"Azerbaijan\", \"Georgia\", \"Philippines\", \"Malaysia\", \"Brunei\", \"Slovenia\", \"Finland\", \"Slovakia\", \"Czechia\", \"Eritrea\", \"Japan\", \"Paraguay\", \"Yemen\", \"Saudi Arabia\", \"N. Cyprus\", \"Cyprus\", \"Morocco\", \"Egypt\", \"Libya\", \"Ethiopia\", \"Djibouti\", \"Somaliland\", \"Uganda\", \"Rwanda\", \"Bosnia and Herz.\", \"Macedonia\", \"Serbia\", \"Montenegro\", \"Kosovo\", \"Trinidad and Tobago\", \"S. Sudan\"], \"locations\": [\"FJI\", \"TZA\", \"ESH\", \"CAN\", \"USA\", \"KAZ\", \"UZB\", \"PNG\", \"IDN\", \"ARG\", \"CHL\", \"COD\", \"SOM\", \"KEN\", \"SDN\", \"TCD\", \"HTI\", \"DOM\", \"RUS\", \"BHS\", \"FLK\", \"-99\", \"GRL\", \"ATF\", \"TLS\", \"ZAF\", \"LSO\", \"MEX\", \"URY\", \"BRA\", \"BOL\", \"PER\", \"COL\", \"PAN\", \"CRI\", \"NIC\", \"HND\", \"SLV\", \"GTM\", \"BLZ\", \"VEN\", \"GUY\", \"SUR\", \"-99\", \"ECU\", \"PRI\", \"JAM\", \"CUB\", \"ZWE\", \"BWA\", \"NAM\", \"SEN\", \"MLI\", \"MRT\", \"BEN\", \"NER\", \"NGA\", \"CMR\", \"TGO\", \"GHA\", \"CIV\", \"GIN\", \"GNB\", \"LBR\", \"SLE\", \"BFA\", \"CAF\", \"COG\", \"GAB\", \"GNQ\", \"ZMB\", \"MWI\", \"MOZ\", \"SWZ\", \"AGO\", \"BDI\", \"ISR\", \"LBN\", \"MDG\", \"PSE\", \"GMB\", \"TUN\", \"DZA\", \"JOR\", \"ARE\", \"QAT\", \"KWT\", \"IRQ\", \"OMN\", \"VUT\", \"KHM\", \"THA\", \"LAO\", \"MMR\", \"VNM\", \"PRK\", \"KOR\", \"MNG\", \"IND\", \"BGD\", \"BTN\", \"NPL\", \"PAK\", \"AFG\", \"TJK\", \"KGZ\", \"TKM\", \"IRN\", \"SYR\", \"ARM\", \"SWE\", \"BLR\", \"UKR\", \"POL\", \"AUT\", \"HUN\", \"MDA\", \"ROU\", \"LTU\", \"LVA\", \"EST\", \"DEU\", \"BGR\", \"GRC\", \"TUR\", \"ALB\", \"HRV\", \"CHE\", \"LUX\", \"BEL\", \"NLD\", \"PRT\", \"ESP\", \"IRL\", \"NCL\", \"SLB\", \"NZL\", \"AUS\", \"LKA\", \"CHN\", \"TWN\", \"ITA\", \"DNK\", \"GBR\", \"ISL\", \"AZE\", \"GEO\", \"PHL\", \"MYS\", \"BRN\", \"SVN\", \"FIN\", \"SVK\", \"CZE\", \"ERI\", \"JPN\", \"PRY\", \"YEM\", \"SAU\", \"-99\", \"CYP\", \"MAR\", \"EGY\", \"LBY\", \"ETH\", \"DJI\", \"-99\", \"UGA\", \"RWA\", \"BIH\", \"MKD\", \"SRB\", \"MNE\", \"-99\", \"TTO\", \"SSD\"], \"name\": \"\", \"type\": \"choropleth\", \"z\": [0.0, 0.0, 0.0, -0.33329028940968525, 0.0, 0.0, 0.0, 0.0, 0.0, 0.0, 0.0, 0.0, 0.0, 0.0, -0.6945023148148147, 0.0, 0.0, 0.0, 0.0, 0.0, 0.0, 0.0, 0.0, 0.0, 0.0, 0.0, 0.0, 0.0, 0.0, 0.0, 0.0, 0.0, 0.0, 0.0, 0.0, 0.0, 0.0, 0.0, 0.0, 0.0, -0.999, 0.0, 0.0, -0.8861961451247249, 0.0, 0.0, 0.0, 0.0, 0.0, 0.0, 0.0, 0.0, 0.0, -1.1944444444444444, 0.0, 0.0, 0.0, -0.712890625, 0.0, 0.0, -1.163265306122449, 0.0, 0.0, 0.0, 0.0, 0.0, 0.0, 0.0, 0.0, 0.0, 0.0, 0.0, 0.0, 0.0, 0.0, 0.0, 0.0, -8.218157679012467, 0.0, 0.0, 0.0, 0.0, 0.0, -0.508754732287723, -2.403184076443231, -0.5929449641529223, -1.7939831903488943, -0.6397613299574084, -0.44400000000000006, 0.0, 0.0, 0.0, 0.0, 0.0, 0.0, 0.0, 0.0, 0.0, 0.0, 0.0, 0.0, 0.0, -0.744, 0.0, 0.0, 0.0, 0.0, 0.0, -0.9796234888290828, 0.0, -0.44905380333951767, 0.0, -0.2347222222222222, 0.0, 0.0, 0.0, 0.0, 0.0, 0.0, 0.0, 0.0, -0.6412932232376677, 0.0, 0.0, -1.1182324538069488, 0.0, 0.0, -0.653812935020068, 0.0, 0.0, 0.0, 0.0, -0.260498046875, 0.0, 0.0, 0.0, 0.0, -0.5609861591695502, 0.0, 0.0, 0.0, 0.0, 0.0, -0.6153404196006554, 0.0, 0.0, 0.0, 0.0, -1.24, 0.0, 0.0, 0.0, 0.0, 0.0, 0.0, 0.0, 0.0, -1.1367119341563785, -0.31592635592370416, -0.7822222222222222, -0.7333333333333333, -1.2872179700083657, -0.6172839506172879, -0.5555555555555556, 0.0, 0.0, 0.0, 0.0, 0.0, 0.0, 0.0, 0.0, 0.0, 0.0, 0.0, 0.0]}, {\"geo\": \"geo\", \"hoverlabel\": {\"namelength\": 0}, \"hovertemplate\": \"<b>%{hovertext}</b><br><br>counted=%{marker.size}<br>lat=%{lat}<br>lon=%{lon}\", \"hovertext\": [\"Lebanon\", \"Lebanon\", \"Lebanon\", \"Lebanon\", \"Lebanon\", \"Lebanon\", \"Lebanon\", \"Saudi Arabia\", \"United Arab Emirates\", \"Lebanon\", \"Kuwait\", \"Kuwait\", \"United Arab Emirates\", \"Lebanon\", \"Lebanon\", \"Lebanon\", \"Lebanon\", \"Saudi Arabia\", \"Lebanon\", \"Lebanon\", \"Egypt\", \"United Kingdom\", \"Egypt\", \"Saudi Arabia\", \"Saudi Arabia\", \"Saudi Arabia\", \"Saudi Arabia\", \"Lebanon\", \"Kuwait\", \"Lebanon\", \"Egypt\", \"United States\", \"France\", \"France\", \"Lebanon\", \"Iraq\", \"Lebanon\", \"Lebanon\", \"Qatar\", \"Germany\", \"Lebanon\", \"Egypt\", \"United Arab Emirates\", \"Saudi Arabia\", \"Lebanon\", \"Qatar\", \"Lebanon\", \"Saudi Arabia\", \"United Arab Emirates\", \"Switzerland\", \"Turkey\", \"Lebanon\", \"Lebanon\", \"Bahrain\", \"Lebanon\", \"Saudi Arabia\", \"Lebanon\", \"Jordan\", \"Jordan\", \"United States\", \"Lebanon\", \"Kuwait\", \"United States\", \"Lebanon\", \"Canada\", \"Lebanon\", \"United States\", \"Italy\", \"Turkey\", \"Lebanon\", \"Lebanon\", \"Syria\", \"United Kingdom\", \"Lebanon\", \"Lebanon\", \"Tunisia\", \"United States\", \"Kuwait\", \"Jordan\", \"Kuwait\", \"France\", \"Lebanon\", \"Saudi Arabia\", \"France\", \"United States\", \"United Arab Emirates\", \"Jordan\", \"Lebanon\", \"Canada\", \"Egypt\", \"Spain\", \"Turkey\", \"Lebanon\", \"Kuwait\", \"Lebanon\", \"Yemen\", \"Cyprus\", \"Lebanon\", \"Saudi Arabia\", \"Lebanon\", \"United States\", \"France\", \"Kuwait\", \"Lebanon\", \"Qatar\", \"United States\", \"Lebanon\", \"Jordan\", \"Lebanon\", \"Egypt\", \"Canada\", \"United States\", \"United States\", \"Lebanon\", \"Lebanon\", \"Lebanon\", \"Lebanon\", \"Lebanon\", \"Canada\", \"Lebanon\", \"Egypt\", \"Jordan\", \"United States\", \"Germany\", \"Algeria\", \"France\", \"Saudi Arabia\", \"Lebanon\", \"Lebanon\", \"Lebanon\", \"Kuwait\", \"Lebanon\", \"Sweden\", \"Lebanon\", \"Lebanon\", \"United States\", \"Lebanon\", \"Lebanon\", \"United Arab Emirates\", \"Lebanon\", \"Lebanon\", \"Lebanon\", \"Saudi Arabia\", \"Saudi Arabia\", \"United Arab Emirates\", \"Ukraine\", \"United Arab Emirates\", \"Lebanon\", \"Oman\", \"Lebanon\", \"Sudan\", \"Canada\", \"Venezuela\", \"Jordan\", \"United States\", \"United Arab Emirates\", \"Lebanon\", \"Turkey\", \"Australia\", \"United States\", \"United Kingdom\", \"United Kingdom\", \"United States\", \"Lebanon\", \"Lebanon\", \"Lebanon\", \"Libya\", \"Egypt\", \"Jordan\", \"Iraq\", \"Saudi Arabia\", \"Syria\", \"Kuwait\", \"United Arab Emirates\", \"Yemen\", \"Australia\", \"Lebanon\", \"Jordan\", \"France\", \"Palestinian Territory\", \"Lebanon\", \"Germany\", \"Lebanon\", \"Syria\", \"Lebanon\", \"Egypt\", \"Jordan\", \"Sudan\", \"Saudi Arabia\", \"Egypt\", \"Spain\", \"United Arab Emirates\", \"Saudi Arabia\", \"Lebanon\", \"United Arab Emirates\", \"Lebanon\", \"United States\", \"Canada\", \"Kuwait\", \"Ukraine\", \"Cameroon\", \"Qatar\", \"Lebanon\", \"Lebanon\", \"Syria\", \"Lebanon\", \"United States\", \"Bahrain\", \"Bolivia\", \"Lebanon\", \"Lebanon\", \"Syria\", \"United States\", \"Lebanon\", \"Saudi Arabia\", \"C\\u00f4te d'Ivoire\", \"Lebanon\", \"Lebanon\", \"Lebanon\", \"United States\", \"United Kingdom\", \"Jordan\", \"Saudi Arabia\", \"Bahrain\", \"Lebanon\", \"Kuwait\", \"United Kingdom\", \"Saudi Arabia\", \"United Kingdom\", \"Lebanon\", \"Lebanon\", \"Lebanon\", \"Lebanon\", \"Jordan\", \"United States\", \"Yemen\", \"Lebanon\", \"France\", \"Lebanon\", \"Lebanon\", \"Bahrain\", \"Saudi Arabia\", \"Iran\", \"Lebanon\", \"Palestinian Territory\", \"Egypt\", \"United States\", \"Lebanon\", \"Sudan\", \"Lebanon\", \"Kuwait\", \"Jordan\", \"France\", \"France\", \"Lebanon\", \"United Arab Emirates\", \"Lebanon\", \"Mauritania\", \"Lebanon\", \"Lebanon\", \"Saudi Arabia\", \"Saudi Arabia\", \"Lebanon\", \"Lebanon\", \"Lebanon\", \"Belgium\", \"Sweden\", \"United States\", \"Canada\", \"Algeria\", \"Lebanon\", \"Palestinian Territory\", \"Jordan\", \"France\", \"Lebanon\", \"United States\", \"Lebanon\", \"Lebanon\", \"Lebanon\", \"Saudi Arabia\", \"Saudi Arabia\", \"Lebanon\", \"Lebanon\", \"Lebanon\", \"Lebanon\", \"Lebanon\", \"Turkey\", \"Lebanon\", \"Lebanon\", \"Sweden\", \"Lebanon\", \"United States\", \"United Arab Emirates\", \"Iraq\", \"Egypt\", \"Lebanon\", \"Lebanon\", \"Saudi Arabia\", \"Lebanon\", \"Lebanon\", \"Lebanon\", \"Lebanon\", \"Lebanon\", \"United Arab Emirates\", \"United States\", \"Lebanon\", \"Lebanon\", \"Egypt\", \"Pakistan\", \"Malaysia\", \"Jordan\", \"Saudi Arabia\"], \"lat\": [33.8750629, 33.8959203, 33.8959203, 33.8959203, 33.8750629, 33.8750629, 33.9228218, 25.6242618, 25.0750095, 33.8959203, 29.2733964, 29.2733964, 25.0750095, 33.8959203, 33.8750629, 33.8338977, 33.8959203, 24.638916, 33.8959203, 33.8959203, 30.0443879, 51.5073219, 26.2540493, 24.638916, 24.638916, 25.6242618, 25.6242618, 33.8750629, 29.2733964, 33.8750629, 26.2540493, 42.3750997, 46.603354, 48.8566969, 33.8959203, 33.0955793, 33.8959203, 33.8750629, 25.3336984, 51.0834196, 34.6215765, 26.2540493, 24.4538352, 25.6242618, 33.5618345, 25.2856329, 33.2721211, 25.6242618, 24.0002488, 47.3744489, 38.9597594, 34.4453581, 34.4453581, 26.1551249, 33.8750629, 21.5810088, 33.8959203, 31.1667049, 31.9515694, 39.7837304, 33.8750629, 29.2733964, 39.7837304, 33.8959203, 61.0666922, 33.8520084, 38.8949924, 42.6384261, 41.0096334, 33.8959203, 33.8959203, 34.6401861, 52.5310214, 34.0266183, 34.0266183, 33.8439408, 40.325793000000004, 29.2733964, 31.1667049, 29.2733964, 48.8566969, 33.8959203, 25.6242618, 43.6112422, 40.325793000000004, 25.0750095, 31.1667049, 34.6215765, 45.4972159, 31.199004, 39.4697065, 38.9597594, 33.8959203, 29.2733964, 33.8750629, 16.3471243, 34.9823018, 33.8750629, 25.6242618, 33.8750629, 36.7014631, 45.7578137, 29.2733964, 33.9231207, 25.3336984, 27.7567667, 33.8959203, 31.9515694, 34.4453581, 26.2540493, 43.6534817, 43.6211955, 34.0536909, 34.3929847, 33.8959203, 33.6810179, 34.4453581, 34.0160584, 45.421106, 33.3812029, 26.2540493, 31.1667049, 38.8949924, 51.0834196, 28.0000272, 46.603354, 25.6242618, 34.4453581, 33.8750629, 34.4453581, 29.2733964, 33.3812029, 59.6749712, 34.11920775, 33.8750629, 40.325793000000004, 33.8750629, 33.8750629, 25.0750095, 33.8959203, 33.8885706, 34.3929847, 25.6242618, 24.7037638, 25.0750095, 49.4871968, 25.0750095, 33.3812029, 23.5882019, 34.3962036, 14.5844444, 61.0666922, 8.0018709, 31.1667049, 32.7762719, 25.0750095, 33.8750629, 38.9597594, -33.8548157, 40.325793000000004, 51.5073219, 51.5073219, 43.4376125, 33.8750629, 33.8959203, 33.8959203, 26.8234472, 26.2540493, 31.9515694, 33.0955793, 25.6242618, 34.6401861, 29.2733964, 25.0750095, 16.3471243, -24.7761086, 33.8959203, 31.9515694, 48.8566969, 31.94696655, 33.8750629, 52.5170365, 33.8959203, 34.6401861, 33.8959203, 26.2540493, 31.9515694, 15.593325, 25.6242618, 30.0443879, 41.3828939, 24.4538352, 25.6242618, 33.8750629, 25.0750095, 34.4453581, 40.325793000000004, 51.0000002, 29.2733964, 49.4871968, 4.136170249999999, 25.3336984, 33.8959203, 33.8750629, 34.6401861, 34.4453581, 40.325793000000004, 26.1551249, -17.3903981, 33.8750629, 33.8959203, 34.6401861, 40.325793000000004, 34.009653, 25.6242618, 7.9897371, 33.8750629, 33.8475632, 33.8959203, 40.325793000000004, 51.5073219, 31.9515694, 25.6242618, 26.1551249, 33.8475632, 29.2733964, 54.7023545, 24.638916, 51.481686499999995, 33.8959203, 33.8959203, 33.8750629, 33.8750629, 31.9515694, 40.325793000000004, 16.3471243, 33.8750629, 46.603354, 33.8750629, 33.6810179, 26.1551249, 25.6242618, 32.6475314, 33.8647483, 31.94696655, 26.2540493, 40.7127281, 33.8959203, 14.5844444, 34.29, 29.2733964, 31.9515694, 43.6434, 48.8566969, 33.8973194, 25.0750095, 33.8959203, 20.2540382, 34.4453581, 33.8750629, 25.6242618, 25.6242618, 33.8750629, 33.8959203, 33.8959203, 50.6402809, 59.3251172, 39.7837304, 45.4972159, 28.0000272, 33.8959203, 31.4770571, 31.1667049, 46.603354, 33.8959203, 40.2253569, 33.7478003, 33.8959203, 33.9842214, 24.638916, 25.6242618, 34.3929847, 34.4453581, 33.2721211, 33.8959203, 34.3879308, 38.9597594, 33.8959203, 33.8750629, 57.7072326, 34.4453581, 40.7127281, 25.0750095, 33.3024309, 26.2540493, 33.8520084, 34.4453581, 25.6242618, 34.009653, 33.8750629, 34.4453581, 33.1189362, 33.8750629, 25.0750095, 38.8949924, 33.5618345, 33.8750629, 26.2540493, 31.5656822, 4.5693754, 31.1667049, 25.6242618], \"legendgroup\": \"\", \"lon\": [35.843409, 35.47843, 35.47843, 35.47843, 35.843409, 35.843409, 35.5970889, 42.3528328, 55.18876088183319, 35.47843, 47.4979476, 47.4979476, 55.18876088183319, 35.47843, 35.843409, 35.5443697, 35.47843, 46.7160104, 35.47843, 35.47843, 31.2357257, -0.1276474, 29.2675469, 46.7160104, 46.7160104, 42.3528328, 42.3528328, 35.843409, 47.4979476, 35.843409, 29.2675469, -71.1056157, 1.8883335, 2.3514616, 35.47843, 44.1749775, 35.47843, 35.843409, 51.2295295, 10.4234469, 36.444056372914844, 29.2675469, 54.3774014, 42.3528328, 35.3780338, 51.5264162, 35.1964023, 42.3528328, 53.9994829, 8.5410422, 34.9249653, 35.8225116, 35.8225116, 50.5344606, 35.843409, 39.1653612, 35.47843, 36.941628, 35.9239625, -100.4458825, 35.843409, 47.4979476, -100.4458825, 35.47843, -107.9917071, 35.5111288, -77.0365581, 12.674297, 28.9651646, 35.47843, 35.47843, 39.0494106, -1.2649062, 35.6540175, 35.6540175, 9.400138, -76.40675880246914, 47.4979476, 36.941628, 47.4979476, 2.3514616, 35.47843, 42.3528328, 3.8767337, -76.40675880246914, 55.18876088183319, 36.941628, 36.444056372914844, -73.6103642, 29.894378, -0.3763353, 34.9249653, 35.47843, 47.4979476, 35.843409, 47.8915271, 33.1451285, 35.843409, 42.3528328, 35.843409, -118.7559974, 4.8320114, 47.4979476, 35.738129, 51.2295295, -81.4639835, 35.47843, 35.9239625, 35.8225116, 29.2675469, -79.3839347, -84.6824346, -118.242766, 35.8967113, 35.47843, 35.84169881903395, 35.8225116, 35.6608634, -75.690308, 35.4825346, 29.2675469, 36.941628, -77.0365581, 10.4234469, 2.9999825, 1.8883335, 42.3528328, 35.8225116, 35.843409, 35.8225116, 47.4979476, 35.4825346, 14.5208584, 35.646448154281956, 35.843409, -76.40675880246914, 35.843409, 35.843409, 55.18876088183319, 35.47843, 35.4932956, 35.8967113, 42.3528328, 46.7020215, 55.18876088183319, 31.2718321, 55.18876088183319, 35.4825346, 58.3829448, 36.3870372, 29.4917691, -107.9917071, -66.1109318, 36.941628, -96.7968559, 55.18876088183319, 35.843409, 34.9249653, 151.2164539, -76.40675880246914, -0.1276474, -0.1276474, -70.8844649, 35.843409, 35.47843, 35.47843, 18.1236723, 29.2675469, 35.9239625, 44.1749775, 42.3528328, 39.0494106, 47.4979476, 55.18876088183319, 47.8915271, 134.755, 35.47843, 35.9239625, 2.3514616, 35.27386547291496, 35.843409, 13.3888599, 35.47843, 39.0494106, 35.47843, 29.2675469, 35.9239625, 32.53565, 42.3528328, 31.2357257, 2.1774322, 54.3774014, 42.3528328, 35.843409, 55.18876088183319, 35.8225116, -76.40675880246914, -109.0000002, 47.4979476, 31.2718321, 9.552427948129282, 51.2295295, 35.47843, 35.843409, 39.0494106, 35.8225116, -76.40675880246914, 50.5344606, -66.1530403, 35.843409, 35.47843, 39.0494106, -76.40675880246914, 36.2117096, 42.3528328, -5.5679458, 35.843409, 35.9027074, 35.47843, -76.40675880246914, -0.1276474, 35.9239625, 42.3528328, 50.5344606, 35.9027074, 47.4979476, -3.2765753, 46.7160104, -0.19196366442110424, 35.47843, 35.47843, 35.843409, 35.843409, 35.9239625, -76.40675880246914, 47.8915271, 35.843409, 1.8883335, 35.843409, 35.84169881903395, 50.5344606, 42.3528328, 54.5643516, 35.5825831, 35.27386547291496, 29.2675469, -74.0060152, 35.47843, 29.4917691, 36.092, 47.4979476, 35.9239625, 1.37799, 2.3514616, 35.5776078, 55.18876088183319, 35.47843, -9.2399263, 35.8225116, 35.843409, 42.3528328, 42.3528328, 35.843409, 35.47843, 35.47843, 4.6667145, 18.0710935, -100.4458825, -73.6103642, 2.9999825, 35.47843, 34.40493124714024, 36.941628, 1.8883335, 35.47843, -82.6881395, 35.5080367, 35.47843, 36.0243148, 46.7160104, 42.3528328, 35.8967113, 35.8225116, 35.1964023, 35.47843, 35.7881306, 34.9249653, 35.47843, 35.843409, 11.9670171, 35.8225116, -74.0060152, 55.18876088183319, 44.3787992, 29.2675469, 35.5111288, 35.8225116, 42.3528328, 36.2117096, 35.843409, 35.8225116, 35.4341129, 35.843409, 55.18876088183319, -77.0365581, 35.3780338, 35.843409, 29.2675469, 74.3141829, 102.2656823, 36.941628, 42.3528328], \"marker\": {\"color\": \"#636efa\", \"size\": [4093, 792, 549, 502, 462, 462, 265, 250, 226, 182, 168, 122, 117, 108, 96, 87, 84, 83, 78, 69, 67, 60, 60, 55, 54, 46, 46, 46, 45, 43, 43, 40, 38, 37, 37, 37, 36, 36, 35, 35, 34, 31, 31, 31, 31, 30, 29, 29, 29, 27, 27, 27, 26, 26, 25, 25, 24, 24, 24, 23, 23, 23, 23, 23, 23, 21, 21, 21, 20, 20, 20, 20, 20, 19, 19, 19, 19, 19, 19, 19, 19, 18, 18, 18, 18, 18, 17, 17, 17, 17, 16, 16, 16, 16, 16, 15, 15, 15, 15, 14, 14, 14, 14, 14, 14, 13, 13, 13, 13, 13, 13, 13, 12, 12, 12, 12, 12, 12, 12, 11, 11, 11, 11, 11, 11, 11, 11, 11, 11, 11, 11, 11, 11, 10, 10, 10, 10, 10, 10, 10, 10, 10, 10, 10, 10, 10, 10, 10, 10, 10, 10, 10, 10, 10, 10, 10, 9, 9, 9, 9, 9, 9, 9, 9, 9, 9, 9, 9, 9, 9, 9, 9, 9, 9, 9, 8, 8, 8, 8, 8, 8, 8, 8, 8, 8, 8, 8, 8, 8, 8, 8, 8, 8, 8, 8, 8, 8, 8, 8, 8, 8, 8, 8, 8, 7, 7, 7, 7, 7, 7, 7, 7, 7, 7, 7, 7, 7, 7, 7, 7, 7, 7, 7, 7, 7, 7, 7, 7, 6, 6, 6, 6, 6, 6, 6, 6, 6, 6, 6, 6, 6, 6, 6, 6, 6, 6, 6, 6, 6, 6, 6, 6, 6, 6, 6, 6, 6, 6, 6, 6, 6, 6, 6, 6, 6, 5, 5, 5, 5, 5, 5, 5, 5, 5, 5, 5, 5, 5, 5, 5, 5, 5, 5, 5, 5, 5, 5, 5, 5, 5, 5, 5, 5, 5, 5, 5, 5, 5, 5, 5, 5, 5, 5, 5, 5, 5, 5, 5, 5, 5, 5, 5], \"sizemode\": \"area\", \"sizeref\": 10.2325}, \"name\": \"\", \"showlegend\": false, \"type\": \"scattergeo\"}],\n",
              "                        {\"coloraxis\": {\"colorbar\": {\"title\": {\"text\": \"sentiment\"}}, \"colorscale\": [[0.0, \"rgb(20, 29, 67)\"], [0.09090909090909091, \"rgb(28, 72, 93)\"], [0.18181818181818182, \"rgb(18, 115, 117)\"], [0.2727272727272727, \"rgb(63, 156, 129)\"], [0.36363636363636365, \"rgb(153, 189, 156)\"], [0.45454545454545453, \"rgb(223, 225, 211)\"], [0.5454545454545454, \"rgb(241, 218, 206)\"], [0.6363636363636364, \"rgb(224, 160, 137)\"], [0.7272727272727273, \"rgb(203, 101, 99)\"], [0.8181818181818182, \"rgb(164, 54, 96)\"], [0.9090909090909091, \"rgb(111, 23, 91)\"], [1.0, \"rgb(51, 13, 53)\"]]}, \"geo\": {\"center\": {}, \"domain\": {\"x\": [0.0, 1.0], \"y\": [0.0, 1.0]}, \"projection\": {\"type\": \"equirectangular\"}, \"showcoastlines\": false, \"showframe\": false}, \"legend\": {\"tracegroupgap\": 0}, \"margin\": {\"t\": 60}, \"template\": {\"data\": {\"bar\": [{\"error_x\": {\"color\": \"#2a3f5f\"}, \"error_y\": {\"color\": \"#2a3f5f\"}, \"marker\": {\"line\": {\"color\": \"#E5ECF6\", \"width\": 0.5}}, \"type\": \"bar\"}], \"barpolar\": [{\"marker\": {\"line\": {\"color\": \"#E5ECF6\", \"width\": 0.5}}, \"type\": \"barpolar\"}], \"carpet\": [{\"aaxis\": {\"endlinecolor\": \"#2a3f5f\", \"gridcolor\": \"white\", \"linecolor\": \"white\", \"minorgridcolor\": \"white\", \"startlinecolor\": \"#2a3f5f\"}, \"baxis\": {\"endlinecolor\": \"#2a3f5f\", \"gridcolor\": \"white\", \"linecolor\": \"white\", \"minorgridcolor\": \"white\", \"startlinecolor\": \"#2a3f5f\"}, \"type\": \"carpet\"}], \"choropleth\": [{\"colorbar\": {\"outlinewidth\": 0, \"ticks\": \"\"}, \"type\": \"choropleth\"}], \"contour\": [{\"colorbar\": {\"outlinewidth\": 0, \"ticks\": \"\"}, \"colorscale\": [[0.0, \"#0d0887\"], [0.1111111111111111, \"#46039f\"], [0.2222222222222222, \"#7201a8\"], [0.3333333333333333, \"#9c179e\"], [0.4444444444444444, \"#bd3786\"], [0.5555555555555556, \"#d8576b\"], [0.6666666666666666, \"#ed7953\"], [0.7777777777777778, \"#fb9f3a\"], [0.8888888888888888, \"#fdca26\"], [1.0, \"#f0f921\"]], \"type\": \"contour\"}], \"contourcarpet\": [{\"colorbar\": {\"outlinewidth\": 0, \"ticks\": \"\"}, \"type\": \"contourcarpet\"}], \"heatmap\": [{\"colorbar\": {\"outlinewidth\": 0, \"ticks\": \"\"}, \"colorscale\": [[0.0, \"#0d0887\"], [0.1111111111111111, \"#46039f\"], [0.2222222222222222, \"#7201a8\"], [0.3333333333333333, \"#9c179e\"], [0.4444444444444444, \"#bd3786\"], [0.5555555555555556, \"#d8576b\"], [0.6666666666666666, \"#ed7953\"], [0.7777777777777778, \"#fb9f3a\"], [0.8888888888888888, \"#fdca26\"], [1.0, \"#f0f921\"]], \"type\": \"heatmap\"}], \"heatmapgl\": [{\"colorbar\": {\"outlinewidth\": 0, \"ticks\": \"\"}, \"colorscale\": [[0.0, \"#0d0887\"], [0.1111111111111111, \"#46039f\"], [0.2222222222222222, \"#7201a8\"], [0.3333333333333333, \"#9c179e\"], [0.4444444444444444, \"#bd3786\"], [0.5555555555555556, \"#d8576b\"], [0.6666666666666666, \"#ed7953\"], [0.7777777777777778, \"#fb9f3a\"], [0.8888888888888888, \"#fdca26\"], [1.0, \"#f0f921\"]], \"type\": \"heatmapgl\"}], \"histogram\": [{\"marker\": {\"colorbar\": {\"outlinewidth\": 0, \"ticks\": \"\"}}, \"type\": \"histogram\"}], \"histogram2d\": [{\"colorbar\": {\"outlinewidth\": 0, \"ticks\": \"\"}, \"colorscale\": [[0.0, \"#0d0887\"], [0.1111111111111111, \"#46039f\"], [0.2222222222222222, \"#7201a8\"], [0.3333333333333333, \"#9c179e\"], [0.4444444444444444, \"#bd3786\"], [0.5555555555555556, \"#d8576b\"], [0.6666666666666666, \"#ed7953\"], [0.7777777777777778, \"#fb9f3a\"], [0.8888888888888888, \"#fdca26\"], [1.0, \"#f0f921\"]], \"type\": \"histogram2d\"}], \"histogram2dcontour\": [{\"colorbar\": {\"outlinewidth\": 0, \"ticks\": \"\"}, \"colorscale\": [[0.0, \"#0d0887\"], [0.1111111111111111, \"#46039f\"], [0.2222222222222222, \"#7201a8\"], [0.3333333333333333, \"#9c179e\"], [0.4444444444444444, \"#bd3786\"], [0.5555555555555556, \"#d8576b\"], [0.6666666666666666, \"#ed7953\"], [0.7777777777777778, \"#fb9f3a\"], [0.8888888888888888, \"#fdca26\"], [1.0, \"#f0f921\"]], \"type\": \"histogram2dcontour\"}], \"mesh3d\": [{\"colorbar\": {\"outlinewidth\": 0, \"ticks\": \"\"}, \"type\": \"mesh3d\"}], \"parcoords\": [{\"line\": {\"colorbar\": {\"outlinewidth\": 0, \"ticks\": \"\"}}, \"type\": \"parcoords\"}], \"pie\": [{\"automargin\": true, \"type\": \"pie\"}], \"scatter\": [{\"marker\": {\"colorbar\": {\"outlinewidth\": 0, \"ticks\": \"\"}}, \"type\": \"scatter\"}], \"scatter3d\": [{\"line\": {\"colorbar\": {\"outlinewidth\": 0, \"ticks\": \"\"}}, \"marker\": {\"colorbar\": {\"outlinewidth\": 0, \"ticks\": \"\"}}, \"type\": \"scatter3d\"}], \"scattercarpet\": [{\"marker\": {\"colorbar\": {\"outlinewidth\": 0, \"ticks\": \"\"}}, \"type\": \"scattercarpet\"}], \"scattergeo\": [{\"marker\": {\"colorbar\": {\"outlinewidth\": 0, \"ticks\": \"\"}}, \"type\": \"scattergeo\"}], \"scattergl\": [{\"marker\": {\"colorbar\": {\"outlinewidth\": 0, \"ticks\": \"\"}}, \"type\": \"scattergl\"}], \"scattermapbox\": [{\"marker\": {\"colorbar\": {\"outlinewidth\": 0, \"ticks\": \"\"}}, \"type\": \"scattermapbox\"}], \"scatterpolar\": [{\"marker\": {\"colorbar\": {\"outlinewidth\": 0, \"ticks\": \"\"}}, \"type\": \"scatterpolar\"}], \"scatterpolargl\": [{\"marker\": {\"colorbar\": {\"outlinewidth\": 0, \"ticks\": \"\"}}, \"type\": \"scatterpolargl\"}], \"scatterternary\": [{\"marker\": {\"colorbar\": {\"outlinewidth\": 0, \"ticks\": \"\"}}, \"type\": \"scatterternary\"}], \"surface\": [{\"colorbar\": {\"outlinewidth\": 0, \"ticks\": \"\"}, \"colorscale\": [[0.0, \"#0d0887\"], [0.1111111111111111, \"#46039f\"], [0.2222222222222222, \"#7201a8\"], [0.3333333333333333, \"#9c179e\"], [0.4444444444444444, \"#bd3786\"], [0.5555555555555556, \"#d8576b\"], [0.6666666666666666, \"#ed7953\"], [0.7777777777777778, \"#fb9f3a\"], [0.8888888888888888, \"#fdca26\"], [1.0, \"#f0f921\"]], \"type\": \"surface\"}], \"table\": [{\"cells\": {\"fill\": {\"color\": \"#EBF0F8\"}, \"line\": {\"color\": \"white\"}}, \"header\": {\"fill\": {\"color\": \"#C8D4E3\"}, \"line\": {\"color\": \"white\"}}, \"type\": \"table\"}]}, \"layout\": {\"annotationdefaults\": {\"arrowcolor\": \"#2a3f5f\", \"arrowhead\": 0, \"arrowwidth\": 1}, \"coloraxis\": {\"colorbar\": {\"outlinewidth\": 0, \"ticks\": \"\"}}, \"colorscale\": {\"diverging\": [[0, \"#8e0152\"], [0.1, \"#c51b7d\"], [0.2, \"#de77ae\"], [0.3, \"#f1b6da\"], [0.4, \"#fde0ef\"], [0.5, \"#f7f7f7\"], [0.6, \"#e6f5d0\"], [0.7, \"#b8e186\"], [0.8, \"#7fbc41\"], [0.9, \"#4d9221\"], [1, \"#276419\"]], \"sequential\": [[0.0, \"#0d0887\"], [0.1111111111111111, \"#46039f\"], [0.2222222222222222, \"#7201a8\"], [0.3333333333333333, \"#9c179e\"], [0.4444444444444444, \"#bd3786\"], [0.5555555555555556, \"#d8576b\"], [0.6666666666666666, \"#ed7953\"], [0.7777777777777778, \"#fb9f3a\"], [0.8888888888888888, \"#fdca26\"], [1.0, \"#f0f921\"]], \"sequentialminus\": [[0.0, \"#0d0887\"], [0.1111111111111111, \"#46039f\"], [0.2222222222222222, \"#7201a8\"], [0.3333333333333333, \"#9c179e\"], [0.4444444444444444, \"#bd3786\"], [0.5555555555555556, \"#d8576b\"], [0.6666666666666666, \"#ed7953\"], [0.7777777777777778, \"#fb9f3a\"], [0.8888888888888888, \"#fdca26\"], [1.0, \"#f0f921\"]]}, \"colorway\": [\"#636efa\", \"#EF553B\", \"#00cc96\", \"#ab63fa\", \"#FFA15A\", \"#19d3f3\", \"#FF6692\", \"#B6E880\", \"#FF97FF\", \"#FECB52\"], \"font\": {\"color\": \"#2a3f5f\"}, \"geo\": {\"bgcolor\": \"white\", \"lakecolor\": \"white\", \"landcolor\": \"#E5ECF6\", \"showlakes\": true, \"showland\": true, \"subunitcolor\": \"white\"}, \"hoverlabel\": {\"align\": \"left\"}, \"hovermode\": \"closest\", \"mapbox\": {\"style\": \"light\"}, \"paper_bgcolor\": \"white\", \"plot_bgcolor\": \"#E5ECF6\", \"polar\": {\"angularaxis\": {\"gridcolor\": \"white\", \"linecolor\": \"white\", \"ticks\": \"\"}, \"bgcolor\": \"#E5ECF6\", \"radialaxis\": {\"gridcolor\": \"white\", \"linecolor\": \"white\", \"ticks\": \"\"}}, \"scene\": {\"xaxis\": {\"backgroundcolor\": \"#E5ECF6\", \"gridcolor\": \"white\", \"gridwidth\": 2, \"linecolor\": \"white\", \"showbackground\": true, \"ticks\": \"\", \"zerolinecolor\": \"white\"}, \"yaxis\": {\"backgroundcolor\": \"#E5ECF6\", \"gridcolor\": \"white\", \"gridwidth\": 2, \"linecolor\": \"white\", \"showbackground\": true, \"ticks\": \"\", \"zerolinecolor\": \"white\"}, \"zaxis\": {\"backgroundcolor\": \"#E5ECF6\", \"gridcolor\": \"white\", \"gridwidth\": 2, \"linecolor\": \"white\", \"showbackground\": true, \"ticks\": \"\", \"zerolinecolor\": \"white\"}}, \"shapedefaults\": {\"line\": {\"color\": \"#2a3f5f\"}}, \"ternary\": {\"aaxis\": {\"gridcolor\": \"white\", \"linecolor\": \"white\", \"ticks\": \"\"}, \"baxis\": {\"gridcolor\": \"white\", \"linecolor\": \"white\", \"ticks\": \"\"}, \"bgcolor\": \"#E5ECF6\", \"caxis\": {\"gridcolor\": \"white\", \"linecolor\": \"white\", \"ticks\": \"\"}}, \"title\": {\"x\": 0.05}, \"xaxis\": {\"automargin\": true, \"gridcolor\": \"white\", \"linecolor\": \"white\", \"ticks\": \"\", \"title\": {\"standoff\": 15}, \"zerolinecolor\": \"white\", \"zerolinewidth\": 2}, \"yaxis\": {\"automargin\": true, \"gridcolor\": \"white\", \"linecolor\": \"white\", \"ticks\": \"\", \"title\": {\"standoff\": 15}, \"zerolinecolor\": \"white\", \"zerolinewidth\": 2}}}, \"title\": {\"text\": \"Distribution of Sentiment and Location of Lebanese Revolution Tweets\"}},\n",
              "                        {\"responsive\": true}\n",
              "                    ).then(function(){\n",
              "                            \n",
              "var gd = document.getElementById('631c9606-2666-4c14-aab0-f21fcbb62948');\n",
              "var x = new MutationObserver(function (mutations, observer) {{\n",
              "        var display = window.getComputedStyle(gd).display;\n",
              "        if (!display || display === 'none') {{\n",
              "            console.log([gd, 'removed!']);\n",
              "            Plotly.purge(gd);\n",
              "            observer.disconnect();\n",
              "        }}\n",
              "}});\n",
              "\n",
              "// Listen for the removal of the full notebook cells\n",
              "var notebookContainer = gd.closest('#notebook-container');\n",
              "if (notebookContainer) {{\n",
              "    x.observe(notebookContainer, {childList: true});\n",
              "}}\n",
              "\n",
              "// Listen for the clearing of the current output cell\n",
              "var outputEl = gd.closest('.output');\n",
              "if (outputEl) {{\n",
              "    x.observe(outputEl, {childList: true});\n",
              "}}\n",
              "\n",
              "                        })\n",
              "                };\n",
              "                \n",
              "            </script>\n",
              "        </div>\n",
              "</body>\n",
              "</html>"
            ]
          },
          "metadata": {
            "tags": []
          }
        }
      ]
    },
    {
      "cell_type": "markdown",
      "metadata": {
        "id": "pA4qfBPiAgqN"
      },
      "source": [
        "# Quote Network and Reply Network\r\n",
        " "
      ]
    },
    {
      "cell_type": "code",
      "metadata": {
        "id": "X0gxfdT2Aj16"
      },
      "source": [
        "import networkx as nx"
      ],
      "execution_count": null,
      "outputs": []
    },
    {
      "cell_type": "code",
      "metadata": {
        "colab": {
          "base_uri": "https://localhost:8080/"
        },
        "id": "-KDtk-A2A2wb",
        "outputId": "ddf207fd-53af-4aff-b2e8-1933232ee52e"
      },
      "source": [
        "dff['tweet_type'].value_counts()"
      ],
      "execution_count": null,
      "outputs": [
        {
          "output_type": "execute_result",
          "data": {
            "text/plain": [
              "tweet    23799\n",
              "quote     2613\n",
              "reply      881\n",
              "Name: tweet_type, dtype: int64"
            ]
          },
          "metadata": {
            "tags": []
          },
          "execution_count": 82
        }
      ]
    },
    {
      "cell_type": "code",
      "metadata": {
        "id": "VbSbEOy1Am-z"
      },
      "source": [
        "d=dff[dff['tweet_type']=='quote']\r\n",
        "d2=dff[dff['tweet_type']=='reply']\r\n",
        "dr=d2[d2.source_id.notnull()].reset_index()\r\n",
        "dquo=d[d.source_id.notnull()].reset_index()\r\n"
      ],
      "execution_count": null,
      "outputs": []
    },
    {
      "cell_type": "code",
      "metadata": {
        "colab": {
          "base_uri": "https://localhost:8080/",
          "height": 479
        },
        "id": "kCKZk2ZGCPCn",
        "outputId": "3dce7cc5-2fdd-419d-aa2b-2118f7adb4eb"
      },
      "source": [
        "dquo.head()"
      ],
      "execution_count": null,
      "outputs": [
        {
          "output_type": "execute_result",
          "data": {
            "text/html": [
              "<div>\n",
              "<style scoped>\n",
              "    .dataframe tbody tr th:only-of-type {\n",
              "        vertical-align: middle;\n",
              "    }\n",
              "\n",
              "    .dataframe tbody tr th {\n",
              "        vertical-align: top;\n",
              "    }\n",
              "\n",
              "    .dataframe thead th {\n",
              "        text-align: right;\n",
              "    }\n",
              "</style>\n",
              "<table border=\"1\" class=\"dataframe\">\n",
              "  <thead>\n",
              "    <tr style=\"text-align: right;\">\n",
              "      <th></th>\n",
              "      <th>index</th>\n",
              "      <th>favorite_count</th>\n",
              "      <th>full_text</th>\n",
              "      <th>hashtags</th>\n",
              "      <th>language</th>\n",
              "      <th>mentions</th>\n",
              "      <th>retweet_count</th>\n",
              "      <th>sentiment</th>\n",
              "      <th>tweet_time</th>\n",
              "      <th>_id</th>\n",
              "      <th>favorite_count</th>\n",
              "      <th>followers_count</th>\n",
              "      <th>following_count</th>\n",
              "      <th>location</th>\n",
              "      <th>name</th>\n",
              "      <th>tweets_count</th>\n",
              "      <th>username</th>\n",
              "      <th>verified</th>\n",
              "      <th>following</th>\n",
              "      <th>account_type</th>\n",
              "      <th>profile_creation_date</th>\n",
              "      <th>source_id</th>\n",
              "      <th>tweet_type</th>\n",
              "    </tr>\n",
              "  </thead>\n",
              "  <tbody>\n",
              "    <tr>\n",
              "      <th>0</th>\n",
              "      <td>2</td>\n",
              "      <td>588.0</td>\n",
              "      <td>قل كلمتك وامشي\\nويلي مش عاجبو بيقدر\\nيبلط البح...</td>\n",
              "      <td>[ثمن_الحرية_غالي]</td>\n",
              "      <td>ar</td>\n",
              "      <td>[]</td>\n",
              "      <td>42.0</td>\n",
              "      <td>negative</td>\n",
              "      <td>2019-10-01 05:12:18</td>\n",
              "      <td>2.426864e+08</td>\n",
              "      <td>22094.0</td>\n",
              "      <td>148652.0</td>\n",
              "      <td>1713.0</td>\n",
              "      <td>Beirut</td>\n",
              "      <td>Yumna Fawaz</td>\n",
              "      <td>24804.0</td>\n",
              "      <td>yumnafawaz</td>\n",
              "      <td>True</td>\n",
              "      <td>[1330714897, 739463311, 963344887, 88226965284...</td>\n",
              "      <td>[Professional User/ TV Channel]</td>\n",
              "      <td>2011-01-25 10:44:41</td>\n",
              "      <td>1.178700e+18</td>\n",
              "      <td>quote</td>\n",
              "    </tr>\n",
              "    <tr>\n",
              "      <th>1</th>\n",
              "      <td>3</td>\n",
              "      <td>10.0</td>\n",
              "      <td>ولا شي بس وصف لواقع في لبنان وغير لبنان</td>\n",
              "      <td>[]</td>\n",
              "      <td>ar</td>\n",
              "      <td>[898854129325543424]</td>\n",
              "      <td>1.0</td>\n",
              "      <td>negative</td>\n",
              "      <td>2019-10-01 05:21:54</td>\n",
              "      <td>2.946252e+09</td>\n",
              "      <td>1697.0</td>\n",
              "      <td>581.0</td>\n",
              "      <td>1460.0</td>\n",
              "      <td>Beirut, LB</td>\n",
              "      <td>Hudz.</td>\n",
              "      <td>1947.0</td>\n",
              "      <td>TheRealHudz</td>\n",
              "      <td>False</td>\n",
              "      <td>[6392972, 856776136398950400, 2330771942, 9384...</td>\n",
              "      <td>[Undefined]</td>\n",
              "      <td>2014-12-28 11:41:36</td>\n",
              "      <td>1.177674e+18</td>\n",
              "      <td>quote</td>\n",
              "    </tr>\n",
              "    <tr>\n",
              "      <th>2</th>\n",
              "      <td>106</td>\n",
              "      <td>1855.0</td>\n",
              "      <td>مهما شنوا من حملات ضدي ومهما قالوا أو كتبوا أو...</td>\n",
              "      <td>[أحداث_اليوم]</td>\n",
              "      <td>ar</td>\n",
              "      <td>[]</td>\n",
              "      <td>226.0</td>\n",
              "      <td>negative</td>\n",
              "      <td>2019-10-01 16:05:32</td>\n",
              "      <td>2.995668e+08</td>\n",
              "      <td>1960.0</td>\n",
              "      <td>284077.0</td>\n",
              "      <td>569.0</td>\n",
              "      <td>NaN</td>\n",
              "      <td>mona saliba</td>\n",
              "      <td>29306.0</td>\n",
              "      <td>monasaliba</td>\n",
              "      <td>True</td>\n",
              "      <td>NaN</td>\n",
              "      <td>[Professional User/ TV Channel]</td>\n",
              "      <td>2011-05-16 09:45:02</td>\n",
              "      <td>1.179635e+18</td>\n",
              "      <td>quote</td>\n",
              "    </tr>\n",
              "    <tr>\n",
              "      <th>3</th>\n",
              "      <td>120</td>\n",
              "      <td>0.0</td>\n",
              "      <td>انا برأيي الدولة تعلي بعد الضرايب على هيك اش...</td>\n",
              "      <td>[]</td>\n",
              "      <td>ar</td>\n",
              "      <td>[286577558]</td>\n",
              "      <td>3.0</td>\n",
              "      <td>negative</td>\n",
              "      <td>2019-10-01 18:31:47</td>\n",
              "      <td>1.634233e+08</td>\n",
              "      <td>4654.0</td>\n",
              "      <td>493.0</td>\n",
              "      <td>511.0</td>\n",
              "      <td>Akkar</td>\n",
              "      <td>Peter</td>\n",
              "      <td>2343.0</td>\n",
              "      <td>ThatsPeter</td>\n",
              "      <td>False</td>\n",
              "      <td>[1099069084694691840, 525550388, 1055478406069...</td>\n",
              "      <td>[Personal User]</td>\n",
              "      <td>2010-07-06 11:22:30</td>\n",
              "      <td>1.179799e+18</td>\n",
              "      <td>quote</td>\n",
              "    </tr>\n",
              "    <tr>\n",
              "      <th>4</th>\n",
              "      <td>129</td>\n",
              "      <td>0.0</td>\n",
              "      <td>حلقة حلوة منى و ال 👍👍</td>\n",
              "      <td>[]</td>\n",
              "      <td>ar</td>\n",
              "      <td>[1194990356082786304, 299566836]</td>\n",
              "      <td>1.0</td>\n",
              "      <td>NaN</td>\n",
              "      <td>2019-10-01 19:37:11</td>\n",
              "      <td>1.165196e+18</td>\n",
              "      <td>2814.0</td>\n",
              "      <td>739.0</td>\n",
              "      <td>705.0</td>\n",
              "      <td>Pandæmonium</td>\n",
              "      <td>Gaelle</td>\n",
              "      <td>1868.0</td>\n",
              "      <td>_succubuslilith</td>\n",
              "      <td>False</td>\n",
              "      <td>[2914026870, 1236639208460222466, 124360406253...</td>\n",
              "      <td>[Personal User]</td>\n",
              "      <td>2019-08-24 09:37:34</td>\n",
              "      <td>1.179515e+18</td>\n",
              "      <td>quote</td>\n",
              "    </tr>\n",
              "  </tbody>\n",
              "</table>\n",
              "</div>"
            ],
            "text/plain": [
              "   index  favorite_count  ...     source_id tweet_type\n",
              "0      2           588.0  ...  1.178700e+18      quote\n",
              "1      3            10.0  ...  1.177674e+18      quote\n",
              "2    106          1855.0  ...  1.179635e+18      quote\n",
              "3    120             0.0  ...  1.179799e+18      quote\n",
              "4    129             0.0  ...  1.179515e+18      quote\n",
              "\n",
              "[5 rows x 23 columns]"
            ]
          },
          "metadata": {
            "tags": []
          },
          "execution_count": 84
        }
      ]
    },
    {
      "cell_type": "code",
      "metadata": {
        "colab": {
          "base_uri": "https://localhost:8080/",
          "height": 496
        },
        "id": "nu2CUMzs2scM",
        "outputId": "48c478d2-88f8-4f1d-e0f4-914dab0354e3"
      },
      "source": [
        "dr.head()"
      ],
      "execution_count": null,
      "outputs": [
        {
          "output_type": "execute_result",
          "data": {
            "text/html": [
              "<div>\n",
              "<style scoped>\n",
              "    .dataframe tbody tr th:only-of-type {\n",
              "        vertical-align: middle;\n",
              "    }\n",
              "\n",
              "    .dataframe tbody tr th {\n",
              "        vertical-align: top;\n",
              "    }\n",
              "\n",
              "    .dataframe thead th {\n",
              "        text-align: right;\n",
              "    }\n",
              "</style>\n",
              "<table border=\"1\" class=\"dataframe\">\n",
              "  <thead>\n",
              "    <tr style=\"text-align: right;\">\n",
              "      <th></th>\n",
              "      <th>index</th>\n",
              "      <th>favorite_count</th>\n",
              "      <th>full_text</th>\n",
              "      <th>hashtags</th>\n",
              "      <th>language</th>\n",
              "      <th>mentions</th>\n",
              "      <th>retweet_count</th>\n",
              "      <th>sentiment</th>\n",
              "      <th>tweet_time</th>\n",
              "      <th>_id</th>\n",
              "      <th>favorite_count</th>\n",
              "      <th>followers_count</th>\n",
              "      <th>following_count</th>\n",
              "      <th>location</th>\n",
              "      <th>name</th>\n",
              "      <th>tweets_count</th>\n",
              "      <th>username</th>\n",
              "      <th>verified</th>\n",
              "      <th>following</th>\n",
              "      <th>account_type</th>\n",
              "      <th>profile_creation_date</th>\n",
              "      <th>source_id</th>\n",
              "      <th>tweet_type</th>\n",
              "    </tr>\n",
              "  </thead>\n",
              "  <tbody>\n",
              "    <tr>\n",
              "      <th>0</th>\n",
              "      <td>5</td>\n",
              "      <td>0.0</td>\n",
              "      <td>إبراهيمكنعان يلي مش قادر يحمل الوضع بالحكومة...</td>\n",
              "      <td>[إبراهيم_كنعان, FEA]</td>\n",
              "      <td>ar</td>\n",
              "      <td>[799868302457704448, 101509033]</td>\n",
              "      <td>260.0</td>\n",
              "      <td>negative</td>\n",
              "      <td>2019-10-01 05:33:11</td>\n",
              "      <td>2.985454e+08</td>\n",
              "      <td>2273.0</td>\n",
              "      <td>224557.0</td>\n",
              "      <td>7723.0</td>\n",
              "      <td>NaN</td>\n",
              "      <td>Bassam Abou Zeid</td>\n",
              "      <td>21567.0</td>\n",
              "      <td>BassamAbouZeid</td>\n",
              "      <td>True</td>\n",
              "      <td>NaN</td>\n",
              "      <td>[Professional User/ TV Channel]</td>\n",
              "      <td>2011-05-14 14:14:19</td>\n",
              "      <td>1.178940e+18</td>\n",
              "      <td>reply</td>\n",
              "    </tr>\n",
              "    <tr>\n",
              "      <th>1</th>\n",
              "      <td>8</td>\n",
              "      <td>574.0</td>\n",
              "      <td>كما قلت معالي الوزير حمادة من مجلس النواب غداة...</td>\n",
              "      <td>[]</td>\n",
              "      <td>ar</td>\n",
              "      <td>[]</td>\n",
              "      <td>46.0</td>\n",
              "      <td>neutral</td>\n",
              "      <td>2019-10-01 06:29:58</td>\n",
              "      <td>1.282980e+09</td>\n",
              "      <td>19176.0</td>\n",
              "      <td>210981.0</td>\n",
              "      <td>867.0</td>\n",
              "      <td>beirut</td>\n",
              "      <td>Ghassan Jawad</td>\n",
              "      <td>21923.0</td>\n",
              "      <td>GhassanJawad1</td>\n",
              "      <td>True</td>\n",
              "      <td>NaN</td>\n",
              "      <td>[Professional User/ TV Channel]</td>\n",
              "      <td>2013-03-20 11:13:58</td>\n",
              "      <td>1.178973e+18</td>\n",
              "      <td>reply</td>\n",
              "    </tr>\n",
              "    <tr>\n",
              "      <th>2</th>\n",
              "      <td>9</td>\n",
              "      <td>143.0</td>\n",
              "      <td>الرئيس عون استقبل الموفد الرسمي لرئيس الوزراء ...</td>\n",
              "      <td>[]</td>\n",
              "      <td>ar</td>\n",
              "      <td>[]</td>\n",
              "      <td>25.0</td>\n",
              "      <td>neutral</td>\n",
              "      <td>2019-10-01 06:44:03</td>\n",
              "      <td>1.282980e+09</td>\n",
              "      <td>19176.0</td>\n",
              "      <td>210981.0</td>\n",
              "      <td>867.0</td>\n",
              "      <td>beirut</td>\n",
              "      <td>Ghassan Jawad</td>\n",
              "      <td>21923.0</td>\n",
              "      <td>GhassanJawad1</td>\n",
              "      <td>True</td>\n",
              "      <td>NaN</td>\n",
              "      <td>[Professional User/ TV Channel]</td>\n",
              "      <td>2013-03-20 11:13:58</td>\n",
              "      <td>1.178986e+18</td>\n",
              "      <td>reply</td>\n",
              "    </tr>\n",
              "    <tr>\n",
              "      <th>3</th>\n",
              "      <td>13</td>\n",
              "      <td>16.0</td>\n",
              "      <td>عطول في محل للتسامح صباح الخير 🌸</td>\n",
              "      <td>[]</td>\n",
              "      <td>ar</td>\n",
              "      <td>[1087124436]</td>\n",
              "      <td>0.0</td>\n",
              "      <td>NaN</td>\n",
              "      <td>2019-10-01 07:07:57</td>\n",
              "      <td>5.371487e+07</td>\n",
              "      <td>18707.0</td>\n",
              "      <td>135200.0</td>\n",
              "      <td>713.0</td>\n",
              "      <td>NaN</td>\n",
              "      <td>Rona Halabi</td>\n",
              "      <td>14284.0</td>\n",
              "      <td>RonaHalabi</td>\n",
              "      <td>True</td>\n",
              "      <td>[3065500501, 467417872, 156292540, 11318931595...</td>\n",
              "      <td>[Personal User]</td>\n",
              "      <td>2009-07-04 17:18:55</td>\n",
              "      <td>1.179000e+18</td>\n",
              "      <td>reply</td>\n",
              "    </tr>\n",
              "    <tr>\n",
              "      <th>4</th>\n",
              "      <td>20</td>\n",
              "      <td>0.0</td>\n",
              "      <td>بالفيديو نانسيعجرم تستضيف الشيف التركي بوراك...</td>\n",
              "      <td>[نانسي_عجرم, بوراك_أوزدمير]</td>\n",
              "      <td>ar</td>\n",
              "      <td>[46863574, 470307418, 479907535]</td>\n",
              "      <td>46.0</td>\n",
              "      <td>neutral</td>\n",
              "      <td>2019-10-01 08:02:21</td>\n",
              "      <td>4.856124e+08</td>\n",
              "      <td>33092.0</td>\n",
              "      <td>255911.0</td>\n",
              "      <td>411.0</td>\n",
              "      <td>NaN</td>\n",
              "      <td>Vera Yammine</td>\n",
              "      <td>32906.0</td>\n",
              "      <td>VeraYammine</td>\n",
              "      <td>True</td>\n",
              "      <td>NaN</td>\n",
              "      <td>[Professional User/ TV Channel]</td>\n",
              "      <td>2012-02-07 11:43:49</td>\n",
              "      <td>1.178965e+18</td>\n",
              "      <td>reply</td>\n",
              "    </tr>\n",
              "  </tbody>\n",
              "</table>\n",
              "</div>"
            ],
            "text/plain": [
              "   index  favorite_count  ...     source_id tweet_type\n",
              "0      5             0.0  ...  1.178940e+18      reply\n",
              "1      8           574.0  ...  1.178973e+18      reply\n",
              "2      9           143.0  ...  1.178986e+18      reply\n",
              "3     13            16.0  ...  1.179000e+18      reply\n",
              "4     20             0.0  ...  1.178965e+18      reply\n",
              "\n",
              "[5 rows x 23 columns]"
            ]
          },
          "metadata": {
            "tags": []
          },
          "execution_count": 85
        }
      ]
    },
    {
      "cell_type": "code",
      "metadata": {
        "id": "I80YDAeQs2y-"
      },
      "source": [
        "source_quo=dquo['source_id']\r\n",
        "source_rep=dr['source_id']"
      ],
      "execution_count": null,
      "outputs": []
    },
    {
      "cell_type": "code",
      "metadata": {
        "id": "_t3L-v7yl3Gw"
      },
      "source": [
        "import tweepy\r\n",
        "import matplotlib.pyplot as plt\r\n"
      ],
      "execution_count": null,
      "outputs": []
    },
    {
      "cell_type": "code",
      "metadata": {
        "id": "Q6Ce3eNyAxCY"
      },
      "source": [
        "G_quo=nx.from_pandas_edgelist(dquo,source='source_id',target='name', create_using=nx.DiGraph())\r\n",
        "G_rep=nx.from_pandas_edgelist(dr, source='source_id', target='name',create_using=nx.DiGraph())"
      ],
      "execution_count": null,
      "outputs": []
    },
    {
      "cell_type": "code",
      "metadata": {
        "colab": {
          "base_uri": "https://localhost:8080/",
          "height": 316
        },
        "id": "nXN-D57Qxknf",
        "outputId": "f6f9a481-5c71-4c47-dcc6-71deeea48dde"
      },
      "source": [
        "sizes= [x[1]*100 for x in G_quo.degree()]\r\n",
        "nx.draw_networkx(G_quo, node_size= sizes, with_labels=False, alpha=0.1)"
      ],
      "execution_count": null,
      "outputs": [
        {
          "output_type": "execute_result",
          "data": {
            "text/plain": [
              "(-1.209414399564266,\n",
              " 1.2038372525572776,\n",
              " -1.2037114742398263,\n",
              " 1.208660149872303)"
            ]
          },
          "metadata": {
            "tags": []
          },
          "execution_count": 89
        },
        {
          "output_type": "display_data",
          "data": {
            "image/png": "[encoded data removed]",
            "text/plain": [
              "<Figure size 432x288 with 1 Axes>"
            ]
          },
          "metadata": {
            "tags": []
          }
        }
      ]
    },
    {
      "cell_type": "code",
      "metadata": {
        "colab": {
          "base_uri": "https://localhost:8080/",
          "height": 316
        },
        "id": "-K0z-j2T0X6M",
        "outputId": "7cd37dac-4b13-4124-b229-46379080f83e"
      },
      "source": [
        "sizes= [x[1]*100 for x in G_rep.degree()]\r\n",
        "nx.draw_networkx(G_rep, node_size= sizes, with_labels=False, alpha=0.1)\r\n",
        "plt.axis('off')"
      ],
      "execution_count": null,
      "outputs": [
        {
          "output_type": "execute_result",
          "data": {
            "text/plain": [
              "(-1.1435452848672867,\n",
              " 1.2036852985620499,\n",
              " -1.1608889555931092,\n",
              " 1.1489871001243592)"
            ]
          },
          "metadata": {
            "tags": []
          },
          "execution_count": 90
        },
        {
          "output_type": "display_data",
          "data": {
            "image/png": "[encoded data removed]",
            "text/plain": [
              "<Figure size 432x288 with 1 Axes>"
            ]
          },
          "metadata": {
            "tags": []
          }
        }
      ]
    }
  ]
}